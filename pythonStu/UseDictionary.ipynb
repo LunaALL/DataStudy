{
 "cells": [
  {
   "cell_type": "code",
   "execution_count": 4,
   "metadata": {
    "collapsed": true,
    "pycharm": {
     "name": "#%%\n"
    }
   },
   "outputs": [
    {
     "name": "stdout",
     "output_type": "stream",
     "text": [
      "{0: '하이군', 1: '헬로우양', 3: '나루톻군'}\n",
      "헬로우양\n"
     ]
    },
    {
     "data": {
      "text/plain": "dict_values(['하이군', '헬로우양', '나루톻군'])"
     },
     "execution_count": 4,
     "metadata": {},
     "output_type": "execute_result"
    }
   ],
   "source": [
    "student={}\n",
    "student[0]=\"하이군\"\n",
    "student[1]=\"헬로우양\"\n",
    "student[2]=\"사이군\"\n",
    "student[3]=\"나루톻군\"\n",
    "\n",
    "del(student[2])\n",
    "\n",
    "print(student)\n",
    "#키로 접근하려면\n",
    "print(student.get(1))\n",
    "\n",
    "#딕셔너리 모든 값 반환\n",
    "student.values()"
   ]
  },
  {
   "cell_type": "code",
   "execution_count": 5,
   "outputs": [
    {
     "data": {
      "text/plain": "dict_items([(0, '하이군'), (1, '헬로우양'), (3, '나루톻군')])"
     },
     "execution_count": 5,
     "metadata": {},
     "output_type": "execute_result"
    }
   ],
   "source": [
    "#딕셔너리 형태로 반환\n",
    "student.items()"
   ],
   "metadata": {
    "collapsed": false,
    "pycharm": {
     "name": "#%%\n"
    }
   }
  },
  {
   "cell_type": "code",
   "execution_count": 6,
   "outputs": [
    {
     "name": "stdout",
     "output_type": "stream",
     "text": [
      "0 : 하이군\n",
      "1 : 헬로우양\n",
      "3 : 나루톻군\n",
      "2 : 하이양\n",
      "4 : 사스케군\n",
      "5 : 데이터분석\n"
     ]
    }
   ],
   "source": [
    "#전부다 가져오기\n",
    "student[2]=\"하이양\"\n",
    "student[4]=\"사스케군\"\n",
    "student[5]=\"데이터분석\"\n",
    "\n",
    "for i in student.keys():\n",
    "    print(\"%s : %s\" %(i, student[i]))\n"
   ],
   "metadata": {
    "collapsed": false,
    "pycharm": {
     "name": "#%%\n"
    }
   }
  }
 ],
 "metadata": {
  "kernelspec": {
   "display_name": "Python 3",
   "language": "python",
   "name": "python3"
  },
  "language_info": {
   "codemirror_mode": {
    "name": "ipython",
    "version": 2
   },
   "file_extension": ".py",
   "mimetype": "text/x-python",
   "name": "python",
   "nbconvert_exporter": "python",
   "pygments_lexer": "ipython2",
   "version": "2.7.6"
  }
 },
 "nbformat": 4,
 "nbformat_minor": 0
}