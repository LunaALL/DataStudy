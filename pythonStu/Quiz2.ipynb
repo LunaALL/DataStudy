{
 "cells": [
  {
   "cell_type": "code",
   "execution_count": 29,
   "outputs": [
    {
     "name": "stdout",
     "output_type": "stream",
     "text": [
      "hong gil dong\n",
      "Hong Gil Dong\n"
     ]
    }
   ],
   "source": [
    "str=' hong gil dong'\n",
    "str=str.lstrip()\n",
    "\n",
    "print(str)\n",
    "print(\"H\"+str[1:4] +\" G\"+str[6:8]+\" D\"+str[10:14] )"
   ],
   "metadata": {
    "collapsed": false,
    "pycharm": {
     "name": "#%%\n"
    }
   }
  },
  {
   "cell_type": "code",
   "execution_count": 30,
   "outputs": [
    {
     "name": "stdout",
     "output_type": "stream",
     "text": [
      "hong gil dong\n",
      "Hong Gil Dong\n"
     ]
    }
   ],
   "source": [
    "str2='hong gil dong '\n",
    "str2=str.rstrip()\n",
    "print(str2)\n",
    "print(\"H\"+str2[1:4] +\" G\"+str2[6:8]+\" D\"+str2[10:14] )\n",
    "\n"
   ],
   "metadata": {
    "collapsed": false,
    "pycharm": {
     "name": "#%%\n"
    }
   }
  }
 ],
 "metadata": {
  "kernelspec": {
   "display_name": "Python 3",
   "language": "python",
   "name": "python3"
  },
  "language_info": {
   "codemirror_mode": {
    "name": "ipython",
    "version": 2
   },
   "file_extension": ".py",
   "mimetype": "text/x-python",
   "name": "python",
   "nbconvert_exporter": "python",
   "pygments_lexer": "ipython2",
   "version": "2.7.6"
  }
 },
 "nbformat": 4,
 "nbformat_minor": 0
}