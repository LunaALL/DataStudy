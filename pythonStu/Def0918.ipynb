{
 "cells": [
  {
   "cell_type": "code",
   "execution_count": 5,
   "metadata": {
    "collapsed": true
   },
   "outputs": [
    {
     "name": "stdout",
     "output_type": "stream",
     "text": [
      "30\n",
      "30\n"
     ]
    }
   ],
   "source": [
    "import random\n",
    "def plus(x,y):\n",
    "    result=x+y\n",
    "    return result\n",
    "\n",
    "print(plus(10,20))\n",
    "\n",
    "def para_allhap(x,y,z=0):\n",
    "    results=x+y+z;\n",
    "    return results\n",
    "\n",
    "#매게 변수의 기본 값 지정하기\n",
    "print(para_allhap(10,20))"
   ]
  },
  {
   "cell_type": "code",
   "execution_count": 7,
   "outputs": [
    {
     "name": "stdout",
     "output_type": "stream",
     "text": [
      "41\n"
     ]
    }
   ],
   "source": [
    "def getrandom():\n",
    "    return random.randrange(1,46)\n",
    "\n",
    "print(getrandom())"
   ],
   "metadata": {
    "collapsed": false,
    "pycharm": {
     "name": "#%%\n"
    }
   }
  },
  {
   "cell_type": "code",
   "execution_count": 5,
   "outputs": [
    {
     "name": "stdout",
     "output_type": "stream",
     "text": [
      "20\n",
      "[7, 11, 23, 25, 43, 44, 60, 82]\n"
     ]
    }
   ],
   "source": [
    "def calc(x,y,zx):\n",
    "    if zx=='*':\n",
    "        print(x*y)\n",
    "calc(10,2,'*')\n",
    "\n",
    "intarr=[7,82,11,23,25,43,44,60]\n",
    "intarr.sort()\n",
    "print(intarr)"
   ],
   "metadata": {
    "collapsed": false,
    "pycharm": {
     "name": "#%%\n"
    }
   }
  }
 ],
 "metadata": {
  "kernelspec": {
   "display_name": "Python 3",
   "language": "python",
   "name": "python3"
  },
  "language_info": {
   "codemirror_mode": {
    "name": "ipython",
    "version": 2
   },
   "file_extension": ".py",
   "mimetype": "text/x-python",
   "name": "python",
   "nbconvert_exporter": "python",
   "pygments_lexer": "ipython2",
   "version": "2.7.6"
  }
 },
 "nbformat": 4,
 "nbformat_minor": 0
}