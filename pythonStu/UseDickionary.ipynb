{
 "cells": [
  {
   "cell_type": "code",
   "execution_count": 3,
   "metadata": {
    "collapsed": true,
    "pycharm": {
     "name": "#%%\n"
    }
   },
   "outputs": [
    {
     "name": "stdout",
     "output_type": "stream",
     "text": [
      "{0: '하이군', 1: '헬로우양', 3: '나루톻군'}\n",
      "헬로우양\n"
     ]
    }
   ],
   "source": [
    "student={}\n",
    "student[0]=\"하이군\"\n",
    "student[1]=\"헬로우양\"\n",
    "student[2]=\"사이군\"\n",
    "student[3]=\"나루톻군\"\n",
    "\n",
    "del(student[2])\n",
    "\n",
    "print(student)\n",
    "#키로 접근하려면\n",
    "print(student.get(1))"
   ]
  }
 ],
 "metadata": {
  "kernelspec": {
   "display_name": "Python 3",
   "language": "python",
   "name": "python3"
  },
  "language_info": {
   "codemirror_mode": {
    "name": "ipython",
    "version": 2
   },
   "file_extension": ".py",
   "mimetype": "text/x-python",
   "name": "python",
   "nbconvert_exporter": "python",
   "pygments_lexer": "ipython2",
   "version": "2.7.6"
  }
 },
 "nbformat": 4,
 "nbformat_minor": 0
}