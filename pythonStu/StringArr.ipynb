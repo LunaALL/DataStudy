{
 "cells": [
  {
   "cell_type": "code",
   "execution_count": 31,
   "metadata": {
    "collapsed": true,
    "pycharm": {
     "name": "#%%\n"
    }
   },
   "outputs": [
    {
     "name": "stdout",
     "output_type": "stream",
     "text": [
      "죠\n",
      "예\n",
      "노\n",
      " \n",
      ".\n",
      "다\n",
      "니\n",
      "입\n",
      "리\n",
      "대\n",
      " \n",
      "는\n",
      "저\n",
      " \n",
      "까\n",
      "니\n",
      "십\n",
      "하\n",
      "녕\n",
      "안\n"
     ]
    }
   ],
   "source": [
    "str = \"안녕하십니까 저는 대리입니다. 노예죠\"\n",
    "count=len(str)\n",
    "\n",
    "for i in range(count-1,-1,-1):\n",
    "    print(str[i])"
   ]
  },
  {
   "cell_type": "code",
   "execution_count": 9,
   "outputs": [
    {
     "name": "stdout",
     "output_type": "stream",
     "text": [
      "문$자$열$을$ $갖$고$노$는$ $여$러$가$지$ $방$법$들$!$"
     ]
    }
   ],
   "source": [
    "ss=\"문자열을 갖고노는 여러가지 방법들!\"\n",
    "\n",
    "sslen=len(ss)\n",
    "for i in range(0, sslen):\n",
    "    print(ss[i]+'$',end='')"
   ],
   "metadata": {
    "collapsed": false,
    "pycharm": {
     "name": "#%%\n"
    }
   }
  },
  {
   "cell_type": "code",
   "execution_count": 21,
   "outputs": [
    {
     "name": "stdout",
     "output_type": "stream",
     "text": [
      "#파#썬#완#재#있#요"
     ]
    }
   ],
   "source": [
    "#Quiz p231, 개행을 원치 않을때 end를 붙힘\n",
    "str=\"파이썬은완전재미있어요\"\n",
    "strlen=len(str)\n",
    "for i in range(0,strlen+1 ):\n",
    "    if(i%2==0):\n",
    "        print(\"#\",end='')\n",
    "        continue\n",
    "    print(str[i-1],end='')"
   ],
   "metadata": {
    "collapsed": false,
    "pycharm": {
     "name": "#%%\n"
    }
   }
  },
  {
   "cell_type": "code",
   "execution_count": 22,
   "outputs": [
    {
     "name": "stdout",
     "output_type": "stream",
     "text": [
      "5\n",
      "Python Is Not Easy. Just Do It Men Gogogogogo\n",
      "14\n",
      "['Python', 'is', 'not', 'easy.', 'just', 'do', 'it', 'men', 'gogogogogo']\n"
     ]
    }
   ],
   "source": [
    "str1=\"Python is not easy. just do it men gogogogogo\"\n",
    "print(str1.count('go'))\n",
    "print(str1.title())\n",
    "print(str1.find('easy'))\n",
    "\n",
    "strsplit=str1.split(\" \")\n",
    "print(strsplit)"
   ],
   "metadata": {
    "collapsed": false,
    "pycharm": {
     "name": "#%%\n"
    }
   }
  }
 ],
 "metadata": {
  "kernelspec": {
   "display_name": "Python 3",
   "language": "python",
   "name": "python3"
  },
  "language_info": {
   "codemirror_mode": {
    "name": "ipython",
    "version": 2
   },
   "file_extension": ".py",
   "mimetype": "text/x-python",
   "name": "python",
   "nbconvert_exporter": "python",
   "pygments_lexer": "ipython2",
   "version": "2.7.6"
  }
 },
 "nbformat": 4,
 "nbformat_minor": 0
}