{
 "cells": [
  {
   "cell_type": "code",
   "execution_count": 5,
   "metadata": {
    "collapsed": true,
    "pycharm": {
     "name": "#%%\n"
    }
   },
   "outputs": [],
   "source": [
    "#json 파일 만들어보기\n",
    "#json은 셋 데이터타입 저장을 지원안함.\n",
    "import json\n",
    "\n",
    "object = [1,\"string\",\"45\",\"사랑\",\"미쳤\",\"hi\",5,20]\n",
    "with open(\"data.json\", \"w\") as out_json:\n",
    "    json.dump(object, out_json, indent=None,sort_keys=False)\n",
    "\n"
   ]
  },
  {
   "cell_type": "code",
   "execution_count": 4,
   "outputs": [
    {
     "name": "stdout",
     "output_type": "stream",
     "text": [
      "[1, 'string', '45', '사랑', '미쳤', 'hi', 5, 20]\n"
     ]
    }
   ],
   "source": [
    "with open(\"data.json\") as in_json:\n",
    "    object1=json.load(in_json)\n",
    "\n",
    "print(object1)"
   ],
   "metadata": {
    "collapsed": false,
    "pycharm": {
     "name": "#%%\n"
    }
   }
  },
  {
   "cell_type": "code",
   "execution_count": 7,
   "outputs": [
    {
     "name": "stdout",
     "output_type": "stream",
     "text": [
      "[1, \"string\", \"45\", \"\\uc0ac\\ub791\", \"\\ubbf8\\ucce4\", \"hi\", 5, 20]\n",
      "[1, 'string', '45', '사랑', '미쳤', 'hi', 5, 20]\n"
     ]
    }
   ],
   "source": [
    "# 객체를 문자열로 직렬화\n",
    "json_string = json.dumps(object1)\n",
    "print(json_string )\n",
    "\n",
    "#문자열을 json으로 파싱\n",
    "object2=json.loads(json_string)\n",
    "print(object2)"
   ],
   "metadata": {
    "collapsed": false,
    "pycharm": {
     "name": "#%%\n"
    }
   }
  }
 ],
 "metadata": {
  "kernelspec": {
   "display_name": "Python 3",
   "language": "python",
   "name": "python3"
  },
  "language_info": {
   "codemirror_mode": {
    "name": "ipython",
    "version": 2
   },
   "file_extension": ".py",
   "mimetype": "text/x-python",
   "name": "python",
   "nbconvert_exporter": "python",
   "pygments_lexer": "ipython2",
   "version": "2.7.6"
  }
 },
 "nbformat": 4,
 "nbformat_minor": 0
}