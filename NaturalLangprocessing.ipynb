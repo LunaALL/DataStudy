{
 "cells": [
  {
   "cell_type": "code",
   "execution_count": 1,
   "metadata": {
    "collapsed": true
   },
   "outputs": [
    {
     "name": "stdout",
     "output_type": "stream",
     "text": [
      "[3, 4, 5, 6, 7, 8, 9, 10, 11, 12]\n"
     ]
    }
   ],
   "source": [
    "arr=[1,2,3,4,5,6,7,8,9,10,11,12]\n",
    "\n",
    "arr2= [x for x in arr[2:]]\n",
    "print(arr2)"
   ]
  },
  {
   "cell_type": "code",
   "execution_count": 6,
   "outputs": [
    {
     "name": "stderr",
     "output_type": "stream",
     "text": [
      "[nltk_data] Downloading package wordnet to\n",
      "[nltk_data]     C:\\Users\\wooju\\AppData\\Roaming\\nltk_data...\n",
      "[nltk_data]   Package wordnet is already up-to-date!\n"
     ]
    },
    {
     "data": {
      "text/plain": "[Synset('cat.n.01'),\n Synset('guy.n.01'),\n Synset('cat.n.03'),\n Synset('kat.n.01'),\n Synset('cat-o'-nine-tails.n.01'),\n Synset('caterpillar.n.02'),\n Synset('big_cat.n.01'),\n Synset('computerized_tomography.n.01'),\n Synset('cat.v.01'),\n Synset('vomit.v.01')]"
     },
     "execution_count": 6,
     "metadata": {},
     "output_type": "execute_result"
    }
   ],
   "source": [
    "import nltk\n",
    "nltk.download(\"wordnet\")\n",
    "wn=nltk.corpus.wordnet\n",
    "wn.synsets(\"cat\")\n"
   ],
   "metadata": {
    "collapsed": false,
    "pycharm": {
     "name": "#%%\n"
    }
   }
  },
  {
   "cell_type": "code",
   "execution_count": 8,
   "outputs": [
    {
     "data": {
      "text/plain": "[Synset('domestic_cat.n.01'), Synset('wildcat.n.03')]"
     },
     "execution_count": 8,
     "metadata": {},
     "output_type": "execute_result"
    }
   ],
   "source": [
    "#https://frhyme.github.io/python-lib/nltk-wordnet/ 참조\n",
    "\n",
    "wn.synsets(\"cats\")\n",
    "\n",
    "wn.synset(\"cat.n.01\").hypernyms()\n",
    "wn.synset(\"cat.n.01\").hyponyms()\n",
    "\n",
    "#상위는 집에서 키우는 고양이 하위는 야생 고양이"
   ],
   "metadata": {
    "collapsed": false,
    "pycharm": {
     "name": "#%%\n"
    }
   }
  },
  {
   "cell_type": "code",
   "execution_count": 14,
   "outputs": [
    {
     "data": {
      "text/plain": "0.07692307692307693"
     },
     "execution_count": 14,
     "metadata": {},
     "output_type": "execute_result"
    }
   ],
   "source": [
    "x=wn.synset(\"cat.n.01\")\n",
    "y=wn.synset(\"cat.n.03\")\n",
    "x.path_similarity(y)"
   ],
   "metadata": {
    "collapsed": false,
    "pycharm": {
     "name": "#%%\n"
    }
   }
  },
  {
   "cell_type": "code",
   "execution_count": 15,
   "outputs": [
    {
     "name": "stdout",
     "output_type": "stream",
     "text": [
      "['an informal term for a youth or man', 'informal term for a man']\n"
     ]
    }
   ],
   "source": [
    "print ( [simxy.definition() for simxy in max(\n",
    "    (x.path_similarity(y),x,y)\n",
    "    for x in wn.synsets('cat')\n",
    "    for y in wn.synsets('dog')\n",
    "    if x.path_similarity(y) ) [1:] ] )\n"
   ],
   "metadata": {
    "collapsed": false,
    "pycharm": {
     "name": "#%%\n"
    }
   }
  }
 ],
 "metadata": {
  "kernelspec": {
   "display_name": "Python 3",
   "language": "python",
   "name": "python3"
  },
  "language_info": {
   "codemirror_mode": {
    "name": "ipython",
    "version": 2
   },
   "file_extension": ".py",
   "mimetype": "text/x-python",
   "name": "python",
   "nbconvert_exporter": "python",
   "pygments_lexer": "ipython2",
   "version": "2.7.6"
  }
 },
 "nbformat": 4,
 "nbformat_minor": 0
}