{
 "cells": [
  {
   "cell_type": "code",
   "execution_count": 3,
   "metadata": {
    "collapsed": true
   },
   "outputs": [],
   "source": [
    "import csv\n",
    "with open(\"Demographic_Statistics_By_Zip_Code.csv\", newline='') as infile:\n",
    "    data = list(csv.reader(infile))"
   ]
  },
  {
   "cell_type": "code",
   "execution_count": 4,
   "outputs": [
    {
     "name": "stdout",
     "output_type": "stream",
     "text": [
      "1\n"
     ]
    }
   ],
   "source": [
    "countParticpantsIndex = data[0].index(\"COUNT PARTICIPANTS\")\n",
    "print(countParticpantsIndex)\n"
   ],
   "metadata": {
    "collapsed": false,
    "pycharm": {
     "name": "#%%\n"
    }
   }
  },
  {
   "cell_type": "code",
   "execution_count": 6,
   "outputs": [
    {
     "name": "stdout",
     "output_type": "stream",
     "text": [
      "[44, 35, 1, 0, 2, 6, 1, 2, 0, 3, 0, 8, 0, 17, 0, 3, 0, 0, 0, 1, 7, 4, 27, 0, 7, 0, 20, 0, 0, 13, 0, 0, 0, 2, 0, 16, 0, 5, 0, 0, 0, 0, 0, 0, 0, 0, 0, 0, 0, 0, 0, 0, 1, 0, 0, 0, 0, 0, 41, 17, 14, 18, 27, 5, 0, 52, 7, 27, 49, 3, 59, 15, 21, 65, 106, 81, 10, 43, 0, 0, 0, 20, 0, 0, 0, 0, 0, 0, 0, 0, 0, 0, 0, 0, 1, 0, 0, 0, 0, 0, 0, 0, 11, 0, 15, 37, 5, 13, 0, 0, 0, 36, 34, 10, 38, 10, 0, 0, 0, 111, 214, 8, 0, 0, 109, 93, 52, 10, 0, 52, 248, 0, 0, 14, 59, 50, 7, 0, 0, 0, 0, 2, 0, 0, 0, 0, 0, 0, 0, 0, 0, 0, 0, 5, 0, 0, 0, 2, 3, 2, 5, 0, 0, 0, 0, 0, 0, 0, 0, 11, 0, 0, 4, 1, 2, 0, 0, 0, 0, 0, 0, 2, 0, 0, 0, 0, 2, 0, 4, 0, 0, 0, 0, 0, 28, 0, 0, 0, 0, 0, 0, 37, 0, 0, 0, 0, 0, 5, 0, 21, 124, 55, 0, 44, 0, 52, 87, 13, 252, 35, 37, 7, 134, 82, 11, 11, 64, 63, 242, 201, 4, 83, 272, 17, 0, 0]\n",
      "17.661016949152543 43.27973735299687\n"
     ]
    }
   ],
   "source": [
    "import statistics\n",
    "countParticipants = [int(row[countParticpantsIndex]) for row in data[1:] ]\n",
    "print(countParticipants)\n",
    "print(statistics.mean(countParticipants), statistics.stdev(countParticipants))\n",
    "\n",
    "\n"
   ],
   "metadata": {
    "collapsed": false,
    "pycharm": {
     "name": "#%%\n"
    }
   }
  }
 ],
 "metadata": {
  "kernelspec": {
   "display_name": "Python 3",
   "language": "python",
   "name": "python3"
  },
  "language_info": {
   "codemirror_mode": {
    "name": "ipython",
    "version": 2
   },
   "file_extension": ".py",
   "mimetype": "text/x-python",
   "name": "python",
   "nbconvert_exporter": "python",
   "pygments_lexer": "ipython2",
   "version": "2.7.6"
  }
 },
 "nbformat": 4,
 "nbformat_minor": 0
}