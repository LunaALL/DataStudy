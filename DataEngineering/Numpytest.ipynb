{
 "cells": [
  {
   "cell_type": "code",
   "execution_count": 1,
   "metadata": {
    "collapsed": true
   },
   "outputs": [
    {
     "data": {
      "text/plain": "1"
     },
     "execution_count": 1,
     "metadata": {},
     "output_type": "execute_result"
    }
   ],
   "source": [
    "import numpy as np\n",
    "numbers=np.array(range(1,11),copy=True)\n",
    "numbers\n",
    "\n",
    "#2행 4열 행렬을(배열) 만들고 0으로 초기화한 초기 배열을 생성\n",
    "zeros = np.zeros([2,4], dtype=np.float64)\n",
    "zeros\n",
    "\n",
    "# 생성시 크기 반환\n",
    "zeros.shape\n",
    "#행 반환 위와 같음\n",
    "numbers.ndim"
   ]
  },
  {
   "cell_type": "code",
   "execution_count": 14,
   "outputs": [
    {
     "data": {
      "text/plain": "array([[1., 0., 0., 0., 0.],\n       [0., 1., 0., 0., 0.],\n       [0., 0., 1., 0., 0.],\n       [0., 0., 0., 1., 0.],\n       [0., 0., 0., 0., 1.]])"
     },
     "execution_count": 14,
     "metadata": {},
     "output_type": "execute_result"
    }
   ],
   "source": [
    "eye= np.eye(5,k=0, dtype=np.float64)\n",
    "eye"
   ],
   "metadata": {
    "collapsed": false,
    "pycharm": {
     "name": "#%%\n"
    }
   }
  },
  {
   "cell_type": "code",
   "execution_count": 15,
   "outputs": [
    {
     "name": "stdout",
     "output_type": "stream",
     "text": [
      " = 8\n"
     ]
    },
    {
     "data": {
      "text/plain": "6"
     },
     "execution_count": 15,
     "metadata": {},
     "output_type": "execute_result"
    }
   ],
   "source": [
    "# 일정한 간격으로 배열된 배열을 만듬. 쓸만하네\n",
    "Spacearr=np.arange(2, 20 , 2)\n",
    "Spacearr\n",
    "print(\" = %d\" % (Spacearr[1]+Spacearr[1]) )\n",
    "IntSpacarr= Spacearr.astype(np.int)\n",
    "IntSpacarr[0]+IntSpacarr[1]\n",
    "\n"
   ],
   "metadata": {
    "collapsed": false,
    "pycharm": {
     "name": "#%%\n"
    }
   }
  },
  {
   "cell_type": "code",
   "execution_count": 5,
   "outputs": [
    {
     "name": "stdout",
     "output_type": "stream",
     "text": [
      "{'a': 'Gi', 'b': 'Gd'}\n"
     ]
    }
   ],
   "source": [
    "Dic13=dict(a=\"Gi\",b=\"Gd\")\n",
    "print(Dic13)"
   ],
   "metadata": {
    "collapsed": false,
    "pycharm": {
     "name": "#%%\n"
    }
   }
  },
  {
   "cell_type": "code",
   "execution_count": 11,
   "outputs": [
    {
     "name": "stdout",
     "output_type": "stream",
     "text": [
      "3333333333\n",
      "==================================================\n"
     ]
    },
    {
     "data": {
      "text/plain": "'ife '"
     },
     "execution_count": 11,
     "metadata": {},
     "output_type": "execute_result"
    }
   ],
   "source": [
    "print(\"3\"*10)\n",
    "print(\"=\"*50)\n",
    "aa=\"=\"*50\n",
    "len(aa)\n",
    "str=\"life is Shit baby.\"\n",
    "str[1:5]"
   ],
   "metadata": {
    "collapsed": false,
    "pycharm": {
     "name": "#%%\n"
    }
   }
  }
 ],
 "metadata": {
  "kernelspec": {
   "display_name": "Python 3",
   "language": "python",
   "name": "python3"
  },
  "language_info": {
   "codemirror_mode": {
    "name": "ipython",
    "version": 2
   },
   "file_extension": ".py",
   "mimetype": "text/x-python",
   "name": "python",
   "nbconvert_exporter": "python",
   "pygments_lexer": "ipython2",
   "version": "2.7.6"
  }
 },
 "nbformat": 4,
 "nbformat_minor": 0
}