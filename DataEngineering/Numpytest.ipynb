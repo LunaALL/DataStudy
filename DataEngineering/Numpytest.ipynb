{
 "cells": [
  {
   "cell_type": "code",
   "execution_count": 4,
   "metadata": {
    "collapsed": true
   },
   "outputs": [
    {
     "name": "stdout",
     "output_type": "stream",
     "text": [
      "[ 9 11  3 42 22]\n"
     ]
    }
   ],
   "source": [
    "import numpy as np\n",
    "numbers=np.array(range(1,11),copy=True)\n",
    "numbers\n",
    "\n",
    "#2행 4열 행렬을(배열) 만들고 0으로 초기화한 초기 배열을 생성\n",
    "zeros = np.zeros([2,4], dtype=np.float64)\n",
    "zeros\n",
    "\n",
    "# 생성시 크기 반환\n",
    "zeros.shape\n",
    "#행 반환 위와 같음\n",
    "numbers.ndim\n",
    "\n",
    "\n",
    "arr1=np.array([9,11,-3,-6,3,42,22,-10])\n",
    "bool1= arr1>0\n",
    "bool1\n",
    "print(arr1[bool1])\n",
    "\n"
   ]
  },
  {
   "cell_type": "code",
   "execution_count": 5,
   "outputs": [
    {
     "data": {
      "text/plain": "array([[1., 0., 0., 0., 0.],\n       [0., 1., 0., 0., 0.],\n       [0., 0., 1., 0., 0.],\n       [0., 0., 0., 1., 0.],\n       [0., 0., 0., 0., 1.]])"
     },
     "execution_count": 5,
     "metadata": {},
     "output_type": "execute_result"
    }
   ],
   "source": [
    "eye= np.eye(5,k=0, dtype=np.float64)\n",
    "eye"
   ],
   "metadata": {
    "collapsed": false,
    "pycharm": {
     "name": "#%%\n"
    }
   }
  },
  {
   "cell_type": "code",
   "execution_count": 4,
   "outputs": [
    {
     "name": "stdout",
     "output_type": "stream",
     "text": [
      " = 8\n"
     ]
    },
    {
     "data": {
      "text/plain": "6"
     },
     "execution_count": 4,
     "metadata": {},
     "output_type": "execute_result"
    }
   ],
   "source": [
    "# 일정한 간격으로 배열된 배열을 만듬. 쓸만하네\n",
    "Spacearr=np.arange(2, 20 , 2)\n",
    "Spacearr\n",
    "print(\" = %d\" % (Spacearr[1]+Spacearr[1]) )\n",
    "IntSpacarr= Spacearr.astype(np.int)\n",
    "IntSpacarr[0]+IntSpacarr[1]\n",
    "\n"
   ],
   "metadata": {
    "collapsed": false,
    "pycharm": {
     "name": "#%%\n"
    }
   }
  },
  {
   "cell_type": "code",
   "execution_count": 4,
   "outputs": [
    {
     "name": "stdout",
     "output_type": "stream",
     "text": [
      "{'a': 'Gi', 'b': 'Gd'}\n"
     ]
    }
   ],
   "source": [
    "Dic13=dict(a=\"Gi\",b=\"Gd\")\n",
    "print(Dic13)"
   ],
   "metadata": {
    "collapsed": false,
    "pycharm": {
     "name": "#%%\n"
    }
   }
  },
  {
   "cell_type": "code",
   "execution_count": 5,
   "outputs": [
    {
     "name": "stdout",
     "output_type": "stream",
     "text": [
      "3333333333\n",
      "==================================================\n"
     ]
    },
    {
     "data": {
      "text/plain": "'ife '"
     },
     "execution_count": 5,
     "metadata": {},
     "output_type": "execute_result"
    }
   ],
   "source": [
    "print(\"3\"*10)\n",
    "print(\"=\"*50)\n",
    "aa=\"=\"*50\n",
    "len(aa)\n",
    "str=\"life is Shit baby.\"\n",
    "str[1:5]"
   ],
   "metadata": {
    "collapsed": false,
    "pycharm": {
     "name": "#%%\n"
    }
   }
  },
  {
   "cell_type": "code",
   "execution_count": 8,
   "outputs": [
    {
     "name": "stdout",
     "output_type": "stream",
     "text": [
      "[0 1 2 3]\n",
      "[1 2 3 4]\n",
      "[1 3 5 7]\n",
      "a*b [ 0  2  6 12]\n"
     ]
    }
   ],
   "source": [
    "#그냥 더하면 된다.\n",
    "a=np.arange(4)\n",
    "print(a)\n",
    "b=np.arange(1,5)\n",
    "print(b)\n",
    "print(a+b)\n",
    "print(\"a*b\" , a*b )"
   ],
   "metadata": {
    "collapsed": false,
    "pycharm": {
     "name": "#%%\n"
    }
   }
  },
  {
   "cell_type": "code",
   "execution_count": 39,
   "outputs": [
    {
     "data": {
      "text/plain": "array([140.49,   0.97,  40.68,  41.53,  55.7 ,  57.21,  98.2 ,  99.19,\n       109.96, 111.47,  35.71,  36.27,  87.85,  89.11,  30.22,  30.91])"
     },
     "execution_count": 39,
     "metadata": {},
     "output_type": "execute_result"
    }
   ],
   "source": [
    "stocks = np.array([140.49, 0.97, 40.68, 41.53, 55.7, 57.21, 98.2,\n",
    "                   99.19, 109.96, 111.47, 35.71, 36.27, 87.85, 89.11, 30.22, 30.91])\n",
    "stocks"
   ],
   "metadata": {
    "collapsed": false,
    "pycharm": {
     "name": "#%%\n"
    }
   }
  },
  {
   "cell_type": "code",
   "execution_count": 40,
   "outputs": [
    {
     "data": {
      "text/plain": "array([[140.49,  40.68,  55.7 ,  98.2 , 109.96,  35.71,  87.85,  30.22],\n       [  0.97,  41.53,  57.21,  99.19, 111.47,  36.27,  89.11,  30.91]])"
     },
     "execution_count": 40,
     "metadata": {},
     "output_type": "execute_result"
    }
   ],
   "source": [
    "#비슷한 값끼리 모음\n",
    "stocks = stocks.reshape(8, 2).T #2행 8열\n",
    "stocks"
   ],
   "metadata": {
    "collapsed": false,
    "pycharm": {
     "name": "#%%\n"
    }
   }
  },
  {
   "cell_type": "code",
   "execution_count": 41,
   "outputs": [
    {
     "data": {
      "text/plain": "array([ True, False, False, False, False, False, False, False])"
     },
     "execution_count": 41,
     "metadata": {},
     "output_type": "execute_result"
    }
   ],
   "source": [
    "fall = np.greater(stocks[0], stocks[1])\n",
    "fall\n"
   ],
   "metadata": {
    "collapsed": false,
    "pycharm": {
     "name": "#%%\n"
    }
   }
  },
  {
   "cell_type": "code",
   "execution_count": 42,
   "outputs": [
    {
     "data": {
      "text/plain": "array([[140.49,  40.68,  55.7 ,  98.2 , 109.96,  35.71,  87.85,  30.22],\n       [  0.  ,  41.53,  57.21,  99.19, 111.47,  36.27,  89.11,  30.91]])"
     },
     "execution_count": 42,
     "metadata": {},
     "output_type": "execute_result"
    }
   ],
   "source": [
    "stocks[1,0]=np.nan\n",
    "np.isnan(stocks)\n",
    "stocks[np.isnan(stocks)]=0\n",
    "stocks"
   ],
   "metadata": {
    "collapsed": false,
    "pycharm": {
     "name": "#%%\n"
    }
   }
  },
  {
   "cell_type": "code",
   "execution_count": 43,
   "outputs": [
    {
     "name": "stdout",
     "output_type": "stream",
     "text": [
      "['MMM' 'ABBV' 'ACE' 'ADBE']\n"
     ]
    }
   ],
   "source": [
    "#어느 주식의 가격이 눈에 띄게 변화했는지 알아보기 위해 작은 가격(1.00달러 미만) 변동을\n",
    "#0으ㅡ로 바꾸고, 0이 아닌 엘리먼트를 찾음.\n",
    "\n",
    "#3항 연산자 사용. 앞이 조건 , 2번째 매개변수는 true일 때, 3번째 매개변수는 false 일때\n",
    "changes=np.where(np.abs(stocks[1]-stocks[0]) > 1.00, stocks[1] - stocks[0],0 )\n",
    "changes\n",
    "\n",
    "sap= np.array([\"MMM\",\"ABT\",\"ABBV\",\"ACN\",\"ACE\",\"ATVI\",\"ADBE\",\"ADT\"])\n",
    "sap[np.nonzero(changes)] # 0이 아닌 해당 주식명만 반환\n",
    "\n",
    "\n",
    "#같은 방법\n",
    "sap=sap[np.abs(stocks[1] - stocks[0]) > 1.00 ]\n",
    "print(sap)\n"
   ],
   "metadata": {
    "collapsed": false,
    "pycharm": {
     "name": "#%%\n"
    }
   }
  },
  {
   "cell_type": "code",
   "execution_count": 44,
   "outputs": [
    {
     "name": "stdout",
     "output_type": "stream",
     "text": [
      "139.52\n"
     ]
    }
   ],
   "source": [
    "#평균수준보다 크게 변화한 주식 찾기\n",
    "stocks = np.array([140.49, 0.97, 40.68, 41.53, 55.7, 57.21, 98.2,\n",
    "                   99.19, 109.96, 111.47, 35.71, 36.27, 87.85, 89.11, 30.22, 30.91])\n",
    "sap= np.array([\"MMM\",\"ABT\",\"ABBV\",\"ACN\",\"ACE\",\"ATVI\",\"ADBE\",\"ADT\"])\n",
    "\n",
    "print(np.mean(np.abs(stocks[0] - stocks[1])) )\n",
    "\n",
    "sap[stocks[1]]\n"
   ],
   "metadata": {
    "collapsed": false,
    "pycharm": {
     "name": "#%%\n"
    }
   }
  },
  {
   "cell_type": "code",
   "execution_count": 45,
   "outputs": [
    {
     "data": {
      "text/plain": "<Figure size 432x288 with 1 Axes>",
      "image/png": "[encoded data removed]"
     },
     "metadata": {},
     "output_type": "display_data"
    }
   ],
   "source": [
    "import numpy as np\n",
    "import matplotlib.pyplot as plt\n",
    "import matplotlib\n",
    "\n",
    "# This is a partial listing\n",
    "RATE = .0375\n",
    "TERM = 30\n",
    "simple =   (     RATE  * np.ones(TERM)).cumsum()\n",
    "compound = ((1 + RATE) * np.ones(TERM)).cumprod() - 1\n",
    "\n",
    "matplotlib.style.use(\"ggplot\")\n",
    "t = np.arange(1, 31)\n",
    "plt.plot(t, compound)\n",
    "plt.plot(t, simple)\n",
    "plt.legend([\"Compound\", \"Simple\"], loc=2)\n",
    "plt.xlabel(\"Year\")\n",
    "plt.ylabel(\"Accrued Interest\")\n",
    "plt.tight_layout()\n",
    "plt.savefig(\"interest.pdf\")"
   ],
   "metadata": {
    "collapsed": false,
    "pycharm": {
     "name": "#%%\n"
    }
   }
  }
 ],
 "metadata": {
  "kernelspec": {
   "display_name": "Python 3",
   "language": "python",
   "name": "python3"
  },
  "language_info": {
   "codemirror_mode": {
    "name": "ipython",
    "version": 2
   },
   "file_extension": ".py",
   "mimetype": "text/x-python",
   "name": "python",
   "nbconvert_exporter": "python",
   "pygments_lexer": "ipython2",
   "version": "2.7.6"
  }
 },
 "nbformat": 4,
 "nbformat_minor": 0
}