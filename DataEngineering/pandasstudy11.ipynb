{
 "cells": [
  {
   "cell_type": "code",
   "execution_count": 3,
   "metadata": {
    "collapsed": true
   },
   "outputs": [
    {
     "data": {
      "text/plain": "0     2.2\n1     3.4\n2     2.8\n3     1.6\n4     2.3\n5     2.7\n6     3.4\n7     3.2\n8     2.8\n9     3.8\n10   -0.4\n11    1.6\n12    3.2\n13    2.1\n14    1.5\n15    1.5\ndtype: float64"
     },
     "execution_count": 3,
     "metadata": {},
     "output_type": "execute_result"
    }
   ],
   "source": [
    "#시리즈: 1차원 벡터. 리스트 , 튜플, 배열등 시퀀스에서 간단하게 만들수 있음\n",
    "import pandas as pd\n",
    "inflation=pd.Series((2.2, 3.4, 2.8, 1.6, 2.3, 2.7, 3.4, 3.2, 2.8, 3.8,\n",
    "-0.4, 1.6, 3.2, 2.1, 1.5, 1.5))\n",
    "inflation\n"
   ]
  },
  {
   "cell_type": "code",
   "execution_count": null,
   "outputs": [],
   "source": [
    "len(inflation)"
   ],
   "metadata": {
    "collapsed": false,
    "pycharm": {
     "name": "#%%\n"
    }
   }
  },
  {
   "cell_type": "code",
   "execution_count": 8,
   "outputs": [
    {
     "data": {
      "text/plain": "1.6"
     },
     "execution_count": 8,
     "metadata": {},
     "output_type": "execute_result"
    }
   ],
   "source": [
    "#시리즈 인덱스별 값\n",
    "inflation.values\n",
    "\n",
    "#시리즈 모든 인덱스\n",
    "inflation.index\n",
    "\n",
    "inflation.index.values\n",
    "\n",
    "#시리즈 마지막 값이 중복되므로 교체\n",
    "inflation[-1]=1.6\n",
    "inflation[-1]"
   ],
   "metadata": {
    "collapsed": false,
    "pycharm": {
     "name": "#%%\n"
    }
   }
  },
  {
   "cell_type": "code",
   "execution_count": 11,
   "outputs": [
    {
     "data": {
      "text/plain": "1999    2.2\n2000    3.4\n2001    2.8\n2002    1.6\n2003    2.3\n2004    2.7\n2005    3.4\n2006    3.2\n2007    2.8\n2008    3.8\n2009   -0.4\n2010    1.6\n2011    3.2\n2012    2.1\n2013    1.5\n2014    1.6\n2015    NaN\ndtype: float64"
     },
     "execution_count": 11,
     "metadata": {},
     "output_type": "execute_result"
    }
   ],
   "source": [
    "import numpy as np\n",
    "#딕셔너리로 이쁘게\n",
    "inflation = pd.Series({1999 : 2.2, 2000 : 3.4, 2001 : 2.8, 2002 : 1.6,\n",
    "                       2003 : 2.3, 2004 : 2.7, 2005 : 3.4, 2006 : 3.2,\n",
    "                       2007 : 2.8, 2008 : 3.8, 2009 : -0.4, 2010 : 1.6, 2011 : 3.2, 2012 : 2.1, 2013 : 1.5, 2014 : 1.6, 2015 : np.nan})\n",
    "\n",
    "inflation"
   ],
   "metadata": {
    "collapsed": false,
    "pycharm": {
     "name": "#%%\n"
    }
   }
  },
  {
   "cell_type": "code",
   "execution_count": 16,
   "outputs": [
    {
     "data": {
      "text/plain": "년도\n1999    2.2\n2000    3.4\n2001    2.8\n2002    1.6\n2003    2.3\n2004    2.7\n2005    3.4\n2006    3.2\n2007    2.8\n2008    3.8\n2009   -0.4\n2010    1.6\n2011    3.2\n2012    2.1\n2013    1.6\n2014    1.5\n2015    NaN\nName: 미국인플레이션 지수, dtype: float64"
     },
     "execution_count": 16,
     "metadata": {},
     "output_type": "execute_result"
    }
   ],
   "source": [
    "#새로운 인덱스를 생성해 기존의 시리즈에 붙히기\n",
    "inflation = pd.Series((2.2, 3.4, 2.8, 1.6, 2.3, 2.7, 3.4, 3.2, 2.8, 3.8,\n",
    "-0.4, 1.6, 3.2, 2.1, 1.6, 1.5))\n",
    "inflation.index = pd.Index(range(1999,2015))\n",
    "inflation\n",
    "inflation[2015]=np.nan\n",
    "\n",
    "inflation.name=\"미국인플레이션 지수\"\n",
    "inflation.index.name=\"년도\"\n",
    "inflation\n"
   ],
   "metadata": {
    "collapsed": false,
    "pycharm": {
     "name": "#%%\n"
    }
   }
  }
 ],
 "metadata": {
  "kernelspec": {
   "display_name": "Python 3",
   "language": "python",
   "name": "python3"
  },
  "language_info": {
   "codemirror_mode": {
    "name": "ipython",
    "version": 2
   },
   "file_extension": ".py",
   "mimetype": "text/x-python",
   "name": "python",
   "nbconvert_exporter": "python",
   "pygments_lexer": "ipython2",
   "version": "2.7.6"
  }
 },
 "nbformat": 4,
 "nbformat_minor": 0
}