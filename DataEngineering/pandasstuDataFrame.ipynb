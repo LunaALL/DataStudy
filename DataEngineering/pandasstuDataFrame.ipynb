{
 "cells": [
  {
   "cell_type": "code",
   "execution_count": 14,
   "metadata": {
    "collapsed": true,
    "pycharm": {
     "name": "#%%\n"
    }
   },
   "outputs": [
    {
     "data": {
      "text/plain": "                      Beer  Wine  Spirits  Total\nState                                           \nAlabama               1.20  0.22     0.58      0\nAlaska                1.31  0.54     1.16      0\nArizona               1.19  0.38     0.74      0\nArkansas              1.07  0.17     0.60      0\nCalifornia            1.05  0.55     0.73      0\nColorado              1.22  0.46     1.00      0\nConnecticut           0.89  0.59     0.86      0\nDelaware              1.31  0.57     1.25      0\nDistrict of Columbia  1.26  1.00     1.64      0\nFlorida               1.21  0.48     0.92      0\nGeorgia               1.08  0.25     0.64      0\nHawaii                1.30  0.53     0.75      0\nIdaho                 1.05  0.92     0.70      0\nIllinois              1.22  0.39     0.73      0\nIndiana               1.09  0.25     0.73      0\nIowa                  1.42  0.18     0.72      0\nKansas                1.18  0.14     0.67      0\nKentucky              1.11  0.18     0.65      0\nLouisiana             1.50  0.28     0.85      0\nMaine                 1.24  0.42     0.83      0\nMaryland              0.97  0.37     0.87      0\nMassachusetts         1.02  0.61     0.84      0\nMichigan              1.10  0.31     0.80      0\nMinnesota             1.19  0.37     1.04      0\nMississippi           1.41  0.11     0.71      0\nMissouri              1.30  0.30     0.83      0\nMontana               1.66  0.45     0.88      0\nNebraska              1.46  0.20     0.68      0\nNevada                1.57  0.58     1.15      0\nNew Hampshire         1.72  0.84     1.82      0\nNew Jersey            0.92  0.57     0.87      0\nNew Mexico            1.37  0.32     0.74      0\nNew York              0.91  0.46     0.69      0\nNorth Carolina        1.10  0.34     0.58      0\nNorth Dakota          1.63  0.25     1.16      0\nOhio                  1.28  0.26     0.47      0\nOklahoma              1.18  0.18     0.58      0\nOregon                1.28  0.49     0.82      0\nPennsylvania          1.35  0.23     0.61      0\nRhode Island          1.10  0.53     0.92      0\nSouth Carolina        1.36  0.24     0.77      0\nSouth Dakota          1.53  0.22     0.88      0\nTennessee             1.05  0.21     0.57      0\nTexas                 1.42  0.28     0.58      0\nUtah                  0.70  0.17     0.46      0\nVermont               1.36  0.63     0.70      0\nVirginia              1.11  0.43     0.59      0\nWashington            1.09  0.51     0.74      0\nWest Virginia         1.24  0.10     0.45      0\nWisconsin             1.49  0.31     1.16      0\nWyoming               1.45  0.22     1.10      0",
      "text/html": "<div>\n<style scoped>\n    .dataframe tbody tr th:only-of-type {\n        vertical-align: middle;\n    }\n\n    .dataframe tbody tr th {\n        vertical-align: top;\n    }\n\n    .dataframe thead th {\n        text-align: right;\n    }\n</style>\n<table border=\"1\" class=\"dataframe\">\n  <thead>\n    <tr style=\"text-align: right;\">\n      <th></th>\n      <th>Beer</th>\n      <th>Wine</th>\n      <th>Spirits</th>\n      <th>Total</th>\n    </tr>\n    <tr>\n      <th>State</th>\n      <th></th>\n      <th></th>\n      <th></th>\n      <th></th>\n    </tr>\n  </thead>\n  <tbody>\n    <tr>\n      <th>Alabama</th>\n      <td>1.20</td>\n      <td>0.22</td>\n      <td>0.58</td>\n      <td>0</td>\n    </tr>\n    <tr>\n      <th>Alaska</th>\n      <td>1.31</td>\n      <td>0.54</td>\n      <td>1.16</td>\n      <td>0</td>\n    </tr>\n    <tr>\n      <th>Arizona</th>\n      <td>1.19</td>\n      <td>0.38</td>\n      <td>0.74</td>\n      <td>0</td>\n    </tr>\n    <tr>\n      <th>Arkansas</th>\n      <td>1.07</td>\n      <td>0.17</td>\n      <td>0.60</td>\n      <td>0</td>\n    </tr>\n    <tr>\n      <th>California</th>\n      <td>1.05</td>\n      <td>0.55</td>\n      <td>0.73</td>\n      <td>0</td>\n    </tr>\n    <tr>\n      <th>Colorado</th>\n      <td>1.22</td>\n      <td>0.46</td>\n      <td>1.00</td>\n      <td>0</td>\n    </tr>\n    <tr>\n      <th>Connecticut</th>\n      <td>0.89</td>\n      <td>0.59</td>\n      <td>0.86</td>\n      <td>0</td>\n    </tr>\n    <tr>\n      <th>Delaware</th>\n      <td>1.31</td>\n      <td>0.57</td>\n      <td>1.25</td>\n      <td>0</td>\n    </tr>\n    <tr>\n      <th>District of Columbia</th>\n      <td>1.26</td>\n      <td>1.00</td>\n      <td>1.64</td>\n      <td>0</td>\n    </tr>\n    <tr>\n      <th>Florida</th>\n      <td>1.21</td>\n      <td>0.48</td>\n      <td>0.92</td>\n      <td>0</td>\n    </tr>\n    <tr>\n      <th>Georgia</th>\n      <td>1.08</td>\n      <td>0.25</td>\n      <td>0.64</td>\n      <td>0</td>\n    </tr>\n    <tr>\n      <th>Hawaii</th>\n      <td>1.30</td>\n      <td>0.53</td>\n      <td>0.75</td>\n      <td>0</td>\n    </tr>\n    <tr>\n      <th>Idaho</th>\n      <td>1.05</td>\n      <td>0.92</td>\n      <td>0.70</td>\n      <td>0</td>\n    </tr>\n    <tr>\n      <th>Illinois</th>\n      <td>1.22</td>\n      <td>0.39</td>\n      <td>0.73</td>\n      <td>0</td>\n    </tr>\n    <tr>\n      <th>Indiana</th>\n      <td>1.09</td>\n      <td>0.25</td>\n      <td>0.73</td>\n      <td>0</td>\n    </tr>\n    <tr>\n      <th>Iowa</th>\n      <td>1.42</td>\n      <td>0.18</td>\n      <td>0.72</td>\n      <td>0</td>\n    </tr>\n    <tr>\n      <th>Kansas</th>\n      <td>1.18</td>\n      <td>0.14</td>\n      <td>0.67</td>\n      <td>0</td>\n    </tr>\n    <tr>\n      <th>Kentucky</th>\n      <td>1.11</td>\n      <td>0.18</td>\n      <td>0.65</td>\n      <td>0</td>\n    </tr>\n    <tr>\n      <th>Louisiana</th>\n      <td>1.50</td>\n      <td>0.28</td>\n      <td>0.85</td>\n      <td>0</td>\n    </tr>\n    <tr>\n      <th>Maine</th>\n      <td>1.24</td>\n      <td>0.42</td>\n      <td>0.83</td>\n      <td>0</td>\n    </tr>\n    <tr>\n      <th>Maryland</th>\n      <td>0.97</td>\n      <td>0.37</td>\n      <td>0.87</td>\n      <td>0</td>\n    </tr>\n    <tr>\n      <th>Massachusetts</th>\n      <td>1.02</td>\n      <td>0.61</td>\n      <td>0.84</td>\n      <td>0</td>\n    </tr>\n    <tr>\n      <th>Michigan</th>\n      <td>1.10</td>\n      <td>0.31</td>\n      <td>0.80</td>\n      <td>0</td>\n    </tr>\n    <tr>\n      <th>Minnesota</th>\n      <td>1.19</td>\n      <td>0.37</td>\n      <td>1.04</td>\n      <td>0</td>\n    </tr>\n    <tr>\n      <th>Mississippi</th>\n      <td>1.41</td>\n      <td>0.11</td>\n      <td>0.71</td>\n      <td>0</td>\n    </tr>\n    <tr>\n      <th>Missouri</th>\n      <td>1.30</td>\n      <td>0.30</td>\n      <td>0.83</td>\n      <td>0</td>\n    </tr>\n    <tr>\n      <th>Montana</th>\n      <td>1.66</td>\n      <td>0.45</td>\n      <td>0.88</td>\n      <td>0</td>\n    </tr>\n    <tr>\n      <th>Nebraska</th>\n      <td>1.46</td>\n      <td>0.20</td>\n      <td>0.68</td>\n      <td>0</td>\n    </tr>\n    <tr>\n      <th>Nevada</th>\n      <td>1.57</td>\n      <td>0.58</td>\n      <td>1.15</td>\n      <td>0</td>\n    </tr>\n    <tr>\n      <th>New Hampshire</th>\n      <td>1.72</td>\n      <td>0.84</td>\n      <td>1.82</td>\n      <td>0</td>\n    </tr>\n    <tr>\n      <th>New Jersey</th>\n      <td>0.92</td>\n      <td>0.57</td>\n      <td>0.87</td>\n      <td>0</td>\n    </tr>\n    <tr>\n      <th>New Mexico</th>\n      <td>1.37</td>\n      <td>0.32</td>\n      <td>0.74</td>\n      <td>0</td>\n    </tr>\n    <tr>\n      <th>New York</th>\n      <td>0.91</td>\n      <td>0.46</td>\n      <td>0.69</td>\n      <td>0</td>\n    </tr>\n    <tr>\n      <th>North Carolina</th>\n      <td>1.10</td>\n      <td>0.34</td>\n      <td>0.58</td>\n      <td>0</td>\n    </tr>\n    <tr>\n      <th>North Dakota</th>\n      <td>1.63</td>\n      <td>0.25</td>\n      <td>1.16</td>\n      <td>0</td>\n    </tr>\n    <tr>\n      <th>Ohio</th>\n      <td>1.28</td>\n      <td>0.26</td>\n      <td>0.47</td>\n      <td>0</td>\n    </tr>\n    <tr>\n      <th>Oklahoma</th>\n      <td>1.18</td>\n      <td>0.18</td>\n      <td>0.58</td>\n      <td>0</td>\n    </tr>\n    <tr>\n      <th>Oregon</th>\n      <td>1.28</td>\n      <td>0.49</td>\n      <td>0.82</td>\n      <td>0</td>\n    </tr>\n    <tr>\n      <th>Pennsylvania</th>\n      <td>1.35</td>\n      <td>0.23</td>\n      <td>0.61</td>\n      <td>0</td>\n    </tr>\n    <tr>\n      <th>Rhode Island</th>\n      <td>1.10</td>\n      <td>0.53</td>\n      <td>0.92</td>\n      <td>0</td>\n    </tr>\n    <tr>\n      <th>South Carolina</th>\n      <td>1.36</td>\n      <td>0.24</td>\n      <td>0.77</td>\n      <td>0</td>\n    </tr>\n    <tr>\n      <th>South Dakota</th>\n      <td>1.53</td>\n      <td>0.22</td>\n      <td>0.88</td>\n      <td>0</td>\n    </tr>\n    <tr>\n      <th>Tennessee</th>\n      <td>1.05</td>\n      <td>0.21</td>\n      <td>0.57</td>\n      <td>0</td>\n    </tr>\n    <tr>\n      <th>Texas</th>\n      <td>1.42</td>\n      <td>0.28</td>\n      <td>0.58</td>\n      <td>0</td>\n    </tr>\n    <tr>\n      <th>Utah</th>\n      <td>0.70</td>\n      <td>0.17</td>\n      <td>0.46</td>\n      <td>0</td>\n    </tr>\n    <tr>\n      <th>Vermont</th>\n      <td>1.36</td>\n      <td>0.63</td>\n      <td>0.70</td>\n      <td>0</td>\n    </tr>\n    <tr>\n      <th>Virginia</th>\n      <td>1.11</td>\n      <td>0.43</td>\n      <td>0.59</td>\n      <td>0</td>\n    </tr>\n    <tr>\n      <th>Washington</th>\n      <td>1.09</td>\n      <td>0.51</td>\n      <td>0.74</td>\n      <td>0</td>\n    </tr>\n    <tr>\n      <th>West Virginia</th>\n      <td>1.24</td>\n      <td>0.10</td>\n      <td>0.45</td>\n      <td>0</td>\n    </tr>\n    <tr>\n      <th>Wisconsin</th>\n      <td>1.49</td>\n      <td>0.31</td>\n      <td>1.16</td>\n      <td>0</td>\n    </tr>\n    <tr>\n      <th>Wyoming</th>\n      <td>1.45</td>\n      <td>0.22</td>\n      <td>1.10</td>\n      <td>0</td>\n    </tr>\n  </tbody>\n</table>\n</div>"
     },
     "execution_count": 14,
     "metadata": {},
     "output_type": "execute_result"
    }
   ],
   "source": [
    "#데이터 프레임: 레이블이 붙은 행과 열로 구성된 테이블\n",
    "import pandas as pd\n",
    "alco2009 = pd.read_csv(\"niaaa-report2009.csv\", index_col=\"State\")\n",
    "alco2009\n",
    "\n",
    "#상위 5개 출력\n",
    "alco2009.head()\n",
    "\n",
    "#Wine, Beer 이란 이름으로 해당 데이터프레임에 속성으로 생성.\n",
    "alco2009[\"Wine\"].head()\n",
    "\n",
    "alco2009.Beer.tail()\n",
    "\n",
    "\n",
    "# 브로드캐스팅. 해당 열을 만들고 모든 행의 값 할당.\n",
    "alco2009[\"Total\"]=0\n",
    "alco2009"
   ]
  },
  {
   "cell_type": "code",
   "execution_count": null,
   "outputs": [],
   "source": [
    "print(alco2009[\"Beer\"] + alco2009[\"Wine\"] + alco2009)"
   ],
   "metadata": {
    "collapsed": false,
    "pycharm": {
     "name": "#%%%\n"
    }
   }
  }
 ],
 "metadata": {
  "kernelspec": {
   "display_name": "Python 3",
   "language": "python",
   "name": "python3"
  },
  "language_info": {
   "codemirror_mode": {
    "name": "ipython",
    "version": 2
   },
   "file_extension": ".py",
   "mimetype": "text/x-python",
   "name": "python",
   "nbconvert_exporter": "python",
   "pygments_lexer": "ipython2",
   "version": "2.7.6"
  }
 },
 "nbformat": 4,
 "nbformat_minor": 0
}