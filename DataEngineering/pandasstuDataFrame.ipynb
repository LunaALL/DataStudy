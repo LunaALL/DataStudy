{
 "cells": [
  {
   "cell_type": "code",
   "execution_count": 1,
   "metadata": {
    "collapsed": true,
    "pycharm": {
     "name": "#%%\n"
    }
   },
   "outputs": [
    {
     "data": {
      "text/plain": "                      Beer  Wine  Spirits  Total\nState                                           \nAlabama               1.20  0.22     0.58      0\nAlaska                1.31  0.54     1.16      0\nArizona               1.19  0.38     0.74      0\nArkansas              1.07  0.17     0.60      0\nCalifornia            1.05  0.55     0.73      0\nColorado              1.22  0.46     1.00      0\nConnecticut           0.89  0.59     0.86      0\nDelaware              1.31  0.57     1.25      0\nDistrict of Columbia  1.26  1.00     1.64      0\nFlorida               1.21  0.48     0.92      0\nGeorgia               1.08  0.25     0.64      0\nHawaii                1.30  0.53     0.75      0\nIdaho                 1.05  0.92     0.70      0\nIllinois              1.22  0.39     0.73      0\nIndiana               1.09  0.25     0.73      0\nIowa                  1.42  0.18     0.72      0\nKansas                1.18  0.14     0.67      0\nKentucky              1.11  0.18     0.65      0\nLouisiana             1.50  0.28     0.85      0\nMaine                 1.24  0.42     0.83      0\nMaryland              0.97  0.37     0.87      0\nMassachusetts         1.02  0.61     0.84      0\nMichigan              1.10  0.31     0.80      0\nMinnesota             1.19  0.37     1.04      0\nMississippi           1.41  0.11     0.71      0\nMissouri              1.30  0.30     0.83      0\nMontana               1.66  0.45     0.88      0\nNebraska              1.46  0.20     0.68      0\nNevada                1.57  0.58     1.15      0\nNew Hampshire         1.72  0.84     1.82      0\nNew Jersey            0.92  0.57     0.87      0\nNew Mexico            1.37  0.32     0.74      0\nNew York              0.91  0.46     0.69      0\nNorth Carolina        1.10  0.34     0.58      0\nNorth Dakota          1.63  0.25     1.16      0\nOhio                  1.28  0.26     0.47      0\nOklahoma              1.18  0.18     0.58      0\nOregon                1.28  0.49     0.82      0\nPennsylvania          1.35  0.23     0.61      0\nRhode Island          1.10  0.53     0.92      0\nSouth Carolina        1.36  0.24     0.77      0\nSouth Dakota          1.53  0.22     0.88      0\nTennessee             1.05  0.21     0.57      0\nTexas                 1.42  0.28     0.58      0\nUtah                  0.70  0.17     0.46      0\nVermont               1.36  0.63     0.70      0\nVirginia              1.11  0.43     0.59      0\nWashington            1.09  0.51     0.74      0\nWest Virginia         1.24  0.10     0.45      0\nWisconsin             1.49  0.31     1.16      0\nWyoming               1.45  0.22     1.10      0",
      "text/html": "<div>\n<style scoped>\n    .dataframe tbody tr th:only-of-type {\n        vertical-align: middle;\n    }\n\n    .dataframe tbody tr th {\n        vertical-align: top;\n    }\n\n    .dataframe thead th {\n        text-align: right;\n    }\n</style>\n<table border=\"1\" class=\"dataframe\">\n  <thead>\n    <tr style=\"text-align: right;\">\n      <th></th>\n      <th>Beer</th>\n      <th>Wine</th>\n      <th>Spirits</th>\n      <th>Total</th>\n    </tr>\n    <tr>\n      <th>State</th>\n      <th></th>\n      <th></th>\n      <th></th>\n      <th></th>\n    </tr>\n  </thead>\n  <tbody>\n    <tr>\n      <th>Alabama</th>\n      <td>1.20</td>\n      <td>0.22</td>\n      <td>0.58</td>\n      <td>0</td>\n    </tr>\n    <tr>\n      <th>Alaska</th>\n      <td>1.31</td>\n      <td>0.54</td>\n      <td>1.16</td>\n      <td>0</td>\n    </tr>\n    <tr>\n      <th>Arizona</th>\n      <td>1.19</td>\n      <td>0.38</td>\n      <td>0.74</td>\n      <td>0</td>\n    </tr>\n    <tr>\n      <th>Arkansas</th>\n      <td>1.07</td>\n      <td>0.17</td>\n      <td>0.60</td>\n      <td>0</td>\n    </tr>\n    <tr>\n      <th>California</th>\n      <td>1.05</td>\n      <td>0.55</td>\n      <td>0.73</td>\n      <td>0</td>\n    </tr>\n    <tr>\n      <th>Colorado</th>\n      <td>1.22</td>\n      <td>0.46</td>\n      <td>1.00</td>\n      <td>0</td>\n    </tr>\n    <tr>\n      <th>Connecticut</th>\n      <td>0.89</td>\n      <td>0.59</td>\n      <td>0.86</td>\n      <td>0</td>\n    </tr>\n    <tr>\n      <th>Delaware</th>\n      <td>1.31</td>\n      <td>0.57</td>\n      <td>1.25</td>\n      <td>0</td>\n    </tr>\n    <tr>\n      <th>District of Columbia</th>\n      <td>1.26</td>\n      <td>1.00</td>\n      <td>1.64</td>\n      <td>0</td>\n    </tr>\n    <tr>\n      <th>Florida</th>\n      <td>1.21</td>\n      <td>0.48</td>\n      <td>0.92</td>\n      <td>0</td>\n    </tr>\n    <tr>\n      <th>Georgia</th>\n      <td>1.08</td>\n      <td>0.25</td>\n      <td>0.64</td>\n      <td>0</td>\n    </tr>\n    <tr>\n      <th>Hawaii</th>\n      <td>1.30</td>\n      <td>0.53</td>\n      <td>0.75</td>\n      <td>0</td>\n    </tr>\n    <tr>\n      <th>Idaho</th>\n      <td>1.05</td>\n      <td>0.92</td>\n      <td>0.70</td>\n      <td>0</td>\n    </tr>\n    <tr>\n      <th>Illinois</th>\n      <td>1.22</td>\n      <td>0.39</td>\n      <td>0.73</td>\n      <td>0</td>\n    </tr>\n    <tr>\n      <th>Indiana</th>\n      <td>1.09</td>\n      <td>0.25</td>\n      <td>0.73</td>\n      <td>0</td>\n    </tr>\n    <tr>\n      <th>Iowa</th>\n      <td>1.42</td>\n      <td>0.18</td>\n      <td>0.72</td>\n      <td>0</td>\n    </tr>\n    <tr>\n      <th>Kansas</th>\n      <td>1.18</td>\n      <td>0.14</td>\n      <td>0.67</td>\n      <td>0</td>\n    </tr>\n    <tr>\n      <th>Kentucky</th>\n      <td>1.11</td>\n      <td>0.18</td>\n      <td>0.65</td>\n      <td>0</td>\n    </tr>\n    <tr>\n      <th>Louisiana</th>\n      <td>1.50</td>\n      <td>0.28</td>\n      <td>0.85</td>\n      <td>0</td>\n    </tr>\n    <tr>\n      <th>Maine</th>\n      <td>1.24</td>\n      <td>0.42</td>\n      <td>0.83</td>\n      <td>0</td>\n    </tr>\n    <tr>\n      <th>Maryland</th>\n      <td>0.97</td>\n      <td>0.37</td>\n      <td>0.87</td>\n      <td>0</td>\n    </tr>\n    <tr>\n      <th>Massachusetts</th>\n      <td>1.02</td>\n      <td>0.61</td>\n      <td>0.84</td>\n      <td>0</td>\n    </tr>\n    <tr>\n      <th>Michigan</th>\n      <td>1.10</td>\n      <td>0.31</td>\n      <td>0.80</td>\n      <td>0</td>\n    </tr>\n    <tr>\n      <th>Minnesota</th>\n      <td>1.19</td>\n      <td>0.37</td>\n      <td>1.04</td>\n      <td>0</td>\n    </tr>\n    <tr>\n      <th>Mississippi</th>\n      <td>1.41</td>\n      <td>0.11</td>\n      <td>0.71</td>\n      <td>0</td>\n    </tr>\n    <tr>\n      <th>Missouri</th>\n      <td>1.30</td>\n      <td>0.30</td>\n      <td>0.83</td>\n      <td>0</td>\n    </tr>\n    <tr>\n      <th>Montana</th>\n      <td>1.66</td>\n      <td>0.45</td>\n      <td>0.88</td>\n      <td>0</td>\n    </tr>\n    <tr>\n      <th>Nebraska</th>\n      <td>1.46</td>\n      <td>0.20</td>\n      <td>0.68</td>\n      <td>0</td>\n    </tr>\n    <tr>\n      <th>Nevada</th>\n      <td>1.57</td>\n      <td>0.58</td>\n      <td>1.15</td>\n      <td>0</td>\n    </tr>\n    <tr>\n      <th>New Hampshire</th>\n      <td>1.72</td>\n      <td>0.84</td>\n      <td>1.82</td>\n      <td>0</td>\n    </tr>\n    <tr>\n      <th>New Jersey</th>\n      <td>0.92</td>\n      <td>0.57</td>\n      <td>0.87</td>\n      <td>0</td>\n    </tr>\n    <tr>\n      <th>New Mexico</th>\n      <td>1.37</td>\n      <td>0.32</td>\n      <td>0.74</td>\n      <td>0</td>\n    </tr>\n    <tr>\n      <th>New York</th>\n      <td>0.91</td>\n      <td>0.46</td>\n      <td>0.69</td>\n      <td>0</td>\n    </tr>\n    <tr>\n      <th>North Carolina</th>\n      <td>1.10</td>\n      <td>0.34</td>\n      <td>0.58</td>\n      <td>0</td>\n    </tr>\n    <tr>\n      <th>North Dakota</th>\n      <td>1.63</td>\n      <td>0.25</td>\n      <td>1.16</td>\n      <td>0</td>\n    </tr>\n    <tr>\n      <th>Ohio</th>\n      <td>1.28</td>\n      <td>0.26</td>\n      <td>0.47</td>\n      <td>0</td>\n    </tr>\n    <tr>\n      <th>Oklahoma</th>\n      <td>1.18</td>\n      <td>0.18</td>\n      <td>0.58</td>\n      <td>0</td>\n    </tr>\n    <tr>\n      <th>Oregon</th>\n      <td>1.28</td>\n      <td>0.49</td>\n      <td>0.82</td>\n      <td>0</td>\n    </tr>\n    <tr>\n      <th>Pennsylvania</th>\n      <td>1.35</td>\n      <td>0.23</td>\n      <td>0.61</td>\n      <td>0</td>\n    </tr>\n    <tr>\n      <th>Rhode Island</th>\n      <td>1.10</td>\n      <td>0.53</td>\n      <td>0.92</td>\n      <td>0</td>\n    </tr>\n    <tr>\n      <th>South Carolina</th>\n      <td>1.36</td>\n      <td>0.24</td>\n      <td>0.77</td>\n      <td>0</td>\n    </tr>\n    <tr>\n      <th>South Dakota</th>\n      <td>1.53</td>\n      <td>0.22</td>\n      <td>0.88</td>\n      <td>0</td>\n    </tr>\n    <tr>\n      <th>Tennessee</th>\n      <td>1.05</td>\n      <td>0.21</td>\n      <td>0.57</td>\n      <td>0</td>\n    </tr>\n    <tr>\n      <th>Texas</th>\n      <td>1.42</td>\n      <td>0.28</td>\n      <td>0.58</td>\n      <td>0</td>\n    </tr>\n    <tr>\n      <th>Utah</th>\n      <td>0.70</td>\n      <td>0.17</td>\n      <td>0.46</td>\n      <td>0</td>\n    </tr>\n    <tr>\n      <th>Vermont</th>\n      <td>1.36</td>\n      <td>0.63</td>\n      <td>0.70</td>\n      <td>0</td>\n    </tr>\n    <tr>\n      <th>Virginia</th>\n      <td>1.11</td>\n      <td>0.43</td>\n      <td>0.59</td>\n      <td>0</td>\n    </tr>\n    <tr>\n      <th>Washington</th>\n      <td>1.09</td>\n      <td>0.51</td>\n      <td>0.74</td>\n      <td>0</td>\n    </tr>\n    <tr>\n      <th>West Virginia</th>\n      <td>1.24</td>\n      <td>0.10</td>\n      <td>0.45</td>\n      <td>0</td>\n    </tr>\n    <tr>\n      <th>Wisconsin</th>\n      <td>1.49</td>\n      <td>0.31</td>\n      <td>1.16</td>\n      <td>0</td>\n    </tr>\n    <tr>\n      <th>Wyoming</th>\n      <td>1.45</td>\n      <td>0.22</td>\n      <td>1.10</td>\n      <td>0</td>\n    </tr>\n  </tbody>\n</table>\n</div>"
     },
     "execution_count": 1,
     "metadata": {},
     "output_type": "execute_result"
    }
   ],
   "source": [
    "#데이터 프레임: 레이블이 붙은 행과 열로 구성된 테이블\n",
    "#미국 각 주별로 주류 소비.csv 파일\n",
    "import pandas as pd\n",
    "alco2009 = pd.read_csv(\"niaaa-report2009.csv\", index_col=\"State\")\n",
    "alco2009\n",
    "\n",
    "#상위 5개 출력\n",
    "alco2009.head()\n",
    "\n",
    "#Wine, Beer 이란 이름으로 해당 데이터프레임에 속성으로 생성.\n",
    "alco2009[\"Wine\"].head()\n",
    "\n",
    "alco2009.Beer.tail()\n",
    "\n",
    "\n",
    "# 브로드캐스팅. 해당 열을 만들고 모든 행의 값 할당.\n",
    "alco2009[\"Total\"]=0\n",
    "alco2009"
   ]
  },
  {
   "cell_type": "code",
   "execution_count": 2,
   "outputs": [
    {
     "data": {
      "text/plain": "                      Beer  Wine  Spirits  Total\nState                                           \nAlabama               1.20  0.22     0.58   2.00\nAlaska                1.31  0.54     1.16   3.01\nArizona               1.19  0.38     0.74   2.31\nArkansas              1.07  0.17     0.60   1.84\nCalifornia            1.05  0.55     0.73   2.33\nColorado              1.22  0.46     1.00   2.68\nConnecticut           0.89  0.59     0.86   2.34\nDelaware              1.31  0.57     1.25   3.13\nDistrict of Columbia  1.26  1.00     1.64   3.90\nFlorida               1.21  0.48     0.92   2.61\nGeorgia               1.08  0.25     0.64   1.97\nHawaii                1.30  0.53     0.75   2.58\nIdaho                 1.05  0.92     0.70   2.67\nIllinois              1.22  0.39     0.73   2.34\nIndiana               1.09  0.25     0.73   2.07\nIowa                  1.42  0.18     0.72   2.32\nKansas                1.18  0.14     0.67   1.99\nKentucky              1.11  0.18     0.65   1.94\nLouisiana             1.50  0.28     0.85   2.63\nMaine                 1.24  0.42     0.83   2.49\nMaryland              0.97  0.37     0.87   2.21\nMassachusetts         1.02  0.61     0.84   2.47\nMichigan              1.10  0.31     0.80   2.21\nMinnesota             1.19  0.37     1.04   2.60\nMississippi           1.41  0.11     0.71   2.23\nMissouri              1.30  0.30     0.83   2.43\nMontana               1.66  0.45     0.88   2.99\nNebraska              1.46  0.20     0.68   2.34\nNevada                1.57  0.58     1.15   3.30\nNew Hampshire         1.72  0.84     1.82   4.38\nNew Jersey            0.92  0.57     0.87   2.36\nNew Mexico            1.37  0.32     0.74   2.43\nNew York              0.91  0.46     0.69   2.06\nNorth Carolina        1.10  0.34     0.58   2.02\nNorth Dakota          1.63  0.25     1.16   3.04\nOhio                  1.28  0.26     0.47   2.01\nOklahoma              1.18  0.18     0.58   1.94\nOregon                1.28  0.49     0.82   2.59\nPennsylvania          1.35  0.23     0.61   2.19\nRhode Island          1.10  0.53     0.92   2.55\nSouth Carolina        1.36  0.24     0.77   2.37\nSouth Dakota          1.53  0.22     0.88   2.63\nTennessee             1.05  0.21     0.57   1.83\nTexas                 1.42  0.28     0.58   2.28\nUtah                  0.70  0.17     0.46   1.33\nVermont               1.36  0.63     0.70   2.69\nVirginia              1.11  0.43     0.59   2.13\nWashington            1.09  0.51     0.74   2.34\nWest Virginia         1.24  0.10     0.45   1.79\nWisconsin             1.49  0.31     1.16   2.96\nWyoming               1.45  0.22     1.10   2.77",
      "text/html": "<div>\n<style scoped>\n    .dataframe tbody tr th:only-of-type {\n        vertical-align: middle;\n    }\n\n    .dataframe tbody tr th {\n        vertical-align: top;\n    }\n\n    .dataframe thead th {\n        text-align: right;\n    }\n</style>\n<table border=\"1\" class=\"dataframe\">\n  <thead>\n    <tr style=\"text-align: right;\">\n      <th></th>\n      <th>Beer</th>\n      <th>Wine</th>\n      <th>Spirits</th>\n      <th>Total</th>\n    </tr>\n    <tr>\n      <th>State</th>\n      <th></th>\n      <th></th>\n      <th></th>\n      <th></th>\n    </tr>\n  </thead>\n  <tbody>\n    <tr>\n      <th>Alabama</th>\n      <td>1.20</td>\n      <td>0.22</td>\n      <td>0.58</td>\n      <td>2.00</td>\n    </tr>\n    <tr>\n      <th>Alaska</th>\n      <td>1.31</td>\n      <td>0.54</td>\n      <td>1.16</td>\n      <td>3.01</td>\n    </tr>\n    <tr>\n      <th>Arizona</th>\n      <td>1.19</td>\n      <td>0.38</td>\n      <td>0.74</td>\n      <td>2.31</td>\n    </tr>\n    <tr>\n      <th>Arkansas</th>\n      <td>1.07</td>\n      <td>0.17</td>\n      <td>0.60</td>\n      <td>1.84</td>\n    </tr>\n    <tr>\n      <th>California</th>\n      <td>1.05</td>\n      <td>0.55</td>\n      <td>0.73</td>\n      <td>2.33</td>\n    </tr>\n    <tr>\n      <th>Colorado</th>\n      <td>1.22</td>\n      <td>0.46</td>\n      <td>1.00</td>\n      <td>2.68</td>\n    </tr>\n    <tr>\n      <th>Connecticut</th>\n      <td>0.89</td>\n      <td>0.59</td>\n      <td>0.86</td>\n      <td>2.34</td>\n    </tr>\n    <tr>\n      <th>Delaware</th>\n      <td>1.31</td>\n      <td>0.57</td>\n      <td>1.25</td>\n      <td>3.13</td>\n    </tr>\n    <tr>\n      <th>District of Columbia</th>\n      <td>1.26</td>\n      <td>1.00</td>\n      <td>1.64</td>\n      <td>3.90</td>\n    </tr>\n    <tr>\n      <th>Florida</th>\n      <td>1.21</td>\n      <td>0.48</td>\n      <td>0.92</td>\n      <td>2.61</td>\n    </tr>\n    <tr>\n      <th>Georgia</th>\n      <td>1.08</td>\n      <td>0.25</td>\n      <td>0.64</td>\n      <td>1.97</td>\n    </tr>\n    <tr>\n      <th>Hawaii</th>\n      <td>1.30</td>\n      <td>0.53</td>\n      <td>0.75</td>\n      <td>2.58</td>\n    </tr>\n    <tr>\n      <th>Idaho</th>\n      <td>1.05</td>\n      <td>0.92</td>\n      <td>0.70</td>\n      <td>2.67</td>\n    </tr>\n    <tr>\n      <th>Illinois</th>\n      <td>1.22</td>\n      <td>0.39</td>\n      <td>0.73</td>\n      <td>2.34</td>\n    </tr>\n    <tr>\n      <th>Indiana</th>\n      <td>1.09</td>\n      <td>0.25</td>\n      <td>0.73</td>\n      <td>2.07</td>\n    </tr>\n    <tr>\n      <th>Iowa</th>\n      <td>1.42</td>\n      <td>0.18</td>\n      <td>0.72</td>\n      <td>2.32</td>\n    </tr>\n    <tr>\n      <th>Kansas</th>\n      <td>1.18</td>\n      <td>0.14</td>\n      <td>0.67</td>\n      <td>1.99</td>\n    </tr>\n    <tr>\n      <th>Kentucky</th>\n      <td>1.11</td>\n      <td>0.18</td>\n      <td>0.65</td>\n      <td>1.94</td>\n    </tr>\n    <tr>\n      <th>Louisiana</th>\n      <td>1.50</td>\n      <td>0.28</td>\n      <td>0.85</td>\n      <td>2.63</td>\n    </tr>\n    <tr>\n      <th>Maine</th>\n      <td>1.24</td>\n      <td>0.42</td>\n      <td>0.83</td>\n      <td>2.49</td>\n    </tr>\n    <tr>\n      <th>Maryland</th>\n      <td>0.97</td>\n      <td>0.37</td>\n      <td>0.87</td>\n      <td>2.21</td>\n    </tr>\n    <tr>\n      <th>Massachusetts</th>\n      <td>1.02</td>\n      <td>0.61</td>\n      <td>0.84</td>\n      <td>2.47</td>\n    </tr>\n    <tr>\n      <th>Michigan</th>\n      <td>1.10</td>\n      <td>0.31</td>\n      <td>0.80</td>\n      <td>2.21</td>\n    </tr>\n    <tr>\n      <th>Minnesota</th>\n      <td>1.19</td>\n      <td>0.37</td>\n      <td>1.04</td>\n      <td>2.60</td>\n    </tr>\n    <tr>\n      <th>Mississippi</th>\n      <td>1.41</td>\n      <td>0.11</td>\n      <td>0.71</td>\n      <td>2.23</td>\n    </tr>\n    <tr>\n      <th>Missouri</th>\n      <td>1.30</td>\n      <td>0.30</td>\n      <td>0.83</td>\n      <td>2.43</td>\n    </tr>\n    <tr>\n      <th>Montana</th>\n      <td>1.66</td>\n      <td>0.45</td>\n      <td>0.88</td>\n      <td>2.99</td>\n    </tr>\n    <tr>\n      <th>Nebraska</th>\n      <td>1.46</td>\n      <td>0.20</td>\n      <td>0.68</td>\n      <td>2.34</td>\n    </tr>\n    <tr>\n      <th>Nevada</th>\n      <td>1.57</td>\n      <td>0.58</td>\n      <td>1.15</td>\n      <td>3.30</td>\n    </tr>\n    <tr>\n      <th>New Hampshire</th>\n      <td>1.72</td>\n      <td>0.84</td>\n      <td>1.82</td>\n      <td>4.38</td>\n    </tr>\n    <tr>\n      <th>New Jersey</th>\n      <td>0.92</td>\n      <td>0.57</td>\n      <td>0.87</td>\n      <td>2.36</td>\n    </tr>\n    <tr>\n      <th>New Mexico</th>\n      <td>1.37</td>\n      <td>0.32</td>\n      <td>0.74</td>\n      <td>2.43</td>\n    </tr>\n    <tr>\n      <th>New York</th>\n      <td>0.91</td>\n      <td>0.46</td>\n      <td>0.69</td>\n      <td>2.06</td>\n    </tr>\n    <tr>\n      <th>North Carolina</th>\n      <td>1.10</td>\n      <td>0.34</td>\n      <td>0.58</td>\n      <td>2.02</td>\n    </tr>\n    <tr>\n      <th>North Dakota</th>\n      <td>1.63</td>\n      <td>0.25</td>\n      <td>1.16</td>\n      <td>3.04</td>\n    </tr>\n    <tr>\n      <th>Ohio</th>\n      <td>1.28</td>\n      <td>0.26</td>\n      <td>0.47</td>\n      <td>2.01</td>\n    </tr>\n    <tr>\n      <th>Oklahoma</th>\n      <td>1.18</td>\n      <td>0.18</td>\n      <td>0.58</td>\n      <td>1.94</td>\n    </tr>\n    <tr>\n      <th>Oregon</th>\n      <td>1.28</td>\n      <td>0.49</td>\n      <td>0.82</td>\n      <td>2.59</td>\n    </tr>\n    <tr>\n      <th>Pennsylvania</th>\n      <td>1.35</td>\n      <td>0.23</td>\n      <td>0.61</td>\n      <td>2.19</td>\n    </tr>\n    <tr>\n      <th>Rhode Island</th>\n      <td>1.10</td>\n      <td>0.53</td>\n      <td>0.92</td>\n      <td>2.55</td>\n    </tr>\n    <tr>\n      <th>South Carolina</th>\n      <td>1.36</td>\n      <td>0.24</td>\n      <td>0.77</td>\n      <td>2.37</td>\n    </tr>\n    <tr>\n      <th>South Dakota</th>\n      <td>1.53</td>\n      <td>0.22</td>\n      <td>0.88</td>\n      <td>2.63</td>\n    </tr>\n    <tr>\n      <th>Tennessee</th>\n      <td>1.05</td>\n      <td>0.21</td>\n      <td>0.57</td>\n      <td>1.83</td>\n    </tr>\n    <tr>\n      <th>Texas</th>\n      <td>1.42</td>\n      <td>0.28</td>\n      <td>0.58</td>\n      <td>2.28</td>\n    </tr>\n    <tr>\n      <th>Utah</th>\n      <td>0.70</td>\n      <td>0.17</td>\n      <td>0.46</td>\n      <td>1.33</td>\n    </tr>\n    <tr>\n      <th>Vermont</th>\n      <td>1.36</td>\n      <td>0.63</td>\n      <td>0.70</td>\n      <td>2.69</td>\n    </tr>\n    <tr>\n      <th>Virginia</th>\n      <td>1.11</td>\n      <td>0.43</td>\n      <td>0.59</td>\n      <td>2.13</td>\n    </tr>\n    <tr>\n      <th>Washington</th>\n      <td>1.09</td>\n      <td>0.51</td>\n      <td>0.74</td>\n      <td>2.34</td>\n    </tr>\n    <tr>\n      <th>West Virginia</th>\n      <td>1.24</td>\n      <td>0.10</td>\n      <td>0.45</td>\n      <td>1.79</td>\n    </tr>\n    <tr>\n      <th>Wisconsin</th>\n      <td>1.49</td>\n      <td>0.31</td>\n      <td>1.16</td>\n      <td>2.96</td>\n    </tr>\n    <tr>\n      <th>Wyoming</th>\n      <td>1.45</td>\n      <td>0.22</td>\n      <td>1.10</td>\n      <td>2.77</td>\n    </tr>\n  </tbody>\n</table>\n</div>"
     },
     "execution_count": 2,
     "metadata": {},
     "output_type": "execute_result"
    }
   ],
   "source": [
    "#csv 파일에 총합 열 만들어보기.\n",
    "\n",
    "hap=alco2009[\"Beer\"] + alco2009[\"Wine\"] + alco2009[\"Spirits\"]\n",
    "alco2009[\"Total\"]=hap\n",
    "alco2009"
   ],
   "metadata": {
    "collapsed": false,
    "pycharm": {
     "name": "#%%%\n"
    }
   }
  },
  {
   "cell_type": "code",
   "execution_count": 17,
   "outputs": [
    {
     "data": {
      "text/plain": "True"
     },
     "execution_count": 17,
     "metadata": {},
     "output_type": "execute_result"
    }
   ],
   "source": [
    "alco2009.columns.values\n",
    "\n",
    "#비어 '열' 컬럼으로 인덱스를 지정\n",
    "alco2009.reset_index().set_index(\"Beer\").head()\n",
    "#원하는 '행' 다가져오기. 모든 열\n",
    "alco2009.loc[\"Alabama\"]\n",
    "\n",
    "\"Utah\" in alco2009.index"
   ],
   "metadata": {
    "collapsed": false,
    "pycharm": {
     "name": "#%%\n"
    }
   }
  },
  {
   "cell_type": "code",
   "execution_count": 7,
   "outputs": [
    {
     "data": {
      "text/plain": "                      Beer  Wine  Spirits\nState                                    \nAlabama               1.20  0.22     0.58\nAlaska                1.31  0.54     1.16\nArizona               1.19  0.38     0.74\nArkansas              1.07  0.17     0.60\nCalifornia            1.05  0.55     0.73\nColorado              1.22  0.46     1.00\nConnecticut           0.89  0.59     0.86\nDelaware              1.31  0.57     1.25\nDistrict of Columbia  1.26  1.00     1.64\nFlorida               1.21  0.48     0.92\nGeorgia               1.08  0.25     0.64\nHawaii                1.30  0.53     0.75\nIdaho                 1.05  0.92     0.70\nIllinois              1.22  0.39     0.73\nIndiana               1.09  0.25     0.73\nIowa                  1.42  0.18     0.72\nKansas                1.18  0.14     0.67\nKentucky              1.11  0.18     0.65\nLouisiana             1.50  0.28     0.85\nMaine                 1.24  0.42     0.83\nMaryland              0.97  0.37     0.87\nMassachusetts         1.02  0.61     0.84\nMichigan              1.10  0.31     0.80\nMinnesota             1.19  0.37     1.04\nMississippi           1.41  0.11     0.71\nMissouri              1.30  0.30     0.83\nMontana               1.66  0.45     0.88\nNebraska              1.46  0.20     0.68\nNevada                1.57  0.58     1.15\nNew Hampshire         1.72  0.84     1.82\nNew Jersey            0.92  0.57     0.87\nNew Mexico            1.37  0.32     0.74\nNew York              0.91  0.46     0.69\nNorth Carolina        1.10  0.34     0.58\nNorth Dakota          1.63  0.25     1.16\nOhio                  1.28  0.26     0.47\nOklahoma              1.18  0.18     0.58\nOregon                1.28  0.49     0.82\nPennsylvania          1.35  0.23     0.61\nRhode Island          1.10  0.53     0.92\nSouth Carolina        1.36  0.24     0.77\nSouth Dakota          1.53  0.22     0.88\nTennessee             1.05  0.21     0.57\nTexas                 1.42  0.28     0.58\nUtah                  0.70  0.17     0.46\nVermont               1.36  0.63     0.70\nVirginia              1.11  0.43     0.59\nWashington            1.09  0.51     0.74\nWest Virginia         1.24  0.10     0.45\nWisconsin             1.49  0.31     1.16\nWyoming               1.45  0.22     1.10",
      "text/html": "<div>\n<style scoped>\n    .dataframe tbody tr th:only-of-type {\n        vertical-align: middle;\n    }\n\n    .dataframe tbody tr th {\n        vertical-align: top;\n    }\n\n    .dataframe thead th {\n        text-align: right;\n    }\n</style>\n<table border=\"1\" class=\"dataframe\">\n  <thead>\n    <tr style=\"text-align: right;\">\n      <th></th>\n      <th>Beer</th>\n      <th>Wine</th>\n      <th>Spirits</th>\n    </tr>\n    <tr>\n      <th>State</th>\n      <th></th>\n      <th></th>\n      <th></th>\n    </tr>\n  </thead>\n  <tbody>\n    <tr>\n      <th>Alabama</th>\n      <td>1.20</td>\n      <td>0.22</td>\n      <td>0.58</td>\n    </tr>\n    <tr>\n      <th>Alaska</th>\n      <td>1.31</td>\n      <td>0.54</td>\n      <td>1.16</td>\n    </tr>\n    <tr>\n      <th>Arizona</th>\n      <td>1.19</td>\n      <td>0.38</td>\n      <td>0.74</td>\n    </tr>\n    <tr>\n      <th>Arkansas</th>\n      <td>1.07</td>\n      <td>0.17</td>\n      <td>0.60</td>\n    </tr>\n    <tr>\n      <th>California</th>\n      <td>1.05</td>\n      <td>0.55</td>\n      <td>0.73</td>\n    </tr>\n    <tr>\n      <th>Colorado</th>\n      <td>1.22</td>\n      <td>0.46</td>\n      <td>1.00</td>\n    </tr>\n    <tr>\n      <th>Connecticut</th>\n      <td>0.89</td>\n      <td>0.59</td>\n      <td>0.86</td>\n    </tr>\n    <tr>\n      <th>Delaware</th>\n      <td>1.31</td>\n      <td>0.57</td>\n      <td>1.25</td>\n    </tr>\n    <tr>\n      <th>District of Columbia</th>\n      <td>1.26</td>\n      <td>1.00</td>\n      <td>1.64</td>\n    </tr>\n    <tr>\n      <th>Florida</th>\n      <td>1.21</td>\n      <td>0.48</td>\n      <td>0.92</td>\n    </tr>\n    <tr>\n      <th>Georgia</th>\n      <td>1.08</td>\n      <td>0.25</td>\n      <td>0.64</td>\n    </tr>\n    <tr>\n      <th>Hawaii</th>\n      <td>1.30</td>\n      <td>0.53</td>\n      <td>0.75</td>\n    </tr>\n    <tr>\n      <th>Idaho</th>\n      <td>1.05</td>\n      <td>0.92</td>\n      <td>0.70</td>\n    </tr>\n    <tr>\n      <th>Illinois</th>\n      <td>1.22</td>\n      <td>0.39</td>\n      <td>0.73</td>\n    </tr>\n    <tr>\n      <th>Indiana</th>\n      <td>1.09</td>\n      <td>0.25</td>\n      <td>0.73</td>\n    </tr>\n    <tr>\n      <th>Iowa</th>\n      <td>1.42</td>\n      <td>0.18</td>\n      <td>0.72</td>\n    </tr>\n    <tr>\n      <th>Kansas</th>\n      <td>1.18</td>\n      <td>0.14</td>\n      <td>0.67</td>\n    </tr>\n    <tr>\n      <th>Kentucky</th>\n      <td>1.11</td>\n      <td>0.18</td>\n      <td>0.65</td>\n    </tr>\n    <tr>\n      <th>Louisiana</th>\n      <td>1.50</td>\n      <td>0.28</td>\n      <td>0.85</td>\n    </tr>\n    <tr>\n      <th>Maine</th>\n      <td>1.24</td>\n      <td>0.42</td>\n      <td>0.83</td>\n    </tr>\n    <tr>\n      <th>Maryland</th>\n      <td>0.97</td>\n      <td>0.37</td>\n      <td>0.87</td>\n    </tr>\n    <tr>\n      <th>Massachusetts</th>\n      <td>1.02</td>\n      <td>0.61</td>\n      <td>0.84</td>\n    </tr>\n    <tr>\n      <th>Michigan</th>\n      <td>1.10</td>\n      <td>0.31</td>\n      <td>0.80</td>\n    </tr>\n    <tr>\n      <th>Minnesota</th>\n      <td>1.19</td>\n      <td>0.37</td>\n      <td>1.04</td>\n    </tr>\n    <tr>\n      <th>Mississippi</th>\n      <td>1.41</td>\n      <td>0.11</td>\n      <td>0.71</td>\n    </tr>\n    <tr>\n      <th>Missouri</th>\n      <td>1.30</td>\n      <td>0.30</td>\n      <td>0.83</td>\n    </tr>\n    <tr>\n      <th>Montana</th>\n      <td>1.66</td>\n      <td>0.45</td>\n      <td>0.88</td>\n    </tr>\n    <tr>\n      <th>Nebraska</th>\n      <td>1.46</td>\n      <td>0.20</td>\n      <td>0.68</td>\n    </tr>\n    <tr>\n      <th>Nevada</th>\n      <td>1.57</td>\n      <td>0.58</td>\n      <td>1.15</td>\n    </tr>\n    <tr>\n      <th>New Hampshire</th>\n      <td>1.72</td>\n      <td>0.84</td>\n      <td>1.82</td>\n    </tr>\n    <tr>\n      <th>New Jersey</th>\n      <td>0.92</td>\n      <td>0.57</td>\n      <td>0.87</td>\n    </tr>\n    <tr>\n      <th>New Mexico</th>\n      <td>1.37</td>\n      <td>0.32</td>\n      <td>0.74</td>\n    </tr>\n    <tr>\n      <th>New York</th>\n      <td>0.91</td>\n      <td>0.46</td>\n      <td>0.69</td>\n    </tr>\n    <tr>\n      <th>North Carolina</th>\n      <td>1.10</td>\n      <td>0.34</td>\n      <td>0.58</td>\n    </tr>\n    <tr>\n      <th>North Dakota</th>\n      <td>1.63</td>\n      <td>0.25</td>\n      <td>1.16</td>\n    </tr>\n    <tr>\n      <th>Ohio</th>\n      <td>1.28</td>\n      <td>0.26</td>\n      <td>0.47</td>\n    </tr>\n    <tr>\n      <th>Oklahoma</th>\n      <td>1.18</td>\n      <td>0.18</td>\n      <td>0.58</td>\n    </tr>\n    <tr>\n      <th>Oregon</th>\n      <td>1.28</td>\n      <td>0.49</td>\n      <td>0.82</td>\n    </tr>\n    <tr>\n      <th>Pennsylvania</th>\n      <td>1.35</td>\n      <td>0.23</td>\n      <td>0.61</td>\n    </tr>\n    <tr>\n      <th>Rhode Island</th>\n      <td>1.10</td>\n      <td>0.53</td>\n      <td>0.92</td>\n    </tr>\n    <tr>\n      <th>South Carolina</th>\n      <td>1.36</td>\n      <td>0.24</td>\n      <td>0.77</td>\n    </tr>\n    <tr>\n      <th>South Dakota</th>\n      <td>1.53</td>\n      <td>0.22</td>\n      <td>0.88</td>\n    </tr>\n    <tr>\n      <th>Tennessee</th>\n      <td>1.05</td>\n      <td>0.21</td>\n      <td>0.57</td>\n    </tr>\n    <tr>\n      <th>Texas</th>\n      <td>1.42</td>\n      <td>0.28</td>\n      <td>0.58</td>\n    </tr>\n    <tr>\n      <th>Utah</th>\n      <td>0.70</td>\n      <td>0.17</td>\n      <td>0.46</td>\n    </tr>\n    <tr>\n      <th>Vermont</th>\n      <td>1.36</td>\n      <td>0.63</td>\n      <td>0.70</td>\n    </tr>\n    <tr>\n      <th>Virginia</th>\n      <td>1.11</td>\n      <td>0.43</td>\n      <td>0.59</td>\n    </tr>\n    <tr>\n      <th>Washington</th>\n      <td>1.09</td>\n      <td>0.51</td>\n      <td>0.74</td>\n    </tr>\n    <tr>\n      <th>West Virginia</th>\n      <td>1.24</td>\n      <td>0.10</td>\n      <td>0.45</td>\n    </tr>\n    <tr>\n      <th>Wisconsin</th>\n      <td>1.49</td>\n      <td>0.31</td>\n      <td>1.16</td>\n    </tr>\n    <tr>\n      <th>Wyoming</th>\n      <td>1.45</td>\n      <td>0.22</td>\n      <td>1.10</td>\n    </tr>\n  </tbody>\n</table>\n</div>"
     },
     "execution_count": 7,
     "metadata": {},
     "output_type": "execute_result"
    }
   ],
   "source": [
    "alco20091=pd.read_csv(\"niaaa-report2009.csv\" , index_col=\"State\")\n",
    "#열이 존재하는지 ?\n",
    "\"Samoa\" in alco20091.index"
   ],
   "metadata": {
    "collapsed": false,
    "pycharm": {
     "name": "#%%\n"
    }
   }
  },
  {
   "cell_type": "code",
   "execution_count": 9,
   "outputs": [
    {
     "data": {
      "text/plain": "                Beer  Wine  Spirits  Water\nState                                     \nSouth Carolina  1.36  0.24     0.77    NaN\nSouth Dakota    1.53  0.22     0.88    NaN\nSamoa            NaN   NaN      NaN    NaN",
      "text/html": "<div>\n<style scoped>\n    .dataframe tbody tr th:only-of-type {\n        vertical-align: middle;\n    }\n\n    .dataframe tbody tr th {\n        vertical-align: top;\n    }\n\n    .dataframe thead th {\n        text-align: right;\n    }\n</style>\n<table border=\"1\" class=\"dataframe\">\n  <thead>\n    <tr style=\"text-align: right;\">\n      <th></th>\n      <th>Beer</th>\n      <th>Wine</th>\n      <th>Spirits</th>\n      <th>Water</th>\n    </tr>\n    <tr>\n      <th>State</th>\n      <th></th>\n      <th></th>\n      <th></th>\n      <th></th>\n    </tr>\n  </thead>\n  <tbody>\n    <tr>\n      <th>South Carolina</th>\n      <td>1.36</td>\n      <td>0.24</td>\n      <td>0.77</td>\n      <td>NaN</td>\n    </tr>\n    <tr>\n      <th>South Dakota</th>\n      <td>1.53</td>\n      <td>0.22</td>\n      <td>0.88</td>\n      <td>NaN</td>\n    </tr>\n    <tr>\n      <th>Samoa</th>\n      <td>NaN</td>\n      <td>NaN</td>\n      <td>NaN</td>\n      <td>NaN</td>\n    </tr>\n  </tbody>\n</table>\n</div>"
     },
     "execution_count": 9,
     "metadata": {},
     "output_type": "execute_result"
    }
   ],
   "source": [
    "#임의의 열을 추가해보자\n",
    "s_states= [state for state in alco20091.index if state[0] == 'S']+[\"Samoa\"]\n",
    "drinks= list(alco20091.columns) + [\"Water\"]\n",
    "nan_alco= alco20091.reindex(s_states, columns=drinks)\n",
    "nan_alco\n"
   ],
   "metadata": {
    "collapsed": false,
    "pycharm": {
     "name": "#%%\n"
    }
   }
  },
  {
   "cell_type": "code",
   "execution_count": 15,
   "outputs": [
    {
     "data": {
      "text/plain": "      Beer  Wine  Spirits\nYear                     \n1977  0.99  0.13     0.84\n1978  0.98  0.12     0.88\n1979  0.98  0.12     0.84\n1980  0.96  0.16     0.74\n1981  1.00  0.19     0.73",
      "text/html": "<div>\n<style scoped>\n    .dataframe tbody tr th:only-of-type {\n        vertical-align: middle;\n    }\n\n    .dataframe tbody tr th {\n        vertical-align: top;\n    }\n\n    .dataframe thead th {\n        text-align: right;\n    }\n</style>\n<table border=\"1\" class=\"dataframe\">\n  <thead>\n    <tr style=\"text-align: right;\">\n      <th></th>\n      <th>Beer</th>\n      <th>Wine</th>\n      <th>Spirits</th>\n    </tr>\n    <tr>\n      <th>Year</th>\n      <th></th>\n      <th></th>\n      <th></th>\n    </tr>\n  </thead>\n  <tbody>\n    <tr>\n      <th>1977</th>\n      <td>0.99</td>\n      <td>0.13</td>\n      <td>0.84</td>\n    </tr>\n    <tr>\n      <th>1978</th>\n      <td>0.98</td>\n      <td>0.12</td>\n      <td>0.88</td>\n    </tr>\n    <tr>\n      <th>1979</th>\n      <td>0.98</td>\n      <td>0.12</td>\n      <td>0.84</td>\n    </tr>\n    <tr>\n      <th>1980</th>\n      <td>0.96</td>\n      <td>0.16</td>\n      <td>0.74</td>\n    </tr>\n    <tr>\n      <th>1981</th>\n      <td>1.00</td>\n      <td>0.19</td>\n      <td>0.73</td>\n    </tr>\n  </tbody>\n</table>\n</div>"
     },
     "execution_count": 15,
     "metadata": {},
     "output_type": "execute_result"
    }
   ],
   "source": [
    "#여러 인덱스를 가진 멀티인덱스들을 처리해보기 (예 도시별 -> 연별 자료)\n",
    "allalco =pd.read_csv(\"niaaa-report.csv\",index_col=[\"State\",\"Year\"])\n",
    "allalco\n",
    "\n",
    "allalco.loc[\"Alabama\"].head()"
   ],
   "metadata": {
    "collapsed": false,
    "pycharm": {
     "name": "#%%\n"
    }
   }
  },
  {
   "cell_type": "code",
   "execution_count": 16,
   "outputs": [
    {
     "data": {
      "text/plain": "State    Year  Drink  \nAlabama  1977  Beer       0.99\n               Wine       0.13\n               Spirits    0.84\n         1978  Beer       0.98\n               Wine       0.12\n               Spirits    0.88\n         1979  Beer       0.98\n               Wine       0.12\n               Spirits    0.84\n         1980  Beer       0.96\ndtype: float64"
     },
     "execution_count": 16,
     "metadata": {},
     "output_type": "execute_result"
    }
   ],
   "source": [
    "#연별로 묶어서 열을 행으로 표현해보자\n",
    "tall_alco=allalco.stack()\n",
    "tall_alco.index.names=[ \"State\",\"Year\",\"Drink\"]\n",
    "tall_alco.head(10)"
   ],
   "metadata": {
    "collapsed": false,
    "pycharm": {
     "name": "#%%\n"
    }
   }
  }
 ],
 "metadata": {
  "kernelspec": {
   "display_name": "Python 3",
   "language": "python",
   "name": "python3"
  },
  "language_info": {
   "codemirror_mode": {
    "name": "ipython",
    "version": 2
   },
   "file_extension": ".py",
   "mimetype": "text/x-python",
   "name": "python",
   "nbconvert_exporter": "python",
   "pygments_lexer": "ipython2",
   "version": "2.7.6"
  }
 },
 "nbformat": 4,
 "nbformat_minor": 0
}