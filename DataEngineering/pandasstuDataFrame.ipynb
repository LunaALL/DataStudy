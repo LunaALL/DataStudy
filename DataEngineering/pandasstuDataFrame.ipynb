{
 "cells": [
  {
   "cell_type": "code",
   "execution_count": 1,
   "metadata": {
    "collapsed": true,
    "pycharm": {
     "name": "#%%\n"
    }
   },
   "outputs": [
    {
     "data": {
      "text/plain": "                      Beer  Wine  Spirits  Total\nState                                           \nAlabama               1.20  0.22     0.58      0\nAlaska                1.31  0.54     1.16      0\nArizona               1.19  0.38     0.74      0\nArkansas              1.07  0.17     0.60      0\nCalifornia            1.05  0.55     0.73      0\nColorado              1.22  0.46     1.00      0\nConnecticut           0.89  0.59     0.86      0\nDelaware              1.31  0.57     1.25      0\nDistrict of Columbia  1.26  1.00     1.64      0\nFlorida               1.21  0.48     0.92      0\nGeorgia               1.08  0.25     0.64      0\nHawaii                1.30  0.53     0.75      0\nIdaho                 1.05  0.92     0.70      0\nIllinois              1.22  0.39     0.73      0\nIndiana               1.09  0.25     0.73      0\nIowa                  1.42  0.18     0.72      0\nKansas                1.18  0.14     0.67      0\nKentucky              1.11  0.18     0.65      0\nLouisiana             1.50  0.28     0.85      0\nMaine                 1.24  0.42     0.83      0\nMaryland              0.97  0.37     0.87      0\nMassachusetts         1.02  0.61     0.84      0\nMichigan              1.10  0.31     0.80      0\nMinnesota             1.19  0.37     1.04      0\nMississippi           1.41  0.11     0.71      0\nMissouri              1.30  0.30     0.83      0\nMontana               1.66  0.45     0.88      0\nNebraska              1.46  0.20     0.68      0\nNevada                1.57  0.58     1.15      0\nNew Hampshire         1.72  0.84     1.82      0\nNew Jersey            0.92  0.57     0.87      0\nNew Mexico            1.37  0.32     0.74      0\nNew York              0.91  0.46     0.69      0\nNorth Carolina        1.10  0.34     0.58      0\nNorth Dakota          1.63  0.25     1.16      0\nOhio                  1.28  0.26     0.47      0\nOklahoma              1.18  0.18     0.58      0\nOregon                1.28  0.49     0.82      0\nPennsylvania          1.35  0.23     0.61      0\nRhode Island          1.10  0.53     0.92      0\nSouth Carolina        1.36  0.24     0.77      0\nSouth Dakota          1.53  0.22     0.88      0\nTennessee             1.05  0.21     0.57      0\nTexas                 1.42  0.28     0.58      0\nUtah                  0.70  0.17     0.46      0\nVermont               1.36  0.63     0.70      0\nVirginia              1.11  0.43     0.59      0\nWashington            1.09  0.51     0.74      0\nWest Virginia         1.24  0.10     0.45      0\nWisconsin             1.49  0.31     1.16      0\nWyoming               1.45  0.22     1.10      0",
      "text/html": "<div>\n<style scoped>\n    .dataframe tbody tr th:only-of-type {\n        vertical-align: middle;\n    }\n\n    .dataframe tbody tr th {\n        vertical-align: top;\n    }\n\n    .dataframe thead th {\n        text-align: right;\n    }\n</style>\n<table border=\"1\" class=\"dataframe\">\n  <thead>\n    <tr style=\"text-align: right;\">\n      <th></th>\n      <th>Beer</th>\n      <th>Wine</th>\n      <th>Spirits</th>\n      <th>Total</th>\n    </tr>\n    <tr>\n      <th>State</th>\n      <th></th>\n      <th></th>\n      <th></th>\n      <th></th>\n    </tr>\n  </thead>\n  <tbody>\n    <tr>\n      <th>Alabama</th>\n      <td>1.20</td>\n      <td>0.22</td>\n      <td>0.58</td>\n      <td>0</td>\n    </tr>\n    <tr>\n      <th>Alaska</th>\n      <td>1.31</td>\n      <td>0.54</td>\n      <td>1.16</td>\n      <td>0</td>\n    </tr>\n    <tr>\n      <th>Arizona</th>\n      <td>1.19</td>\n      <td>0.38</td>\n      <td>0.74</td>\n      <td>0</td>\n    </tr>\n    <tr>\n      <th>Arkansas</th>\n      <td>1.07</td>\n      <td>0.17</td>\n      <td>0.60</td>\n      <td>0</td>\n    </tr>\n    <tr>\n      <th>California</th>\n      <td>1.05</td>\n      <td>0.55</td>\n      <td>0.73</td>\n      <td>0</td>\n    </tr>\n    <tr>\n      <th>Colorado</th>\n      <td>1.22</td>\n      <td>0.46</td>\n      <td>1.00</td>\n      <td>0</td>\n    </tr>\n    <tr>\n      <th>Connecticut</th>\n      <td>0.89</td>\n      <td>0.59</td>\n      <td>0.86</td>\n      <td>0</td>\n    </tr>\n    <tr>\n      <th>Delaware</th>\n      <td>1.31</td>\n      <td>0.57</td>\n      <td>1.25</td>\n      <td>0</td>\n    </tr>\n    <tr>\n      <th>District of Columbia</th>\n      <td>1.26</td>\n      <td>1.00</td>\n      <td>1.64</td>\n      <td>0</td>\n    </tr>\n    <tr>\n      <th>Florida</th>\n      <td>1.21</td>\n      <td>0.48</td>\n      <td>0.92</td>\n      <td>0</td>\n    </tr>\n    <tr>\n      <th>Georgia</th>\n      <td>1.08</td>\n      <td>0.25</td>\n      <td>0.64</td>\n      <td>0</td>\n    </tr>\n    <tr>\n      <th>Hawaii</th>\n      <td>1.30</td>\n      <td>0.53</td>\n      <td>0.75</td>\n      <td>0</td>\n    </tr>\n    <tr>\n      <th>Idaho</th>\n      <td>1.05</td>\n      <td>0.92</td>\n      <td>0.70</td>\n      <td>0</td>\n    </tr>\n    <tr>\n      <th>Illinois</th>\n      <td>1.22</td>\n      <td>0.39</td>\n      <td>0.73</td>\n      <td>0</td>\n    </tr>\n    <tr>\n      <th>Indiana</th>\n      <td>1.09</td>\n      <td>0.25</td>\n      <td>0.73</td>\n      <td>0</td>\n    </tr>\n    <tr>\n      <th>Iowa</th>\n      <td>1.42</td>\n      <td>0.18</td>\n      <td>0.72</td>\n      <td>0</td>\n    </tr>\n    <tr>\n      <th>Kansas</th>\n      <td>1.18</td>\n      <td>0.14</td>\n      <td>0.67</td>\n      <td>0</td>\n    </tr>\n    <tr>\n      <th>Kentucky</th>\n      <td>1.11</td>\n      <td>0.18</td>\n      <td>0.65</td>\n      <td>0</td>\n    </tr>\n    <tr>\n      <th>Louisiana</th>\n      <td>1.50</td>\n      <td>0.28</td>\n      <td>0.85</td>\n      <td>0</td>\n    </tr>\n    <tr>\n      <th>Maine</th>\n      <td>1.24</td>\n      <td>0.42</td>\n      <td>0.83</td>\n      <td>0</td>\n    </tr>\n    <tr>\n      <th>Maryland</th>\n      <td>0.97</td>\n      <td>0.37</td>\n      <td>0.87</td>\n      <td>0</td>\n    </tr>\n    <tr>\n      <th>Massachusetts</th>\n      <td>1.02</td>\n      <td>0.61</td>\n      <td>0.84</td>\n      <td>0</td>\n    </tr>\n    <tr>\n      <th>Michigan</th>\n      <td>1.10</td>\n      <td>0.31</td>\n      <td>0.80</td>\n      <td>0</td>\n    </tr>\n    <tr>\n      <th>Minnesota</th>\n      <td>1.19</td>\n      <td>0.37</td>\n      <td>1.04</td>\n      <td>0</td>\n    </tr>\n    <tr>\n      <th>Mississippi</th>\n      <td>1.41</td>\n      <td>0.11</td>\n      <td>0.71</td>\n      <td>0</td>\n    </tr>\n    <tr>\n      <th>Missouri</th>\n      <td>1.30</td>\n      <td>0.30</td>\n      <td>0.83</td>\n      <td>0</td>\n    </tr>\n    <tr>\n      <th>Montana</th>\n      <td>1.66</td>\n      <td>0.45</td>\n      <td>0.88</td>\n      <td>0</td>\n    </tr>\n    <tr>\n      <th>Nebraska</th>\n      <td>1.46</td>\n      <td>0.20</td>\n      <td>0.68</td>\n      <td>0</td>\n    </tr>\n    <tr>\n      <th>Nevada</th>\n      <td>1.57</td>\n      <td>0.58</td>\n      <td>1.15</td>\n      <td>0</td>\n    </tr>\n    <tr>\n      <th>New Hampshire</th>\n      <td>1.72</td>\n      <td>0.84</td>\n      <td>1.82</td>\n      <td>0</td>\n    </tr>\n    <tr>\n      <th>New Jersey</th>\n      <td>0.92</td>\n      <td>0.57</td>\n      <td>0.87</td>\n      <td>0</td>\n    </tr>\n    <tr>\n      <th>New Mexico</th>\n      <td>1.37</td>\n      <td>0.32</td>\n      <td>0.74</td>\n      <td>0</td>\n    </tr>\n    <tr>\n      <th>New York</th>\n      <td>0.91</td>\n      <td>0.46</td>\n      <td>0.69</td>\n      <td>0</td>\n    </tr>\n    <tr>\n      <th>North Carolina</th>\n      <td>1.10</td>\n      <td>0.34</td>\n      <td>0.58</td>\n      <td>0</td>\n    </tr>\n    <tr>\n      <th>North Dakota</th>\n      <td>1.63</td>\n      <td>0.25</td>\n      <td>1.16</td>\n      <td>0</td>\n    </tr>\n    <tr>\n      <th>Ohio</th>\n      <td>1.28</td>\n      <td>0.26</td>\n      <td>0.47</td>\n      <td>0</td>\n    </tr>\n    <tr>\n      <th>Oklahoma</th>\n      <td>1.18</td>\n      <td>0.18</td>\n      <td>0.58</td>\n      <td>0</td>\n    </tr>\n    <tr>\n      <th>Oregon</th>\n      <td>1.28</td>\n      <td>0.49</td>\n      <td>0.82</td>\n      <td>0</td>\n    </tr>\n    <tr>\n      <th>Pennsylvania</th>\n      <td>1.35</td>\n      <td>0.23</td>\n      <td>0.61</td>\n      <td>0</td>\n    </tr>\n    <tr>\n      <th>Rhode Island</th>\n      <td>1.10</td>\n      <td>0.53</td>\n      <td>0.92</td>\n      <td>0</td>\n    </tr>\n    <tr>\n      <th>South Carolina</th>\n      <td>1.36</td>\n      <td>0.24</td>\n      <td>0.77</td>\n      <td>0</td>\n    </tr>\n    <tr>\n      <th>South Dakota</th>\n      <td>1.53</td>\n      <td>0.22</td>\n      <td>0.88</td>\n      <td>0</td>\n    </tr>\n    <tr>\n      <th>Tennessee</th>\n      <td>1.05</td>\n      <td>0.21</td>\n      <td>0.57</td>\n      <td>0</td>\n    </tr>\n    <tr>\n      <th>Texas</th>\n      <td>1.42</td>\n      <td>0.28</td>\n      <td>0.58</td>\n      <td>0</td>\n    </tr>\n    <tr>\n      <th>Utah</th>\n      <td>0.70</td>\n      <td>0.17</td>\n      <td>0.46</td>\n      <td>0</td>\n    </tr>\n    <tr>\n      <th>Vermont</th>\n      <td>1.36</td>\n      <td>0.63</td>\n      <td>0.70</td>\n      <td>0</td>\n    </tr>\n    <tr>\n      <th>Virginia</th>\n      <td>1.11</td>\n      <td>0.43</td>\n      <td>0.59</td>\n      <td>0</td>\n    </tr>\n    <tr>\n      <th>Washington</th>\n      <td>1.09</td>\n      <td>0.51</td>\n      <td>0.74</td>\n      <td>0</td>\n    </tr>\n    <tr>\n      <th>West Virginia</th>\n      <td>1.24</td>\n      <td>0.10</td>\n      <td>0.45</td>\n      <td>0</td>\n    </tr>\n    <tr>\n      <th>Wisconsin</th>\n      <td>1.49</td>\n      <td>0.31</td>\n      <td>1.16</td>\n      <td>0</td>\n    </tr>\n    <tr>\n      <th>Wyoming</th>\n      <td>1.45</td>\n      <td>0.22</td>\n      <td>1.10</td>\n      <td>0</td>\n    </tr>\n  </tbody>\n</table>\n</div>"
     },
     "execution_count": 1,
     "metadata": {},
     "output_type": "execute_result"
    }
   ],
   "source": [
    "#데이터 프레임: 레이블이 붙은 행과 열로 구성된 테이블\n",
    "#미국 각 주별로 주류 소비.csv 파일\n",
    "import pandas as pd\n",
    "alco2009 = pd.read_csv(\"niaaa-report2009.csv\", index_col=\"State\")\n",
    "alco2009\n",
    "\n",
    "#상위 5개 출력\n",
    "alco2009.head()\n",
    "\n",
    "#Wine, Beer 이란 이름으로 해당 데이터프레임에 속성으로 생성.\n",
    "alco2009[\"Wine\"].head()\n",
    "\n",
    "alco2009.Beer.tail()\n",
    "\n",
    "\n",
    "# 브로드캐스팅. 해당 열을 만들고 모든 행의 값 할당.\n",
    "alco2009[\"Total\"]=0\n",
    "alco2009"
   ]
  },
  {
   "cell_type": "code",
   "execution_count": 2,
   "outputs": [
    {
     "data": {
      "text/plain": "                      Beer  Wine  Spirits  Total\nState                                           \nAlabama               1.20  0.22     0.58   2.00\nAlaska                1.31  0.54     1.16   3.01\nArizona               1.19  0.38     0.74   2.31\nArkansas              1.07  0.17     0.60   1.84\nCalifornia            1.05  0.55     0.73   2.33\nColorado              1.22  0.46     1.00   2.68\nConnecticut           0.89  0.59     0.86   2.34\nDelaware              1.31  0.57     1.25   3.13\nDistrict of Columbia  1.26  1.00     1.64   3.90\nFlorida               1.21  0.48     0.92   2.61\nGeorgia               1.08  0.25     0.64   1.97\nHawaii                1.30  0.53     0.75   2.58\nIdaho                 1.05  0.92     0.70   2.67\nIllinois              1.22  0.39     0.73   2.34\nIndiana               1.09  0.25     0.73   2.07\nIowa                  1.42  0.18     0.72   2.32\nKansas                1.18  0.14     0.67   1.99\nKentucky              1.11  0.18     0.65   1.94\nLouisiana             1.50  0.28     0.85   2.63\nMaine                 1.24  0.42     0.83   2.49\nMaryland              0.97  0.37     0.87   2.21\nMassachusetts         1.02  0.61     0.84   2.47\nMichigan              1.10  0.31     0.80   2.21\nMinnesota             1.19  0.37     1.04   2.60\nMississippi           1.41  0.11     0.71   2.23\nMissouri              1.30  0.30     0.83   2.43\nMontana               1.66  0.45     0.88   2.99\nNebraska              1.46  0.20     0.68   2.34\nNevada                1.57  0.58     1.15   3.30\nNew Hampshire         1.72  0.84     1.82   4.38\nNew Jersey            0.92  0.57     0.87   2.36\nNew Mexico            1.37  0.32     0.74   2.43\nNew York              0.91  0.46     0.69   2.06\nNorth Carolina        1.10  0.34     0.58   2.02\nNorth Dakota          1.63  0.25     1.16   3.04\nOhio                  1.28  0.26     0.47   2.01\nOklahoma              1.18  0.18     0.58   1.94\nOregon                1.28  0.49     0.82   2.59\nPennsylvania          1.35  0.23     0.61   2.19\nRhode Island          1.10  0.53     0.92   2.55\nSouth Carolina        1.36  0.24     0.77   2.37\nSouth Dakota          1.53  0.22     0.88   2.63\nTennessee             1.05  0.21     0.57   1.83\nTexas                 1.42  0.28     0.58   2.28\nUtah                  0.70  0.17     0.46   1.33\nVermont               1.36  0.63     0.70   2.69\nVirginia              1.11  0.43     0.59   2.13\nWashington            1.09  0.51     0.74   2.34\nWest Virginia         1.24  0.10     0.45   1.79\nWisconsin             1.49  0.31     1.16   2.96\nWyoming               1.45  0.22     1.10   2.77",
      "text/html": "<div>\n<style scoped>\n    .dataframe tbody tr th:only-of-type {\n        vertical-align: middle;\n    }\n\n    .dataframe tbody tr th {\n        vertical-align: top;\n    }\n\n    .dataframe thead th {\n        text-align: right;\n    }\n</style>\n<table border=\"1\" class=\"dataframe\">\n  <thead>\n    <tr style=\"text-align: right;\">\n      <th></th>\n      <th>Beer</th>\n      <th>Wine</th>\n      <th>Spirits</th>\n      <th>Total</th>\n    </tr>\n    <tr>\n      <th>State</th>\n      <th></th>\n      <th></th>\n      <th></th>\n      <th></th>\n    </tr>\n  </thead>\n  <tbody>\n    <tr>\n      <th>Alabama</th>\n      <td>1.20</td>\n      <td>0.22</td>\n      <td>0.58</td>\n      <td>2.00</td>\n    </tr>\n    <tr>\n      <th>Alaska</th>\n      <td>1.31</td>\n      <td>0.54</td>\n      <td>1.16</td>\n      <td>3.01</td>\n    </tr>\n    <tr>\n      <th>Arizona</th>\n      <td>1.19</td>\n      <td>0.38</td>\n      <td>0.74</td>\n      <td>2.31</td>\n    </tr>\n    <tr>\n      <th>Arkansas</th>\n      <td>1.07</td>\n      <td>0.17</td>\n      <td>0.60</td>\n      <td>1.84</td>\n    </tr>\n    <tr>\n      <th>California</th>\n      <td>1.05</td>\n      <td>0.55</td>\n      <td>0.73</td>\n      <td>2.33</td>\n    </tr>\n    <tr>\n      <th>Colorado</th>\n      <td>1.22</td>\n      <td>0.46</td>\n      <td>1.00</td>\n      <td>2.68</td>\n    </tr>\n    <tr>\n      <th>Connecticut</th>\n      <td>0.89</td>\n      <td>0.59</td>\n      <td>0.86</td>\n      <td>2.34</td>\n    </tr>\n    <tr>\n      <th>Delaware</th>\n      <td>1.31</td>\n      <td>0.57</td>\n      <td>1.25</td>\n      <td>3.13</td>\n    </tr>\n    <tr>\n      <th>District of Columbia</th>\n      <td>1.26</td>\n      <td>1.00</td>\n      <td>1.64</td>\n      <td>3.90</td>\n    </tr>\n    <tr>\n      <th>Florida</th>\n      <td>1.21</td>\n      <td>0.48</td>\n      <td>0.92</td>\n      <td>2.61</td>\n    </tr>\n    <tr>\n      <th>Georgia</th>\n      <td>1.08</td>\n      <td>0.25</td>\n      <td>0.64</td>\n      <td>1.97</td>\n    </tr>\n    <tr>\n      <th>Hawaii</th>\n      <td>1.30</td>\n      <td>0.53</td>\n      <td>0.75</td>\n      <td>2.58</td>\n    </tr>\n    <tr>\n      <th>Idaho</th>\n      <td>1.05</td>\n      <td>0.92</td>\n      <td>0.70</td>\n      <td>2.67</td>\n    </tr>\n    <tr>\n      <th>Illinois</th>\n      <td>1.22</td>\n      <td>0.39</td>\n      <td>0.73</td>\n      <td>2.34</td>\n    </tr>\n    <tr>\n      <th>Indiana</th>\n      <td>1.09</td>\n      <td>0.25</td>\n      <td>0.73</td>\n      <td>2.07</td>\n    </tr>\n    <tr>\n      <th>Iowa</th>\n      <td>1.42</td>\n      <td>0.18</td>\n      <td>0.72</td>\n      <td>2.32</td>\n    </tr>\n    <tr>\n      <th>Kansas</th>\n      <td>1.18</td>\n      <td>0.14</td>\n      <td>0.67</td>\n      <td>1.99</td>\n    </tr>\n    <tr>\n      <th>Kentucky</th>\n      <td>1.11</td>\n      <td>0.18</td>\n      <td>0.65</td>\n      <td>1.94</td>\n    </tr>\n    <tr>\n      <th>Louisiana</th>\n      <td>1.50</td>\n      <td>0.28</td>\n      <td>0.85</td>\n      <td>2.63</td>\n    </tr>\n    <tr>\n      <th>Maine</th>\n      <td>1.24</td>\n      <td>0.42</td>\n      <td>0.83</td>\n      <td>2.49</td>\n    </tr>\n    <tr>\n      <th>Maryland</th>\n      <td>0.97</td>\n      <td>0.37</td>\n      <td>0.87</td>\n      <td>2.21</td>\n    </tr>\n    <tr>\n      <th>Massachusetts</th>\n      <td>1.02</td>\n      <td>0.61</td>\n      <td>0.84</td>\n      <td>2.47</td>\n    </tr>\n    <tr>\n      <th>Michigan</th>\n      <td>1.10</td>\n      <td>0.31</td>\n      <td>0.80</td>\n      <td>2.21</td>\n    </tr>\n    <tr>\n      <th>Minnesota</th>\n      <td>1.19</td>\n      <td>0.37</td>\n      <td>1.04</td>\n      <td>2.60</td>\n    </tr>\n    <tr>\n      <th>Mississippi</th>\n      <td>1.41</td>\n      <td>0.11</td>\n      <td>0.71</td>\n      <td>2.23</td>\n    </tr>\n    <tr>\n      <th>Missouri</th>\n      <td>1.30</td>\n      <td>0.30</td>\n      <td>0.83</td>\n      <td>2.43</td>\n    </tr>\n    <tr>\n      <th>Montana</th>\n      <td>1.66</td>\n      <td>0.45</td>\n      <td>0.88</td>\n      <td>2.99</td>\n    </tr>\n    <tr>\n      <th>Nebraska</th>\n      <td>1.46</td>\n      <td>0.20</td>\n      <td>0.68</td>\n      <td>2.34</td>\n    </tr>\n    <tr>\n      <th>Nevada</th>\n      <td>1.57</td>\n      <td>0.58</td>\n      <td>1.15</td>\n      <td>3.30</td>\n    </tr>\n    <tr>\n      <th>New Hampshire</th>\n      <td>1.72</td>\n      <td>0.84</td>\n      <td>1.82</td>\n      <td>4.38</td>\n    </tr>\n    <tr>\n      <th>New Jersey</th>\n      <td>0.92</td>\n      <td>0.57</td>\n      <td>0.87</td>\n      <td>2.36</td>\n    </tr>\n    <tr>\n      <th>New Mexico</th>\n      <td>1.37</td>\n      <td>0.32</td>\n      <td>0.74</td>\n      <td>2.43</td>\n    </tr>\n    <tr>\n      <th>New York</th>\n      <td>0.91</td>\n      <td>0.46</td>\n      <td>0.69</td>\n      <td>2.06</td>\n    </tr>\n    <tr>\n      <th>North Carolina</th>\n      <td>1.10</td>\n      <td>0.34</td>\n      <td>0.58</td>\n      <td>2.02</td>\n    </tr>\n    <tr>\n      <th>North Dakota</th>\n      <td>1.63</td>\n      <td>0.25</td>\n      <td>1.16</td>\n      <td>3.04</td>\n    </tr>\n    <tr>\n      <th>Ohio</th>\n      <td>1.28</td>\n      <td>0.26</td>\n      <td>0.47</td>\n      <td>2.01</td>\n    </tr>\n    <tr>\n      <th>Oklahoma</th>\n      <td>1.18</td>\n      <td>0.18</td>\n      <td>0.58</td>\n      <td>1.94</td>\n    </tr>\n    <tr>\n      <th>Oregon</th>\n      <td>1.28</td>\n      <td>0.49</td>\n      <td>0.82</td>\n      <td>2.59</td>\n    </tr>\n    <tr>\n      <th>Pennsylvania</th>\n      <td>1.35</td>\n      <td>0.23</td>\n      <td>0.61</td>\n      <td>2.19</td>\n    </tr>\n    <tr>\n      <th>Rhode Island</th>\n      <td>1.10</td>\n      <td>0.53</td>\n      <td>0.92</td>\n      <td>2.55</td>\n    </tr>\n    <tr>\n      <th>South Carolina</th>\n      <td>1.36</td>\n      <td>0.24</td>\n      <td>0.77</td>\n      <td>2.37</td>\n    </tr>\n    <tr>\n      <th>South Dakota</th>\n      <td>1.53</td>\n      <td>0.22</td>\n      <td>0.88</td>\n      <td>2.63</td>\n    </tr>\n    <tr>\n      <th>Tennessee</th>\n      <td>1.05</td>\n      <td>0.21</td>\n      <td>0.57</td>\n      <td>1.83</td>\n    </tr>\n    <tr>\n      <th>Texas</th>\n      <td>1.42</td>\n      <td>0.28</td>\n      <td>0.58</td>\n      <td>2.28</td>\n    </tr>\n    <tr>\n      <th>Utah</th>\n      <td>0.70</td>\n      <td>0.17</td>\n      <td>0.46</td>\n      <td>1.33</td>\n    </tr>\n    <tr>\n      <th>Vermont</th>\n      <td>1.36</td>\n      <td>0.63</td>\n      <td>0.70</td>\n      <td>2.69</td>\n    </tr>\n    <tr>\n      <th>Virginia</th>\n      <td>1.11</td>\n      <td>0.43</td>\n      <td>0.59</td>\n      <td>2.13</td>\n    </tr>\n    <tr>\n      <th>Washington</th>\n      <td>1.09</td>\n      <td>0.51</td>\n      <td>0.74</td>\n      <td>2.34</td>\n    </tr>\n    <tr>\n      <th>West Virginia</th>\n      <td>1.24</td>\n      <td>0.10</td>\n      <td>0.45</td>\n      <td>1.79</td>\n    </tr>\n    <tr>\n      <th>Wisconsin</th>\n      <td>1.49</td>\n      <td>0.31</td>\n      <td>1.16</td>\n      <td>2.96</td>\n    </tr>\n    <tr>\n      <th>Wyoming</th>\n      <td>1.45</td>\n      <td>0.22</td>\n      <td>1.10</td>\n      <td>2.77</td>\n    </tr>\n  </tbody>\n</table>\n</div>"
     },
     "execution_count": 2,
     "metadata": {},
     "output_type": "execute_result"
    }
   ],
   "source": [
    "#csv 파일에 총합 열 만들어보기.\n",
    "\n",
    "hap=alco2009[\"Beer\"] + alco2009[\"Wine\"] + alco2009[\"Spirits\"]\n",
    "alco2009[\"Total\"]=hap\n",
    "alco2009"
   ],
   "metadata": {
    "collapsed": false,
    "pycharm": {
     "name": "#%%%\n"
    }
   }
  },
  {
   "cell_type": "code",
   "execution_count": 3,
   "outputs": [
    {
     "data": {
      "text/plain": "True"
     },
     "execution_count": 3,
     "metadata": {},
     "output_type": "execute_result"
    }
   ],
   "source": [
    "alco2009.columns.values\n",
    "\n",
    "#비어 '열' 컬럼으로 인덱스를 지정\n",
    "alco2009.reset_index().set_index(\"Beer\").head()\n",
    "#원하는 '행' 다가져오기. 모든 열\n",
    "alco2009.loc[\"Alabama\"]\n",
    "\n",
    "\"Utah\" in alco2009.index"
   ],
   "metadata": {
    "collapsed": false,
    "pycharm": {
     "name": "#%%\n"
    }
   }
  },
  {
   "cell_type": "code",
   "execution_count": 4,
   "outputs": [
    {
     "data": {
      "text/plain": "False"
     },
     "execution_count": 4,
     "metadata": {},
     "output_type": "execute_result"
    }
   ],
   "source": [
    "alco20091=pd.read_csv(\"niaaa-report2009.csv\" , index_col=\"State\")\n",
    "#열이 존재하는지 ?\n",
    "\"Samoa\" in alco20091.index"
   ],
   "metadata": {
    "collapsed": false,
    "pycharm": {
     "name": "#%%\n"
    }
   }
  },
  {
   "cell_type": "code",
   "execution_count": 5,
   "outputs": [
    {
     "data": {
      "text/plain": "                Beer  Wine  Spirits  Water\nState                                     \nSouth Carolina  1.36  0.24     0.77    NaN\nSouth Dakota    1.53  0.22     0.88    NaN\nSamoa            NaN   NaN      NaN    NaN",
      "text/html": "<div>\n<style scoped>\n    .dataframe tbody tr th:only-of-type {\n        vertical-align: middle;\n    }\n\n    .dataframe tbody tr th {\n        vertical-align: top;\n    }\n\n    .dataframe thead th {\n        text-align: right;\n    }\n</style>\n<table border=\"1\" class=\"dataframe\">\n  <thead>\n    <tr style=\"text-align: right;\">\n      <th></th>\n      <th>Beer</th>\n      <th>Wine</th>\n      <th>Spirits</th>\n      <th>Water</th>\n    </tr>\n    <tr>\n      <th>State</th>\n      <th></th>\n      <th></th>\n      <th></th>\n      <th></th>\n    </tr>\n  </thead>\n  <tbody>\n    <tr>\n      <th>South Carolina</th>\n      <td>1.36</td>\n      <td>0.24</td>\n      <td>0.77</td>\n      <td>NaN</td>\n    </tr>\n    <tr>\n      <th>South Dakota</th>\n      <td>1.53</td>\n      <td>0.22</td>\n      <td>0.88</td>\n      <td>NaN</td>\n    </tr>\n    <tr>\n      <th>Samoa</th>\n      <td>NaN</td>\n      <td>NaN</td>\n      <td>NaN</td>\n      <td>NaN</td>\n    </tr>\n  </tbody>\n</table>\n</div>"
     },
     "execution_count": 5,
     "metadata": {},
     "output_type": "execute_result"
    }
   ],
   "source": [
    "#임의의 열을 추가해보자\n",
    "s_states= [state for state in alco20091.index if state[0] == 'S']+[\"Samoa\"]\n",
    "drinks= list(alco20091.columns) + [\"Water\"]\n",
    "nan_alco= alco20091.reindex(s_states, columns=drinks)\n",
    "nan_alco\n",
    "\n",
    "\n"
   ],
   "metadata": {
    "collapsed": false,
    "pycharm": {
     "name": "#%%\n"
    }
   }
  },
  {
   "cell_type": "code",
   "execution_count": 6,
   "outputs": [
    {
     "data": {
      "text/plain": "      Beer  Wine  Spirits\nYear                     \n1977  0.99  0.13     0.84\n1978  0.98  0.12     0.88\n1979  0.98  0.12     0.84\n1980  0.96  0.16     0.74\n1981  1.00  0.19     0.73",
      "text/html": "<div>\n<style scoped>\n    .dataframe tbody tr th:only-of-type {\n        vertical-align: middle;\n    }\n\n    .dataframe tbody tr th {\n        vertical-align: top;\n    }\n\n    .dataframe thead th {\n        text-align: right;\n    }\n</style>\n<table border=\"1\" class=\"dataframe\">\n  <thead>\n    <tr style=\"text-align: right;\">\n      <th></th>\n      <th>Beer</th>\n      <th>Wine</th>\n      <th>Spirits</th>\n    </tr>\n    <tr>\n      <th>Year</th>\n      <th></th>\n      <th></th>\n      <th></th>\n    </tr>\n  </thead>\n  <tbody>\n    <tr>\n      <th>1977</th>\n      <td>0.99</td>\n      <td>0.13</td>\n      <td>0.84</td>\n    </tr>\n    <tr>\n      <th>1978</th>\n      <td>0.98</td>\n      <td>0.12</td>\n      <td>0.88</td>\n    </tr>\n    <tr>\n      <th>1979</th>\n      <td>0.98</td>\n      <td>0.12</td>\n      <td>0.84</td>\n    </tr>\n    <tr>\n      <th>1980</th>\n      <td>0.96</td>\n      <td>0.16</td>\n      <td>0.74</td>\n    </tr>\n    <tr>\n      <th>1981</th>\n      <td>1.00</td>\n      <td>0.19</td>\n      <td>0.73</td>\n    </tr>\n  </tbody>\n</table>\n</div>"
     },
     "execution_count": 6,
     "metadata": {},
     "output_type": "execute_result"
    }
   ],
   "source": [
    "#여러 인덱스를 가진 멀티인덱스들을 처리해보기 (예 도시별 -> 연별 자료)\n",
    "allalco =pd.read_csv(\"niaaa-report.csv\",index_col=[\"State\",\"Year\"])\n",
    "allalco\n",
    "\n",
    "allalco.loc[\"Alabama\"].head()"
   ],
   "metadata": {
    "collapsed": false,
    "pycharm": {
     "name": "#%%\n"
    }
   }
  },
  {
   "cell_type": "code",
   "execution_count": 7,
   "outputs": [
    {
     "data": {
      "text/plain": "State    Year  Drink  \nAlabama  1977  Beer       0.99\n               Wine       0.13\n               Spirits    0.84\n         1978  Beer       0.98\n               Wine       0.12\n               Spirits    0.88\n         1979  Beer       0.98\n               Wine       0.12\n               Spirits    0.84\n         1980  Beer       0.96\ndtype: float64"
     },
     "execution_count": 7,
     "metadata": {},
     "output_type": "execute_result"
    }
   ],
   "source": [
    "#연별로 묶어서 열을 행으로 표현해보자\n",
    "tall_alco=allalco.stack()\n",
    "tall_alco.index.names=[ \"State\",\"Year\",\"Drink\"]\n",
    "tall_alco.head(10)"
   ],
   "metadata": {
    "collapsed": false,
    "pycharm": {
     "name": "#%%\n"
    }
   }
  },
  {
   "cell_type": "code",
   "execution_count": 8,
   "outputs": [
    {
     "data": {
      "text/plain": "            Beer                                                        ...  \\\nYear        1977  1978  1979  1980  1981  1982  1983  1984  1985  1986  ...   \nState                                                                   ...   \nAlabama     0.99  0.98  0.98  0.96  1.00  1.00  1.01  1.02  1.06  1.09  ...   \nAlaska      1.19  1.39  1.50  1.55  1.71  1.75  1.76  1.73  1.68  1.68  ...   \nArizona     1.70  1.77  1.86  1.69  1.78  1.74  1.62  1.57  1.67  1.77  ...   \nArkansas    0.92  0.97  0.93  1.00  1.06  1.03  1.03  1.02  1.03  1.06  ...   \nCalifornia  1.31  1.36  1.42  1.42  1.43  1.37  1.37  1.38  1.32  1.36  ...   \n\n           Spirits                                                        \nYear          2000  2001  2002  2003  2004  2005  2006  2007  2008  2009  \nState                                                                     \nAlabama       0.51  0.53  0.53  0.52  0.52  0.53  0.55  0.56  0.58  0.58  \nAlaska        0.92  0.97  1.08  0.79  0.96  0.99  1.02  1.07  1.09  1.16  \nArizona       0.71  0.70  0.69  0.71  0.70  0.74  0.78  0.76  0.75  0.74  \nArkansas      0.53  0.53  0.53  0.56  0.58  0.58  0.59  0.60  0.60  0.60  \nCalifornia    0.64  0.64  0.63  0.65  0.67  0.68  0.70  0.72  0.72  0.73  \n\n[5 rows x 99 columns]",
      "text/html": "<div>\n<style scoped>\n    .dataframe tbody tr th:only-of-type {\n        vertical-align: middle;\n    }\n\n    .dataframe tbody tr th {\n        vertical-align: top;\n    }\n\n    .dataframe thead tr th {\n        text-align: left;\n    }\n\n    .dataframe thead tr:last-of-type th {\n        text-align: right;\n    }\n</style>\n<table border=\"1\" class=\"dataframe\">\n  <thead>\n    <tr>\n      <th></th>\n      <th colspan=\"10\" halign=\"left\">Beer</th>\n      <th>...</th>\n      <th colspan=\"10\" halign=\"left\">Spirits</th>\n    </tr>\n    <tr>\n      <th>Year</th>\n      <th>1977</th>\n      <th>1978</th>\n      <th>1979</th>\n      <th>1980</th>\n      <th>1981</th>\n      <th>1982</th>\n      <th>1983</th>\n      <th>1984</th>\n      <th>1985</th>\n      <th>1986</th>\n      <th>...</th>\n      <th>2000</th>\n      <th>2001</th>\n      <th>2002</th>\n      <th>2003</th>\n      <th>2004</th>\n      <th>2005</th>\n      <th>2006</th>\n      <th>2007</th>\n      <th>2008</th>\n      <th>2009</th>\n    </tr>\n    <tr>\n      <th>State</th>\n      <th></th>\n      <th></th>\n      <th></th>\n      <th></th>\n      <th></th>\n      <th></th>\n      <th></th>\n      <th></th>\n      <th></th>\n      <th></th>\n      <th></th>\n      <th></th>\n      <th></th>\n      <th></th>\n      <th></th>\n      <th></th>\n      <th></th>\n      <th></th>\n      <th></th>\n      <th></th>\n      <th></th>\n    </tr>\n  </thead>\n  <tbody>\n    <tr>\n      <th>Alabama</th>\n      <td>0.99</td>\n      <td>0.98</td>\n      <td>0.98</td>\n      <td>0.96</td>\n      <td>1.00</td>\n      <td>1.00</td>\n      <td>1.01</td>\n      <td>1.02</td>\n      <td>1.06</td>\n      <td>1.09</td>\n      <td>...</td>\n      <td>0.51</td>\n      <td>0.53</td>\n      <td>0.53</td>\n      <td>0.52</td>\n      <td>0.52</td>\n      <td>0.53</td>\n      <td>0.55</td>\n      <td>0.56</td>\n      <td>0.58</td>\n      <td>0.58</td>\n    </tr>\n    <tr>\n      <th>Alaska</th>\n      <td>1.19</td>\n      <td>1.39</td>\n      <td>1.50</td>\n      <td>1.55</td>\n      <td>1.71</td>\n      <td>1.75</td>\n      <td>1.76</td>\n      <td>1.73</td>\n      <td>1.68</td>\n      <td>1.68</td>\n      <td>...</td>\n      <td>0.92</td>\n      <td>0.97</td>\n      <td>1.08</td>\n      <td>0.79</td>\n      <td>0.96</td>\n      <td>0.99</td>\n      <td>1.02</td>\n      <td>1.07</td>\n      <td>1.09</td>\n      <td>1.16</td>\n    </tr>\n    <tr>\n      <th>Arizona</th>\n      <td>1.70</td>\n      <td>1.77</td>\n      <td>1.86</td>\n      <td>1.69</td>\n      <td>1.78</td>\n      <td>1.74</td>\n      <td>1.62</td>\n      <td>1.57</td>\n      <td>1.67</td>\n      <td>1.77</td>\n      <td>...</td>\n      <td>0.71</td>\n      <td>0.70</td>\n      <td>0.69</td>\n      <td>0.71</td>\n      <td>0.70</td>\n      <td>0.74</td>\n      <td>0.78</td>\n      <td>0.76</td>\n      <td>0.75</td>\n      <td>0.74</td>\n    </tr>\n    <tr>\n      <th>Arkansas</th>\n      <td>0.92</td>\n      <td>0.97</td>\n      <td>0.93</td>\n      <td>1.00</td>\n      <td>1.06</td>\n      <td>1.03</td>\n      <td>1.03</td>\n      <td>1.02</td>\n      <td>1.03</td>\n      <td>1.06</td>\n      <td>...</td>\n      <td>0.53</td>\n      <td>0.53</td>\n      <td>0.53</td>\n      <td>0.56</td>\n      <td>0.58</td>\n      <td>0.58</td>\n      <td>0.59</td>\n      <td>0.60</td>\n      <td>0.60</td>\n      <td>0.60</td>\n    </tr>\n    <tr>\n      <th>California</th>\n      <td>1.31</td>\n      <td>1.36</td>\n      <td>1.42</td>\n      <td>1.42</td>\n      <td>1.43</td>\n      <td>1.37</td>\n      <td>1.37</td>\n      <td>1.38</td>\n      <td>1.32</td>\n      <td>1.36</td>\n      <td>...</td>\n      <td>0.64</td>\n      <td>0.64</td>\n      <td>0.63</td>\n      <td>0.65</td>\n      <td>0.67</td>\n      <td>0.68</td>\n      <td>0.70</td>\n      <td>0.72</td>\n      <td>0.72</td>\n      <td>0.73</td>\n    </tr>\n  </tbody>\n</table>\n<p>5 rows × 99 columns</p>\n</div>"
     },
     "execution_count": 8,
     "metadata": {},
     "output_type": "execute_result"
    }
   ],
   "source": [
    "#정사각형 모양에 가깝게 만들어보기\n",
    "wide_alco=allalco.unstack()\n",
    "wide_alco.head()"
   ],
   "metadata": {
    "collapsed": false,
    "pycharm": {
     "name": "#%%\n"
    }
   }
  },
  {
   "cell_type": "code",
   "execution_count": 9,
   "outputs": [
    {
     "data": {
      "text/plain": "State  Alabama  Alaska  Arizona  Arkansas  California  Colorado  Connecticut  \\\nYear                                                                           \n1977      0.13    0.42     0.34      0.10        0.67      0.36         0.35   \n1978      0.12    0.45     0.37      0.11        0.68      0.47         0.38   \n1979      0.12    0.47     0.39      0.10        0.70      0.47         0.40   \n1980      0.16    0.50     0.36      0.12        0.71      0.47         0.43   \n1981      0.19    0.57     0.42      0.12        0.72      0.44         0.44   \n1982      0.18    0.56     0.40      0.12        0.72      0.46         0.49   \n1983      0.17    0.61     0.44      0.13        0.75      0.46         0.49   \n1984      0.19    0.58     0.45      0.12        0.74      0.46         0.50   \n1985      0.17    0.58     0.46      0.13        0.78      0.50         0.50   \n1986      0.18    0.56     0.46      0.09        0.79      0.46         0.51   \n1987      0.18    0.54     0.46      0.11        0.74      0.44         0.52   \n1988      0.18    0.49     0.42      0.14        0.68      0.39         0.51   \n1989      0.17    0.46     0.36      0.13        0.61      0.37         0.47   \n1990      0.18    0.46     0.37      0.13        0.59      0.29         0.45   \n1991      0.17    0.43     0.35      0.11        0.49      0.35         0.43   \n1992      0.19    0.41     0.31      0.12        0.51      0.36         0.45   \n1993      0.17    0.32     0.27      0.11        0.48      0.36         0.44   \n1994      0.17    0.40     0.29      0.13        0.47      0.35         0.43   \n1995      0.15    0.39     0.29      0.12        0.45      0.35         0.49   \n1996      0.15    0.38     0.33      0.12        0.49      0.37         0.46   \n1997      0.15    0.36     0.31      0.12        0.50      0.37         0.48   \n1998      0.17    0.39     0.32      0.11        0.45      0.37         0.48   \n1999      0.17    0.40     0.34      0.12        0.46      0.37         0.49   \n2000      0.18    0.37     0.31      0.12        0.48      0.37         0.49   \n2001      0.17    0.40     0.33      0.13        0.48      0.41         0.50   \n2002      0.21    0.43     0.33      0.14        0.49      0.39         0.50   \n2003      0.19    0.37     0.37      0.14        0.50      0.40         0.52   \n2004      0.20    0.45     0.33      0.15        0.51      0.43         0.53   \n2005      0.20    0.43     0.39      0.16        0.53      0.41         0.54   \n2006      0.21    0.46     0.37      0.17        0.54      0.45         0.55   \n2007      0.22    0.44     0.33      0.17        0.55      0.47         0.58   \n2008      0.22    0.49     0.40      0.17        0.55      0.46         0.59   \n2009      0.22    0.54     0.38      0.17        0.55      0.46         0.59   \n\nState  Delaware  District of Columbia  Florida  ...  South Dakota  Tennessee  \\\nYear                                            ...                            \n1977       0.24                  0.89     0.33  ...          0.17       0.10   \n1978       0.25                  0.94     0.34  ...          0.17       0.11   \n1979       0.27                  0.99     0.37  ...          0.17       0.11   \n1980       0.29                  0.99     0.37  ...          0.18       0.12   \n1981       0.32                  1.06     0.39  ...          0.19       0.13   \n1982       0.34                  1.00     0.40  ...          0.18       0.14   \n1983       0.35                  1.08     0.40  ...          0.17       0.14   \n1984       0.38                  1.11     0.40  ...          0.17       0.15   \n1985       0.41                  1.03     0.41  ...          0.18       0.16   \n1986       0.44                  1.04     0.41  ...          0.19       0.16   \n1987       0.42                  1.00     0.42  ...          0.19       0.15   \n1988       0.40                  0.99     0.41  ...          0.16       0.14   \n1989       0.38                  0.88     0.39  ...          0.15       0.14   \n1990       0.37                  0.76     0.39  ...          0.18       0.14   \n1991       0.35                  0.61     0.34  ...          0.15       0.13   \n1992       0.36                  0.70     0.34  ...          0.15       0.14   \n1993       0.35                  0.73     0.33  ...          0.12       0.14   \n1994       0.38                  0.74     0.33  ...          0.12       0.15   \n1995       0.40                  0.72     0.35  ...          0.12       0.15   \n1996       0.45                  0.74     0.37  ...          0.13       0.15   \n1997       0.46                  0.74     0.37  ...          0.13       0.16   \n1998       0.47                  0.73     0.38  ...          0.13       0.15   \n1999       0.48                  0.73     0.40  ...          0.14       0.15   \n2000       0.48                  0.70     0.40  ...          0.15       0.15   \n2001       0.49                  0.82     0.40  ...          0.15       0.16   \n2002       0.52                  0.84     0.43  ...          0.16       0.17   \n2003       0.56                  0.90     0.44  ...          0.16       0.18   \n2004       0.57                  0.94     0.46  ...          0.18       0.18   \n2005       0.59                  0.92     0.47  ...          0.19       0.19   \n2006       0.60                  0.95     0.48  ...          0.19       0.19   \n2007       0.59                  0.99     0.49  ...          0.22       0.20   \n2008       0.58                  1.00     0.49  ...          0.22       0.20   \n2009       0.57                  1.00     0.48  ...          0.22       0.21   \n\nState  Texas  Utah  Vermont  Virginia  Washington  West Virginia  Wisconsin  \\\nYear                                                                          \n1977    0.14  0.14     0.44      0.21        0.45           0.09       0.27   \n1978    0.14  0.15     0.47      0.21        0.48           0.09       0.28   \n1979    0.14  0.16     0.47      0.25        0.48           0.09       0.28   \n1980    0.22  0.14     0.48      0.25        0.52           0.09       0.31   \n1981    0.24  0.15     0.50      0.27        0.54           0.14       0.31   \n1982    0.18  0.15     0.50      0.27        0.53           0.14       0.30   \n1983    0.27  0.14     0.50      0.27        0.54           0.13       0.33   \n1984    0.28  0.14     0.49      0.29        0.57           0.12       0.30   \n1985    0.30  0.15     0.55      0.30        0.59           0.13       0.32   \n1986    0.31  0.17     0.59      0.27        0.61           0.13       0.34   \n1987    0.29  0.15     0.58      0.26        0.56           0.13       0.36   \n1988    0.28  0.14     0.56      0.25        0.50           0.12       0.33   \n1989    0.26  0.13     0.51      0.31        0.47           0.11       0.31   \n1990    0.26  0.12     0.48      0.30        0.46           0.10       0.31   \n1991    0.25  0.12     0.46      0.28        0.43           0.09       0.27   \n1992    0.24  0.12     0.44      0.28        0.46           0.09       0.25   \n1993    0.20  0.11     0.44      0.27        0.39           0.08       0.22   \n1994    0.20  0.09     0.42      0.27        0.39           0.08       0.22   \n1995    0.19  0.09     0.41      0.29        0.40           0.09       0.23   \n1996    0.22  0.10     0.46      0.30        0.40           0.10       0.24   \n1997    0.20  0.10     0.46      0.29        0.42           0.10       0.25   \n1998    0.23  0.10     0.47      0.29        0.43           0.10       0.26   \n1999    0.20  0.10     0.47      0.32        0.40           0.10       0.26   \n2000    0.22  0.11     0.47      0.31        0.41           0.10       0.27   \n2001    0.21  0.14     0.47      0.32        0.40           0.10       0.26   \n2002    0.22  0.14     0.49      0.34        0.42           0.10       0.28   \n2003    0.23  0.15     0.51      0.36        0.46           0.10       0.29   \n2004    0.24  0.15     0.54      0.37        0.46           0.10       0.30   \n2005    0.25  0.16     0.56      0.38        0.55           0.10       0.31   \n2006    0.26  0.16     0.58      0.39        0.48           0.10       0.32   \n2007    0.27  0.16     0.61      0.41        0.50           0.10       0.33   \n2008    0.27  0.17     0.62      0.42        0.50           0.10       0.34   \n2009    0.28  0.17     0.63      0.43        0.51           0.10       0.31   \n\nState  Wyoming  \nYear            \n1977      0.21  \n1978      0.22  \n1979      0.22  \n1980      0.24  \n1981      0.24  \n1982      0.24  \n1983      0.22  \n1984      0.22  \n1985      0.25  \n1986      0.26  \n1987      0.24  \n1988      0.23  \n1989      0.22  \n1990      0.22  \n1991      0.20  \n1992      0.20  \n1993      0.19  \n1994      0.18  \n1995      0.16  \n1996      0.16  \n1997      0.17  \n1998      0.20  \n1999      0.18  \n2000      0.18  \n2001      0.22  \n2002      0.22  \n2003      0.23  \n2004      0.22  \n2005      0.23  \n2006      0.23  \n2007      0.23  \n2008      0.23  \n2009      0.22  \n\n[33 rows x 51 columns]",
      "text/html": "<div>\n<style scoped>\n    .dataframe tbody tr th:only-of-type {\n        vertical-align: middle;\n    }\n\n    .dataframe tbody tr th {\n        vertical-align: top;\n    }\n\n    .dataframe thead th {\n        text-align: right;\n    }\n</style>\n<table border=\"1\" class=\"dataframe\">\n  <thead>\n    <tr style=\"text-align: right;\">\n      <th>State</th>\n      <th>Alabama</th>\n      <th>Alaska</th>\n      <th>Arizona</th>\n      <th>Arkansas</th>\n      <th>California</th>\n      <th>Colorado</th>\n      <th>Connecticut</th>\n      <th>Delaware</th>\n      <th>District of Columbia</th>\n      <th>Florida</th>\n      <th>...</th>\n      <th>South Dakota</th>\n      <th>Tennessee</th>\n      <th>Texas</th>\n      <th>Utah</th>\n      <th>Vermont</th>\n      <th>Virginia</th>\n      <th>Washington</th>\n      <th>West Virginia</th>\n      <th>Wisconsin</th>\n      <th>Wyoming</th>\n    </tr>\n    <tr>\n      <th>Year</th>\n      <th></th>\n      <th></th>\n      <th></th>\n      <th></th>\n      <th></th>\n      <th></th>\n      <th></th>\n      <th></th>\n      <th></th>\n      <th></th>\n      <th></th>\n      <th></th>\n      <th></th>\n      <th></th>\n      <th></th>\n      <th></th>\n      <th></th>\n      <th></th>\n      <th></th>\n      <th></th>\n      <th></th>\n    </tr>\n  </thead>\n  <tbody>\n    <tr>\n      <th>1977</th>\n      <td>0.13</td>\n      <td>0.42</td>\n      <td>0.34</td>\n      <td>0.10</td>\n      <td>0.67</td>\n      <td>0.36</td>\n      <td>0.35</td>\n      <td>0.24</td>\n      <td>0.89</td>\n      <td>0.33</td>\n      <td>...</td>\n      <td>0.17</td>\n      <td>0.10</td>\n      <td>0.14</td>\n      <td>0.14</td>\n      <td>0.44</td>\n      <td>0.21</td>\n      <td>0.45</td>\n      <td>0.09</td>\n      <td>0.27</td>\n      <td>0.21</td>\n    </tr>\n    <tr>\n      <th>1978</th>\n      <td>0.12</td>\n      <td>0.45</td>\n      <td>0.37</td>\n      <td>0.11</td>\n      <td>0.68</td>\n      <td>0.47</td>\n      <td>0.38</td>\n      <td>0.25</td>\n      <td>0.94</td>\n      <td>0.34</td>\n      <td>...</td>\n      <td>0.17</td>\n      <td>0.11</td>\n      <td>0.14</td>\n      <td>0.15</td>\n      <td>0.47</td>\n      <td>0.21</td>\n      <td>0.48</td>\n      <td>0.09</td>\n      <td>0.28</td>\n      <td>0.22</td>\n    </tr>\n    <tr>\n      <th>1979</th>\n      <td>0.12</td>\n      <td>0.47</td>\n      <td>0.39</td>\n      <td>0.10</td>\n      <td>0.70</td>\n      <td>0.47</td>\n      <td>0.40</td>\n      <td>0.27</td>\n      <td>0.99</td>\n      <td>0.37</td>\n      <td>...</td>\n      <td>0.17</td>\n      <td>0.11</td>\n      <td>0.14</td>\n      <td>0.16</td>\n      <td>0.47</td>\n      <td>0.25</td>\n      <td>0.48</td>\n      <td>0.09</td>\n      <td>0.28</td>\n      <td>0.22</td>\n    </tr>\n    <tr>\n      <th>1980</th>\n      <td>0.16</td>\n      <td>0.50</td>\n      <td>0.36</td>\n      <td>0.12</td>\n      <td>0.71</td>\n      <td>0.47</td>\n      <td>0.43</td>\n      <td>0.29</td>\n      <td>0.99</td>\n      <td>0.37</td>\n      <td>...</td>\n      <td>0.18</td>\n      <td>0.12</td>\n      <td>0.22</td>\n      <td>0.14</td>\n      <td>0.48</td>\n      <td>0.25</td>\n      <td>0.52</td>\n      <td>0.09</td>\n      <td>0.31</td>\n      <td>0.24</td>\n    </tr>\n    <tr>\n      <th>1981</th>\n      <td>0.19</td>\n      <td>0.57</td>\n      <td>0.42</td>\n      <td>0.12</td>\n      <td>0.72</td>\n      <td>0.44</td>\n      <td>0.44</td>\n      <td>0.32</td>\n      <td>1.06</td>\n      <td>0.39</td>\n      <td>...</td>\n      <td>0.19</td>\n      <td>0.13</td>\n      <td>0.24</td>\n      <td>0.15</td>\n      <td>0.50</td>\n      <td>0.27</td>\n      <td>0.54</td>\n      <td>0.14</td>\n      <td>0.31</td>\n      <td>0.24</td>\n    </tr>\n    <tr>\n      <th>1982</th>\n      <td>0.18</td>\n      <td>0.56</td>\n      <td>0.40</td>\n      <td>0.12</td>\n      <td>0.72</td>\n      <td>0.46</td>\n      <td>0.49</td>\n      <td>0.34</td>\n      <td>1.00</td>\n      <td>0.40</td>\n      <td>...</td>\n      <td>0.18</td>\n      <td>0.14</td>\n      <td>0.18</td>\n      <td>0.15</td>\n      <td>0.50</td>\n      <td>0.27</td>\n      <td>0.53</td>\n      <td>0.14</td>\n      <td>0.30</td>\n      <td>0.24</td>\n    </tr>\n    <tr>\n      <th>1983</th>\n      <td>0.17</td>\n      <td>0.61</td>\n      <td>0.44</td>\n      <td>0.13</td>\n      <td>0.75</td>\n      <td>0.46</td>\n      <td>0.49</td>\n      <td>0.35</td>\n      <td>1.08</td>\n      <td>0.40</td>\n      <td>...</td>\n      <td>0.17</td>\n      <td>0.14</td>\n      <td>0.27</td>\n      <td>0.14</td>\n      <td>0.50</td>\n      <td>0.27</td>\n      <td>0.54</td>\n      <td>0.13</td>\n      <td>0.33</td>\n      <td>0.22</td>\n    </tr>\n    <tr>\n      <th>1984</th>\n      <td>0.19</td>\n      <td>0.58</td>\n      <td>0.45</td>\n      <td>0.12</td>\n      <td>0.74</td>\n      <td>0.46</td>\n      <td>0.50</td>\n      <td>0.38</td>\n      <td>1.11</td>\n      <td>0.40</td>\n      <td>...</td>\n      <td>0.17</td>\n      <td>0.15</td>\n      <td>0.28</td>\n      <td>0.14</td>\n      <td>0.49</td>\n      <td>0.29</td>\n      <td>0.57</td>\n      <td>0.12</td>\n      <td>0.30</td>\n      <td>0.22</td>\n    </tr>\n    <tr>\n      <th>1985</th>\n      <td>0.17</td>\n      <td>0.58</td>\n      <td>0.46</td>\n      <td>0.13</td>\n      <td>0.78</td>\n      <td>0.50</td>\n      <td>0.50</td>\n      <td>0.41</td>\n      <td>1.03</td>\n      <td>0.41</td>\n      <td>...</td>\n      <td>0.18</td>\n      <td>0.16</td>\n      <td>0.30</td>\n      <td>0.15</td>\n      <td>0.55</td>\n      <td>0.30</td>\n      <td>0.59</td>\n      <td>0.13</td>\n      <td>0.32</td>\n      <td>0.25</td>\n    </tr>\n    <tr>\n      <th>1986</th>\n      <td>0.18</td>\n      <td>0.56</td>\n      <td>0.46</td>\n      <td>0.09</td>\n      <td>0.79</td>\n      <td>0.46</td>\n      <td>0.51</td>\n      <td>0.44</td>\n      <td>1.04</td>\n      <td>0.41</td>\n      <td>...</td>\n      <td>0.19</td>\n      <td>0.16</td>\n      <td>0.31</td>\n      <td>0.17</td>\n      <td>0.59</td>\n      <td>0.27</td>\n      <td>0.61</td>\n      <td>0.13</td>\n      <td>0.34</td>\n      <td>0.26</td>\n    </tr>\n    <tr>\n      <th>1987</th>\n      <td>0.18</td>\n      <td>0.54</td>\n      <td>0.46</td>\n      <td>0.11</td>\n      <td>0.74</td>\n      <td>0.44</td>\n      <td>0.52</td>\n      <td>0.42</td>\n      <td>1.00</td>\n      <td>0.42</td>\n      <td>...</td>\n      <td>0.19</td>\n      <td>0.15</td>\n      <td>0.29</td>\n      <td>0.15</td>\n      <td>0.58</td>\n      <td>0.26</td>\n      <td>0.56</td>\n      <td>0.13</td>\n      <td>0.36</td>\n      <td>0.24</td>\n    </tr>\n    <tr>\n      <th>1988</th>\n      <td>0.18</td>\n      <td>0.49</td>\n      <td>0.42</td>\n      <td>0.14</td>\n      <td>0.68</td>\n      <td>0.39</td>\n      <td>0.51</td>\n      <td>0.40</td>\n      <td>0.99</td>\n      <td>0.41</td>\n      <td>...</td>\n      <td>0.16</td>\n      <td>0.14</td>\n      <td>0.28</td>\n      <td>0.14</td>\n      <td>0.56</td>\n      <td>0.25</td>\n      <td>0.50</td>\n      <td>0.12</td>\n      <td>0.33</td>\n      <td>0.23</td>\n    </tr>\n    <tr>\n      <th>1989</th>\n      <td>0.17</td>\n      <td>0.46</td>\n      <td>0.36</td>\n      <td>0.13</td>\n      <td>0.61</td>\n      <td>0.37</td>\n      <td>0.47</td>\n      <td>0.38</td>\n      <td>0.88</td>\n      <td>0.39</td>\n      <td>...</td>\n      <td>0.15</td>\n      <td>0.14</td>\n      <td>0.26</td>\n      <td>0.13</td>\n      <td>0.51</td>\n      <td>0.31</td>\n      <td>0.47</td>\n      <td>0.11</td>\n      <td>0.31</td>\n      <td>0.22</td>\n    </tr>\n    <tr>\n      <th>1990</th>\n      <td>0.18</td>\n      <td>0.46</td>\n      <td>0.37</td>\n      <td>0.13</td>\n      <td>0.59</td>\n      <td>0.29</td>\n      <td>0.45</td>\n      <td>0.37</td>\n      <td>0.76</td>\n      <td>0.39</td>\n      <td>...</td>\n      <td>0.18</td>\n      <td>0.14</td>\n      <td>0.26</td>\n      <td>0.12</td>\n      <td>0.48</td>\n      <td>0.30</td>\n      <td>0.46</td>\n      <td>0.10</td>\n      <td>0.31</td>\n      <td>0.22</td>\n    </tr>\n    <tr>\n      <th>1991</th>\n      <td>0.17</td>\n      <td>0.43</td>\n      <td>0.35</td>\n      <td>0.11</td>\n      <td>0.49</td>\n      <td>0.35</td>\n      <td>0.43</td>\n      <td>0.35</td>\n      <td>0.61</td>\n      <td>0.34</td>\n      <td>...</td>\n      <td>0.15</td>\n      <td>0.13</td>\n      <td>0.25</td>\n      <td>0.12</td>\n      <td>0.46</td>\n      <td>0.28</td>\n      <td>0.43</td>\n      <td>0.09</td>\n      <td>0.27</td>\n      <td>0.20</td>\n    </tr>\n    <tr>\n      <th>1992</th>\n      <td>0.19</td>\n      <td>0.41</td>\n      <td>0.31</td>\n      <td>0.12</td>\n      <td>0.51</td>\n      <td>0.36</td>\n      <td>0.45</td>\n      <td>0.36</td>\n      <td>0.70</td>\n      <td>0.34</td>\n      <td>...</td>\n      <td>0.15</td>\n      <td>0.14</td>\n      <td>0.24</td>\n      <td>0.12</td>\n      <td>0.44</td>\n      <td>0.28</td>\n      <td>0.46</td>\n      <td>0.09</td>\n      <td>0.25</td>\n      <td>0.20</td>\n    </tr>\n    <tr>\n      <th>1993</th>\n      <td>0.17</td>\n      <td>0.32</td>\n      <td>0.27</td>\n      <td>0.11</td>\n      <td>0.48</td>\n      <td>0.36</td>\n      <td>0.44</td>\n      <td>0.35</td>\n      <td>0.73</td>\n      <td>0.33</td>\n      <td>...</td>\n      <td>0.12</td>\n      <td>0.14</td>\n      <td>0.20</td>\n      <td>0.11</td>\n      <td>0.44</td>\n      <td>0.27</td>\n      <td>0.39</td>\n      <td>0.08</td>\n      <td>0.22</td>\n      <td>0.19</td>\n    </tr>\n    <tr>\n      <th>1994</th>\n      <td>0.17</td>\n      <td>0.40</td>\n      <td>0.29</td>\n      <td>0.13</td>\n      <td>0.47</td>\n      <td>0.35</td>\n      <td>0.43</td>\n      <td>0.38</td>\n      <td>0.74</td>\n      <td>0.33</td>\n      <td>...</td>\n      <td>0.12</td>\n      <td>0.15</td>\n      <td>0.20</td>\n      <td>0.09</td>\n      <td>0.42</td>\n      <td>0.27</td>\n      <td>0.39</td>\n      <td>0.08</td>\n      <td>0.22</td>\n      <td>0.18</td>\n    </tr>\n    <tr>\n      <th>1995</th>\n      <td>0.15</td>\n      <td>0.39</td>\n      <td>0.29</td>\n      <td>0.12</td>\n      <td>0.45</td>\n      <td>0.35</td>\n      <td>0.49</td>\n      <td>0.40</td>\n      <td>0.72</td>\n      <td>0.35</td>\n      <td>...</td>\n      <td>0.12</td>\n      <td>0.15</td>\n      <td>0.19</td>\n      <td>0.09</td>\n      <td>0.41</td>\n      <td>0.29</td>\n      <td>0.40</td>\n      <td>0.09</td>\n      <td>0.23</td>\n      <td>0.16</td>\n    </tr>\n    <tr>\n      <th>1996</th>\n      <td>0.15</td>\n      <td>0.38</td>\n      <td>0.33</td>\n      <td>0.12</td>\n      <td>0.49</td>\n      <td>0.37</td>\n      <td>0.46</td>\n      <td>0.45</td>\n      <td>0.74</td>\n      <td>0.37</td>\n      <td>...</td>\n      <td>0.13</td>\n      <td>0.15</td>\n      <td>0.22</td>\n      <td>0.10</td>\n      <td>0.46</td>\n      <td>0.30</td>\n      <td>0.40</td>\n      <td>0.10</td>\n      <td>0.24</td>\n      <td>0.16</td>\n    </tr>\n    <tr>\n      <th>1997</th>\n      <td>0.15</td>\n      <td>0.36</td>\n      <td>0.31</td>\n      <td>0.12</td>\n      <td>0.50</td>\n      <td>0.37</td>\n      <td>0.48</td>\n      <td>0.46</td>\n      <td>0.74</td>\n      <td>0.37</td>\n      <td>...</td>\n      <td>0.13</td>\n      <td>0.16</td>\n      <td>0.20</td>\n      <td>0.10</td>\n      <td>0.46</td>\n      <td>0.29</td>\n      <td>0.42</td>\n      <td>0.10</td>\n      <td>0.25</td>\n      <td>0.17</td>\n    </tr>\n    <tr>\n      <th>1998</th>\n      <td>0.17</td>\n      <td>0.39</td>\n      <td>0.32</td>\n      <td>0.11</td>\n      <td>0.45</td>\n      <td>0.37</td>\n      <td>0.48</td>\n      <td>0.47</td>\n      <td>0.73</td>\n      <td>0.38</td>\n      <td>...</td>\n      <td>0.13</td>\n      <td>0.15</td>\n      <td>0.23</td>\n      <td>0.10</td>\n      <td>0.47</td>\n      <td>0.29</td>\n      <td>0.43</td>\n      <td>0.10</td>\n      <td>0.26</td>\n      <td>0.20</td>\n    </tr>\n    <tr>\n      <th>1999</th>\n      <td>0.17</td>\n      <td>0.40</td>\n      <td>0.34</td>\n      <td>0.12</td>\n      <td>0.46</td>\n      <td>0.37</td>\n      <td>0.49</td>\n      <td>0.48</td>\n      <td>0.73</td>\n      <td>0.40</td>\n      <td>...</td>\n      <td>0.14</td>\n      <td>0.15</td>\n      <td>0.20</td>\n      <td>0.10</td>\n      <td>0.47</td>\n      <td>0.32</td>\n      <td>0.40</td>\n      <td>0.10</td>\n      <td>0.26</td>\n      <td>0.18</td>\n    </tr>\n    <tr>\n      <th>2000</th>\n      <td>0.18</td>\n      <td>0.37</td>\n      <td>0.31</td>\n      <td>0.12</td>\n      <td>0.48</td>\n      <td>0.37</td>\n      <td>0.49</td>\n      <td>0.48</td>\n      <td>0.70</td>\n      <td>0.40</td>\n      <td>...</td>\n      <td>0.15</td>\n      <td>0.15</td>\n      <td>0.22</td>\n      <td>0.11</td>\n      <td>0.47</td>\n      <td>0.31</td>\n      <td>0.41</td>\n      <td>0.10</td>\n      <td>0.27</td>\n      <td>0.18</td>\n    </tr>\n    <tr>\n      <th>2001</th>\n      <td>0.17</td>\n      <td>0.40</td>\n      <td>0.33</td>\n      <td>0.13</td>\n      <td>0.48</td>\n      <td>0.41</td>\n      <td>0.50</td>\n      <td>0.49</td>\n      <td>0.82</td>\n      <td>0.40</td>\n      <td>...</td>\n      <td>0.15</td>\n      <td>0.16</td>\n      <td>0.21</td>\n      <td>0.14</td>\n      <td>0.47</td>\n      <td>0.32</td>\n      <td>0.40</td>\n      <td>0.10</td>\n      <td>0.26</td>\n      <td>0.22</td>\n    </tr>\n    <tr>\n      <th>2002</th>\n      <td>0.21</td>\n      <td>0.43</td>\n      <td>0.33</td>\n      <td>0.14</td>\n      <td>0.49</td>\n      <td>0.39</td>\n      <td>0.50</td>\n      <td>0.52</td>\n      <td>0.84</td>\n      <td>0.43</td>\n      <td>...</td>\n      <td>0.16</td>\n      <td>0.17</td>\n      <td>0.22</td>\n      <td>0.14</td>\n      <td>0.49</td>\n      <td>0.34</td>\n      <td>0.42</td>\n      <td>0.10</td>\n      <td>0.28</td>\n      <td>0.22</td>\n    </tr>\n    <tr>\n      <th>2003</th>\n      <td>0.19</td>\n      <td>0.37</td>\n      <td>0.37</td>\n      <td>0.14</td>\n      <td>0.50</td>\n      <td>0.40</td>\n      <td>0.52</td>\n      <td>0.56</td>\n      <td>0.90</td>\n      <td>0.44</td>\n      <td>...</td>\n      <td>0.16</td>\n      <td>0.18</td>\n      <td>0.23</td>\n      <td>0.15</td>\n      <td>0.51</td>\n      <td>0.36</td>\n      <td>0.46</td>\n      <td>0.10</td>\n      <td>0.29</td>\n      <td>0.23</td>\n    </tr>\n    <tr>\n      <th>2004</th>\n      <td>0.20</td>\n      <td>0.45</td>\n      <td>0.33</td>\n      <td>0.15</td>\n      <td>0.51</td>\n      <td>0.43</td>\n      <td>0.53</td>\n      <td>0.57</td>\n      <td>0.94</td>\n      <td>0.46</td>\n      <td>...</td>\n      <td>0.18</td>\n      <td>0.18</td>\n      <td>0.24</td>\n      <td>0.15</td>\n      <td>0.54</td>\n      <td>0.37</td>\n      <td>0.46</td>\n      <td>0.10</td>\n      <td>0.30</td>\n      <td>0.22</td>\n    </tr>\n    <tr>\n      <th>2005</th>\n      <td>0.20</td>\n      <td>0.43</td>\n      <td>0.39</td>\n      <td>0.16</td>\n      <td>0.53</td>\n      <td>0.41</td>\n      <td>0.54</td>\n      <td>0.59</td>\n      <td>0.92</td>\n      <td>0.47</td>\n      <td>...</td>\n      <td>0.19</td>\n      <td>0.19</td>\n      <td>0.25</td>\n      <td>0.16</td>\n      <td>0.56</td>\n      <td>0.38</td>\n      <td>0.55</td>\n      <td>0.10</td>\n      <td>0.31</td>\n      <td>0.23</td>\n    </tr>\n    <tr>\n      <th>2006</th>\n      <td>0.21</td>\n      <td>0.46</td>\n      <td>0.37</td>\n      <td>0.17</td>\n      <td>0.54</td>\n      <td>0.45</td>\n      <td>0.55</td>\n      <td>0.60</td>\n      <td>0.95</td>\n      <td>0.48</td>\n      <td>...</td>\n      <td>0.19</td>\n      <td>0.19</td>\n      <td>0.26</td>\n      <td>0.16</td>\n      <td>0.58</td>\n      <td>0.39</td>\n      <td>0.48</td>\n      <td>0.10</td>\n      <td>0.32</td>\n      <td>0.23</td>\n    </tr>\n    <tr>\n      <th>2007</th>\n      <td>0.22</td>\n      <td>0.44</td>\n      <td>0.33</td>\n      <td>0.17</td>\n      <td>0.55</td>\n      <td>0.47</td>\n      <td>0.58</td>\n      <td>0.59</td>\n      <td>0.99</td>\n      <td>0.49</td>\n      <td>...</td>\n      <td>0.22</td>\n      <td>0.20</td>\n      <td>0.27</td>\n      <td>0.16</td>\n      <td>0.61</td>\n      <td>0.41</td>\n      <td>0.50</td>\n      <td>0.10</td>\n      <td>0.33</td>\n      <td>0.23</td>\n    </tr>\n    <tr>\n      <th>2008</th>\n      <td>0.22</td>\n      <td>0.49</td>\n      <td>0.40</td>\n      <td>0.17</td>\n      <td>0.55</td>\n      <td>0.46</td>\n      <td>0.59</td>\n      <td>0.58</td>\n      <td>1.00</td>\n      <td>0.49</td>\n      <td>...</td>\n      <td>0.22</td>\n      <td>0.20</td>\n      <td>0.27</td>\n      <td>0.17</td>\n      <td>0.62</td>\n      <td>0.42</td>\n      <td>0.50</td>\n      <td>0.10</td>\n      <td>0.34</td>\n      <td>0.23</td>\n    </tr>\n    <tr>\n      <th>2009</th>\n      <td>0.22</td>\n      <td>0.54</td>\n      <td>0.38</td>\n      <td>0.17</td>\n      <td>0.55</td>\n      <td>0.46</td>\n      <td>0.59</td>\n      <td>0.57</td>\n      <td>1.00</td>\n      <td>0.48</td>\n      <td>...</td>\n      <td>0.22</td>\n      <td>0.21</td>\n      <td>0.28</td>\n      <td>0.17</td>\n      <td>0.63</td>\n      <td>0.43</td>\n      <td>0.51</td>\n      <td>0.10</td>\n      <td>0.31</td>\n      <td>0.22</td>\n    </tr>\n  </tbody>\n</table>\n<p>33 rows × 51 columns</p>\n</div>"
     },
     "execution_count": 9,
     "metadata": {},
     "output_type": "execute_result"
    }
   ],
   "source": [
    "#피보팅. 자주 쓰이는 일반화된 연산.\n",
    "#pivot(index,columns,values) 인덱스를 year로 잡고 주별, 와인정보만 출ㄺ\n",
    "alco = pd.read_csv(\"niaaa-report.csv\")\n",
    "alco.pivot(\"Year\",\"State\",\"Wine\")"
   ],
   "metadata": {
    "collapsed": false,
    "pycharm": {
     "name": "#%%\n"
    }
   }
  },
  {
   "cell_type": "code",
   "execution_count": 10,
   "outputs": [
    {
     "data": {
      "text/plain": "                Beer  Wine  Spirits  Water\nState                                     \nSouth Carolina  1.36  0.24     0.77    NaN\nSouth Dakota    1.53  0.22     0.88    NaN",
      "text/html": "<div>\n<style scoped>\n    .dataframe tbody tr th:only-of-type {\n        vertical-align: middle;\n    }\n\n    .dataframe tbody tr th {\n        vertical-align: top;\n    }\n\n    .dataframe thead th {\n        text-align: right;\n    }\n</style>\n<table border=\"1\" class=\"dataframe\">\n  <thead>\n    <tr style=\"text-align: right;\">\n      <th></th>\n      <th>Beer</th>\n      <th>Wine</th>\n      <th>Spirits</th>\n      <th>Water</th>\n    </tr>\n    <tr>\n      <th>State</th>\n      <th></th>\n      <th></th>\n      <th></th>\n      <th></th>\n    </tr>\n  </thead>\n  <tbody>\n    <tr>\n      <th>South Carolina</th>\n      <td>1.36</td>\n      <td>0.24</td>\n      <td>0.77</td>\n      <td>NaN</td>\n    </tr>\n    <tr>\n      <th>South Dakota</th>\n      <td>1.53</td>\n      <td>0.22</td>\n      <td>0.88</td>\n      <td>NaN</td>\n    </tr>\n  </tbody>\n</table>\n</div>"
     },
     "execution_count": 10,
     "metadata": {},
     "output_type": "execute_result"
    }
   ],
   "source": [
    "#결측치 제거해보기.\n",
    "#평범한 결측치 제거 함수\n",
    "nan_alco.dropna(how=\"all\")"
   ],
   "metadata": {
    "collapsed": false,
    "pycharm": {
     "name": "#%%\n"
    }
   }
  },
  {
   "cell_type": "code",
   "execution_count": 11,
   "outputs": [
    {
     "data": {
      "text/plain": "                Beer  Wine  Spirits  Water\nState                                     \nSouth Carolina  1.36  0.24     0.77    0.0\nSouth Dakota    1.53  0.22     0.88    0.0\nSamoa           0.00  0.00     0.00    0.0",
      "text/html": "<div>\n<style scoped>\n    .dataframe tbody tr th:only-of-type {\n        vertical-align: middle;\n    }\n\n    .dataframe tbody tr th {\n        vertical-align: top;\n    }\n\n    .dataframe thead th {\n        text-align: right;\n    }\n</style>\n<table border=\"1\" class=\"dataframe\">\n  <thead>\n    <tr style=\"text-align: right;\">\n      <th></th>\n      <th>Beer</th>\n      <th>Wine</th>\n      <th>Spirits</th>\n      <th>Water</th>\n    </tr>\n    <tr>\n      <th>State</th>\n      <th></th>\n      <th></th>\n      <th></th>\n      <th></th>\n    </tr>\n  </thead>\n  <tbody>\n    <tr>\n      <th>South Carolina</th>\n      <td>1.36</td>\n      <td>0.24</td>\n      <td>0.77</td>\n      <td>0.0</td>\n    </tr>\n    <tr>\n      <th>South Dakota</th>\n      <td>1.53</td>\n      <td>0.22</td>\n      <td>0.88</td>\n      <td>0.0</td>\n    </tr>\n    <tr>\n      <th>Samoa</th>\n      <td>0.00</td>\n      <td>0.00</td>\n      <td>0.00</td>\n      <td>0.0</td>\n    </tr>\n  </tbody>\n</table>\n</div>"
     },
     "execution_count": 11,
     "metadata": {},
     "output_type": "execute_result"
    }
   ],
   "source": [
    "nan_alco.isnull()\n",
    "\n",
    "nan_alco.notnull()\n",
    "\n",
    "#결측치에 0으로 채워넣기\n",
    "nan_alco.fillna(0)\n"
   ],
   "metadata": {
    "collapsed": false,
    "pycharm": {
     "name": "#%%\n"
    }
   }
  },
  {
   "cell_type": "code",
   "execution_count": 12,
   "outputs": [
    {
     "data": {
      "text/plain": "            Beer  Wine  Spirits  Total  Population\nState                                             \nAlabama     1.20  0.22     0.58   2.00   4,780,131\nAlaska      1.31  0.54     1.16   3.01     710,249\nArizona     1.19  0.38     0.74   2.31   6,392,301\nArkansas    1.07  0.17     0.60   1.84   2,916,025\nCalifornia  1.05  0.55     0.73   2.33  37,254,522",
      "text/html": "<div>\n<style scoped>\n    .dataframe tbody tr th:only-of-type {\n        vertical-align: middle;\n    }\n\n    .dataframe tbody tr th {\n        vertical-align: top;\n    }\n\n    .dataframe thead th {\n        text-align: right;\n    }\n</style>\n<table border=\"1\" class=\"dataframe\">\n  <thead>\n    <tr style=\"text-align: right;\">\n      <th></th>\n      <th>Beer</th>\n      <th>Wine</th>\n      <th>Spirits</th>\n      <th>Total</th>\n      <th>Population</th>\n    </tr>\n    <tr>\n      <th>State</th>\n      <th></th>\n      <th></th>\n      <th></th>\n      <th></th>\n      <th></th>\n    </tr>\n  </thead>\n  <tbody>\n    <tr>\n      <th>Alabama</th>\n      <td>1.20</td>\n      <td>0.22</td>\n      <td>0.58</td>\n      <td>2.00</td>\n      <td>4,780,131</td>\n    </tr>\n    <tr>\n      <th>Alaska</th>\n      <td>1.31</td>\n      <td>0.54</td>\n      <td>1.16</td>\n      <td>3.01</td>\n      <td>710,249</td>\n    </tr>\n    <tr>\n      <th>Arizona</th>\n      <td>1.19</td>\n      <td>0.38</td>\n      <td>0.74</td>\n      <td>2.31</td>\n      <td>6,392,301</td>\n    </tr>\n    <tr>\n      <th>Arkansas</th>\n      <td>1.07</td>\n      <td>0.17</td>\n      <td>0.60</td>\n      <td>1.84</td>\n      <td>2,916,025</td>\n    </tr>\n    <tr>\n      <th>California</th>\n      <td>1.05</td>\n      <td>0.55</td>\n      <td>0.73</td>\n      <td>2.33</td>\n      <td>37,254,522</td>\n    </tr>\n  </tbody>\n</table>\n</div>"
     },
     "execution_count": 12,
     "metadata": {},
     "output_type": "execute_result"
    }
   ],
   "source": [
    "#데이터 합치기, 인구정보와 음주율을 합친 데이터\n",
    "popul= pd.read_csv(\"population.csv\", index_col=\"State\")\n",
    "popul.head()\n",
    "\n",
    "df=pd.merge(alco2009.reset_index(), popul.reset_index()).set_index(\"State\")\n",
    "df.head()\n"
   ],
   "metadata": {
    "collapsed": false,
    "pycharm": {
     "name": "#%%\n"
    }
   }
  },
  {
   "cell_type": "code",
   "execution_count": 13,
   "outputs": [
    {
     "data": {
      "text/plain": "               Population  Beer  Wine  Spirits  Total\nState                                                \nSouth Dakota      814,195  1.53  0.22     0.88   2.63\nTennessee       6,346,298  1.05  0.21     0.57   1.83\nTexas          25,146,100  1.42  0.28     0.58   2.28\nUtah            2,763,888  0.70  0.17     0.46   1.33\nVermont           625,741  1.36  0.63     0.70   2.69\nVirginia        8,001,041  1.11  0.43     0.59   2.13\nWashington      6,724,545  1.09  0.51     0.74   2.34\nWest Virginia   1,853,011  1.24  0.10     0.45   1.79\nWisconsin       5,687,289  1.49  0.31     1.16   2.96\nWyoming           563,767  1.45  0.22     1.10   2.77",
      "text/html": "<div>\n<style scoped>\n    .dataframe tbody tr th:only-of-type {\n        vertical-align: middle;\n    }\n\n    .dataframe tbody tr th {\n        vertical-align: top;\n    }\n\n    .dataframe thead th {\n        text-align: right;\n    }\n</style>\n<table border=\"1\" class=\"dataframe\">\n  <thead>\n    <tr style=\"text-align: right;\">\n      <th></th>\n      <th>Population</th>\n      <th>Beer</th>\n      <th>Wine</th>\n      <th>Spirits</th>\n      <th>Total</th>\n    </tr>\n    <tr>\n      <th>State</th>\n      <th></th>\n      <th></th>\n      <th></th>\n      <th></th>\n      <th></th>\n    </tr>\n  </thead>\n  <tbody>\n    <tr>\n      <th>South Dakota</th>\n      <td>814,195</td>\n      <td>1.53</td>\n      <td>0.22</td>\n      <td>0.88</td>\n      <td>2.63</td>\n    </tr>\n    <tr>\n      <th>Tennessee</th>\n      <td>6,346,298</td>\n      <td>1.05</td>\n      <td>0.21</td>\n      <td>0.57</td>\n      <td>1.83</td>\n    </tr>\n    <tr>\n      <th>Texas</th>\n      <td>25,146,100</td>\n      <td>1.42</td>\n      <td>0.28</td>\n      <td>0.58</td>\n      <td>2.28</td>\n    </tr>\n    <tr>\n      <th>Utah</th>\n      <td>2,763,888</td>\n      <td>0.70</td>\n      <td>0.17</td>\n      <td>0.46</td>\n      <td>1.33</td>\n    </tr>\n    <tr>\n      <th>Vermont</th>\n      <td>625,741</td>\n      <td>1.36</td>\n      <td>0.63</td>\n      <td>0.70</td>\n      <td>2.69</td>\n    </tr>\n    <tr>\n      <th>Virginia</th>\n      <td>8,001,041</td>\n      <td>1.11</td>\n      <td>0.43</td>\n      <td>0.59</td>\n      <td>2.13</td>\n    </tr>\n    <tr>\n      <th>Washington</th>\n      <td>6,724,545</td>\n      <td>1.09</td>\n      <td>0.51</td>\n      <td>0.74</td>\n      <td>2.34</td>\n    </tr>\n    <tr>\n      <th>West Virginia</th>\n      <td>1,853,011</td>\n      <td>1.24</td>\n      <td>0.10</td>\n      <td>0.45</td>\n      <td>1.79</td>\n    </tr>\n    <tr>\n      <th>Wisconsin</th>\n      <td>5,687,289</td>\n      <td>1.49</td>\n      <td>0.31</td>\n      <td>1.16</td>\n      <td>2.96</td>\n    </tr>\n    <tr>\n      <th>Wyoming</th>\n      <td>563,767</td>\n      <td>1.45</td>\n      <td>0.22</td>\n      <td>1.10</td>\n      <td>2.77</td>\n    </tr>\n  </tbody>\n</table>\n</div>"
     },
     "execution_count": 13,
     "metadata": {},
     "output_type": "execute_result"
    }
   ],
   "source": [
    "#인덱스를 키로 지정했다면 join도 가능\n",
    "popul.join(alco2009).tail(10)"
   ],
   "metadata": {
    "collapsed": false,
    "pycharm": {
     "name": "#%%\n"
    }
   }
  },
  {
   "cell_type": "code",
   "execution_count": 14,
   "outputs": [
    {
     "data": {
      "text/plain": "                      Beer  Wine  Spirits  Total  Population\nState                                                       \nAlabama               1.20  0.22     0.58   2.00   4,780,131\nAlaska                1.31  0.54     1.16   3.01     710,249\nArizona               1.19  0.38     0.74   2.31   6,392,301\nArkansas              1.07  0.17     0.60   1.84   2,916,025\nCalifornia            1.05  0.55     0.73   2.33  37,254,522\nColorado              1.22  0.46     1.00   2.68   5,029,324\nConnecticut           0.89  0.59     0.86   2.34   3,574,114\nDelaware              1.31  0.57     1.25   3.13     897,936\nDistrict of Columbia  1.26  1.00     1.64   3.90     601,766\nFlorida               1.21  0.48     0.92   2.61  18,804,592\nGeorgia               1.08  0.25     0.64   1.97   9,688,680\nHawaii                1.30  0.53     0.75   2.58   1,360,301\nIdaho                 1.05  0.92     0.70   2.67   1,567,650\nIllinois              1.22  0.39     0.73   2.34  12,831,574\nIndiana               1.09  0.25     0.73   2.07   6,484,136\nIowa                  1.42  0.18     0.72   2.32   3,046,869\nKansas                1.18  0.14     0.67   1.99   2,853,129\nKentucky              1.11  0.18     0.65   1.94   4,339,344\nLouisiana             1.50  0.28     0.85   2.63   4,533,479\nMaine                 1.24  0.42     0.83   2.49   1,328,364\nMaryland              0.97  0.37     0.87   2.21   5,773,786\nMassachusetts         1.02  0.61     0.84   2.47   6,547,813\nMichigan              1.10  0.31     0.80   2.21   9,884,129\nMinnesota             1.19  0.37     1.04   2.60   5,303,924\nMississippi           1.41  0.11     0.71   2.23   2,968,103\nMissouri              1.30  0.30     0.83   2.43   5,988,928\nMontana               1.66  0.45     0.88   2.99     989,414\nNebraska              1.46  0.20     0.68   2.34   1,826,334\nNevada                1.57  0.58     1.15   3.30   2,700,691\nNew Hampshire         1.72  0.84     1.82   4.38   1,316,461\nNew Jersey            0.92  0.57     0.87   2.36   8,791,953\nNew Mexico            1.37  0.32     0.74   2.43   2,059,198\nNew York              0.91  0.46     0.69   2.06  19,378,110\nNorth Carolina        1.10  0.34     0.58   2.02   9,535,688\nNorth Dakota          1.63  0.25     1.16   3.04     672,591\nOhio                  1.28  0.26     0.47   2.01  11,536,727\nOklahoma              1.18  0.18     0.58   1.94   3,751,615\nOregon                1.28  0.49     0.82   2.59   3,831,072\nPennsylvania          1.35  0.23     0.61   2.19  12,702,857\nRhode Island          1.10  0.53     0.92   2.55   1,052,940\nSouth Carolina        1.36  0.24     0.77   2.37   4,625,410\nSouth Dakota          1.53  0.22     0.88   2.63     814,195\nTennessee             1.05  0.21     0.57   1.83   6,346,298\nTexas                 1.42  0.28     0.58   2.28  25,146,100\nUtah                  0.70  0.17     0.46   1.33   2,763,888\nVermont               1.36  0.63     0.70   2.69     625,741\nVirginia              1.11  0.43     0.59   2.13   8,001,041\nWashington            1.09  0.51     0.74   2.34   6,724,545\nWest Virginia         1.24  0.10     0.45   1.79   1,853,011\nWisconsin             1.49  0.31     1.16   2.96   5,687,289\nWyoming               1.45  0.22     1.10   2.77     563,767",
      "text/html": "<div>\n<style scoped>\n    .dataframe tbody tr th:only-of-type {\n        vertical-align: middle;\n    }\n\n    .dataframe tbody tr th {\n        vertical-align: top;\n    }\n\n    .dataframe thead th {\n        text-align: right;\n    }\n</style>\n<table border=\"1\" class=\"dataframe\">\n  <thead>\n    <tr style=\"text-align: right;\">\n      <th></th>\n      <th>Beer</th>\n      <th>Wine</th>\n      <th>Spirits</th>\n      <th>Total</th>\n      <th>Population</th>\n    </tr>\n    <tr>\n      <th>State</th>\n      <th></th>\n      <th></th>\n      <th></th>\n      <th></th>\n      <th></th>\n    </tr>\n  </thead>\n  <tbody>\n    <tr>\n      <th>Alabama</th>\n      <td>1.20</td>\n      <td>0.22</td>\n      <td>0.58</td>\n      <td>2.00</td>\n      <td>4,780,131</td>\n    </tr>\n    <tr>\n      <th>Alaska</th>\n      <td>1.31</td>\n      <td>0.54</td>\n      <td>1.16</td>\n      <td>3.01</td>\n      <td>710,249</td>\n    </tr>\n    <tr>\n      <th>Arizona</th>\n      <td>1.19</td>\n      <td>0.38</td>\n      <td>0.74</td>\n      <td>2.31</td>\n      <td>6,392,301</td>\n    </tr>\n    <tr>\n      <th>Arkansas</th>\n      <td>1.07</td>\n      <td>0.17</td>\n      <td>0.60</td>\n      <td>1.84</td>\n      <td>2,916,025</td>\n    </tr>\n    <tr>\n      <th>California</th>\n      <td>1.05</td>\n      <td>0.55</td>\n      <td>0.73</td>\n      <td>2.33</td>\n      <td>37,254,522</td>\n    </tr>\n    <tr>\n      <th>Colorado</th>\n      <td>1.22</td>\n      <td>0.46</td>\n      <td>1.00</td>\n      <td>2.68</td>\n      <td>5,029,324</td>\n    </tr>\n    <tr>\n      <th>Connecticut</th>\n      <td>0.89</td>\n      <td>0.59</td>\n      <td>0.86</td>\n      <td>2.34</td>\n      <td>3,574,114</td>\n    </tr>\n    <tr>\n      <th>Delaware</th>\n      <td>1.31</td>\n      <td>0.57</td>\n      <td>1.25</td>\n      <td>3.13</td>\n      <td>897,936</td>\n    </tr>\n    <tr>\n      <th>District of Columbia</th>\n      <td>1.26</td>\n      <td>1.00</td>\n      <td>1.64</td>\n      <td>3.90</td>\n      <td>601,766</td>\n    </tr>\n    <tr>\n      <th>Florida</th>\n      <td>1.21</td>\n      <td>0.48</td>\n      <td>0.92</td>\n      <td>2.61</td>\n      <td>18,804,592</td>\n    </tr>\n    <tr>\n      <th>Georgia</th>\n      <td>1.08</td>\n      <td>0.25</td>\n      <td>0.64</td>\n      <td>1.97</td>\n      <td>9,688,680</td>\n    </tr>\n    <tr>\n      <th>Hawaii</th>\n      <td>1.30</td>\n      <td>0.53</td>\n      <td>0.75</td>\n      <td>2.58</td>\n      <td>1,360,301</td>\n    </tr>\n    <tr>\n      <th>Idaho</th>\n      <td>1.05</td>\n      <td>0.92</td>\n      <td>0.70</td>\n      <td>2.67</td>\n      <td>1,567,650</td>\n    </tr>\n    <tr>\n      <th>Illinois</th>\n      <td>1.22</td>\n      <td>0.39</td>\n      <td>0.73</td>\n      <td>2.34</td>\n      <td>12,831,574</td>\n    </tr>\n    <tr>\n      <th>Indiana</th>\n      <td>1.09</td>\n      <td>0.25</td>\n      <td>0.73</td>\n      <td>2.07</td>\n      <td>6,484,136</td>\n    </tr>\n    <tr>\n      <th>Iowa</th>\n      <td>1.42</td>\n      <td>0.18</td>\n      <td>0.72</td>\n      <td>2.32</td>\n      <td>3,046,869</td>\n    </tr>\n    <tr>\n      <th>Kansas</th>\n      <td>1.18</td>\n      <td>0.14</td>\n      <td>0.67</td>\n      <td>1.99</td>\n      <td>2,853,129</td>\n    </tr>\n    <tr>\n      <th>Kentucky</th>\n      <td>1.11</td>\n      <td>0.18</td>\n      <td>0.65</td>\n      <td>1.94</td>\n      <td>4,339,344</td>\n    </tr>\n    <tr>\n      <th>Louisiana</th>\n      <td>1.50</td>\n      <td>0.28</td>\n      <td>0.85</td>\n      <td>2.63</td>\n      <td>4,533,479</td>\n    </tr>\n    <tr>\n      <th>Maine</th>\n      <td>1.24</td>\n      <td>0.42</td>\n      <td>0.83</td>\n      <td>2.49</td>\n      <td>1,328,364</td>\n    </tr>\n    <tr>\n      <th>Maryland</th>\n      <td>0.97</td>\n      <td>0.37</td>\n      <td>0.87</td>\n      <td>2.21</td>\n      <td>5,773,786</td>\n    </tr>\n    <tr>\n      <th>Massachusetts</th>\n      <td>1.02</td>\n      <td>0.61</td>\n      <td>0.84</td>\n      <td>2.47</td>\n      <td>6,547,813</td>\n    </tr>\n    <tr>\n      <th>Michigan</th>\n      <td>1.10</td>\n      <td>0.31</td>\n      <td>0.80</td>\n      <td>2.21</td>\n      <td>9,884,129</td>\n    </tr>\n    <tr>\n      <th>Minnesota</th>\n      <td>1.19</td>\n      <td>0.37</td>\n      <td>1.04</td>\n      <td>2.60</td>\n      <td>5,303,924</td>\n    </tr>\n    <tr>\n      <th>Mississippi</th>\n      <td>1.41</td>\n      <td>0.11</td>\n      <td>0.71</td>\n      <td>2.23</td>\n      <td>2,968,103</td>\n    </tr>\n    <tr>\n      <th>Missouri</th>\n      <td>1.30</td>\n      <td>0.30</td>\n      <td>0.83</td>\n      <td>2.43</td>\n      <td>5,988,928</td>\n    </tr>\n    <tr>\n      <th>Montana</th>\n      <td>1.66</td>\n      <td>0.45</td>\n      <td>0.88</td>\n      <td>2.99</td>\n      <td>989,414</td>\n    </tr>\n    <tr>\n      <th>Nebraska</th>\n      <td>1.46</td>\n      <td>0.20</td>\n      <td>0.68</td>\n      <td>2.34</td>\n      <td>1,826,334</td>\n    </tr>\n    <tr>\n      <th>Nevada</th>\n      <td>1.57</td>\n      <td>0.58</td>\n      <td>1.15</td>\n      <td>3.30</td>\n      <td>2,700,691</td>\n    </tr>\n    <tr>\n      <th>New Hampshire</th>\n      <td>1.72</td>\n      <td>0.84</td>\n      <td>1.82</td>\n      <td>4.38</td>\n      <td>1,316,461</td>\n    </tr>\n    <tr>\n      <th>New Jersey</th>\n      <td>0.92</td>\n      <td>0.57</td>\n      <td>0.87</td>\n      <td>2.36</td>\n      <td>8,791,953</td>\n    </tr>\n    <tr>\n      <th>New Mexico</th>\n      <td>1.37</td>\n      <td>0.32</td>\n      <td>0.74</td>\n      <td>2.43</td>\n      <td>2,059,198</td>\n    </tr>\n    <tr>\n      <th>New York</th>\n      <td>0.91</td>\n      <td>0.46</td>\n      <td>0.69</td>\n      <td>2.06</td>\n      <td>19,378,110</td>\n    </tr>\n    <tr>\n      <th>North Carolina</th>\n      <td>1.10</td>\n      <td>0.34</td>\n      <td>0.58</td>\n      <td>2.02</td>\n      <td>9,535,688</td>\n    </tr>\n    <tr>\n      <th>North Dakota</th>\n      <td>1.63</td>\n      <td>0.25</td>\n      <td>1.16</td>\n      <td>3.04</td>\n      <td>672,591</td>\n    </tr>\n    <tr>\n      <th>Ohio</th>\n      <td>1.28</td>\n      <td>0.26</td>\n      <td>0.47</td>\n      <td>2.01</td>\n      <td>11,536,727</td>\n    </tr>\n    <tr>\n      <th>Oklahoma</th>\n      <td>1.18</td>\n      <td>0.18</td>\n      <td>0.58</td>\n      <td>1.94</td>\n      <td>3,751,615</td>\n    </tr>\n    <tr>\n      <th>Oregon</th>\n      <td>1.28</td>\n      <td>0.49</td>\n      <td>0.82</td>\n      <td>2.59</td>\n      <td>3,831,072</td>\n    </tr>\n    <tr>\n      <th>Pennsylvania</th>\n      <td>1.35</td>\n      <td>0.23</td>\n      <td>0.61</td>\n      <td>2.19</td>\n      <td>12,702,857</td>\n    </tr>\n    <tr>\n      <th>Rhode Island</th>\n      <td>1.10</td>\n      <td>0.53</td>\n      <td>0.92</td>\n      <td>2.55</td>\n      <td>1,052,940</td>\n    </tr>\n    <tr>\n      <th>South Carolina</th>\n      <td>1.36</td>\n      <td>0.24</td>\n      <td>0.77</td>\n      <td>2.37</td>\n      <td>4,625,410</td>\n    </tr>\n    <tr>\n      <th>South Dakota</th>\n      <td>1.53</td>\n      <td>0.22</td>\n      <td>0.88</td>\n      <td>2.63</td>\n      <td>814,195</td>\n    </tr>\n    <tr>\n      <th>Tennessee</th>\n      <td>1.05</td>\n      <td>0.21</td>\n      <td>0.57</td>\n      <td>1.83</td>\n      <td>6,346,298</td>\n    </tr>\n    <tr>\n      <th>Texas</th>\n      <td>1.42</td>\n      <td>0.28</td>\n      <td>0.58</td>\n      <td>2.28</td>\n      <td>25,146,100</td>\n    </tr>\n    <tr>\n      <th>Utah</th>\n      <td>0.70</td>\n      <td>0.17</td>\n      <td>0.46</td>\n      <td>1.33</td>\n      <td>2,763,888</td>\n    </tr>\n    <tr>\n      <th>Vermont</th>\n      <td>1.36</td>\n      <td>0.63</td>\n      <td>0.70</td>\n      <td>2.69</td>\n      <td>625,741</td>\n    </tr>\n    <tr>\n      <th>Virginia</th>\n      <td>1.11</td>\n      <td>0.43</td>\n      <td>0.59</td>\n      <td>2.13</td>\n      <td>8,001,041</td>\n    </tr>\n    <tr>\n      <th>Washington</th>\n      <td>1.09</td>\n      <td>0.51</td>\n      <td>0.74</td>\n      <td>2.34</td>\n      <td>6,724,545</td>\n    </tr>\n    <tr>\n      <th>West Virginia</th>\n      <td>1.24</td>\n      <td>0.10</td>\n      <td>0.45</td>\n      <td>1.79</td>\n      <td>1,853,011</td>\n    </tr>\n    <tr>\n      <th>Wisconsin</th>\n      <td>1.49</td>\n      <td>0.31</td>\n      <td>1.16</td>\n      <td>2.96</td>\n      <td>5,687,289</td>\n    </tr>\n    <tr>\n      <th>Wyoming</th>\n      <td>1.45</td>\n      <td>0.22</td>\n      <td>1.10</td>\n      <td>2.77</td>\n      <td>563,767</td>\n    </tr>\n  </tbody>\n</table>\n</div>"
     },
     "execution_count": 14,
     "metadata": {},
     "output_type": "execute_result"
    }
   ],
   "source": [
    "#데이터를 합쳐서 수직측으로 나열(주 인덱스는 그대로 사용하나, 수직으로 이어져 popul.csv에 있는 주에 관한 알코 열들 데이터가 합쳐지지 않음.\n",
    "pd.concat([alco2009,popul],axis=0)\n",
    "\n",
    "#데이터를 수평측으로 나열해, 주를 인덱스로 잡고 열을 합쳐서 주별 알콜, 인구정보를 알수 있게함.\n",
    "pd.concat([alco2009,popul],axis=1)\n"
   ],
   "metadata": {
    "collapsed": false,
    "pycharm": {
     "name": "#%%\n"
    }
   }
  },
  {
   "cell_type": "code",
   "execution_count": 15,
   "outputs": [
    {
     "data": {
      "text/plain": "                               Population\nCountry State                            \nUS      Alabama                 4,780,131\n        Alaska                    710,249\n        Arizona                 6,392,301\n        Arkansas                2,916,025\n        California             37,254,522\n...                                   ...\nCA      Alberta                  4,252.90\n        British Columbia         4,751.60\n        Yukon                        37.5\n        Northwest Territories        44.5\n        Nunavut                      37.1\n\n[64 rows x 1 columns]",
      "text/html": "<div>\n<style scoped>\n    .dataframe tbody tr th:only-of-type {\n        vertical-align: middle;\n    }\n\n    .dataframe tbody tr th {\n        vertical-align: top;\n    }\n\n    .dataframe thead th {\n        text-align: right;\n    }\n</style>\n<table border=\"1\" class=\"dataframe\">\n  <thead>\n    <tr style=\"text-align: right;\">\n      <th></th>\n      <th></th>\n      <th>Population</th>\n    </tr>\n    <tr>\n      <th>Country</th>\n      <th>State</th>\n      <th></th>\n    </tr>\n  </thead>\n  <tbody>\n    <tr>\n      <th rowspan=\"5\" valign=\"top\">US</th>\n      <th>Alabama</th>\n      <td>4,780,131</td>\n    </tr>\n    <tr>\n      <th>Alaska</th>\n      <td>710,249</td>\n    </tr>\n    <tr>\n      <th>Arizona</th>\n      <td>6,392,301</td>\n    </tr>\n    <tr>\n      <th>Arkansas</th>\n      <td>2,916,025</td>\n    </tr>\n    <tr>\n      <th>California</th>\n      <td>37,254,522</td>\n    </tr>\n    <tr>\n      <th>...</th>\n      <th>...</th>\n      <td>...</td>\n    </tr>\n    <tr>\n      <th rowspan=\"5\" valign=\"top\">CA</th>\n      <th>Alberta</th>\n      <td>4,252.90</td>\n    </tr>\n    <tr>\n      <th>British Columbia</th>\n      <td>4,751.60</td>\n    </tr>\n    <tr>\n      <th>Yukon</th>\n      <td>37.5</td>\n    </tr>\n    <tr>\n      <th>Northwest Territories</th>\n      <td>44.5</td>\n    </tr>\n    <tr>\n      <th>Nunavut</th>\n      <td>37.1</td>\n    </tr>\n  </tbody>\n</table>\n<p>64 rows × 1 columns</p>\n</div>"
     },
     "execution_count": 15,
     "metadata": {},
     "output_type": "execute_result"
    }
   ],
   "source": [
    "#캐나다 주별 인구정보\n",
    "pop_ca= pd.read_csv(\"demo02a-eng.csv\", index_col=\"State\")\n",
    "pop_ca\n",
    "\n",
    "#사용자 정의 인덱스로 미국 인구정보와 캐나다 주별 인구정보 합치기!\n",
    "pop_na=pd.concat([popul, pop_ca], keys=[\"US\",\"CA\"])\n",
    "pop_na\n",
    "\n",
    "pop_na.index.names = (\"Country\",\"State\")\n",
    "pop_na\n"
   ],
   "metadata": {
    "collapsed": false,
    "pycharm": {
     "name": "#%%\n"
    }
   }
  },
  {
   "cell_type": "code",
   "execution_count": 16,
   "outputs": [
    {
     "data": {
      "text/plain": "                      Population\nState                           \nAlabama                     28.0\nAlaska                      43.0\nArizona                     36.0\nArkansas                    17.0\nCalifornia                  24.0\nColorado                    29.0\nConnecticut                 21.0\nDelaware                    47.0\nDistrict of Columbia        40.0\nFlorida                     11.0\nGeorgia                     49.0\nHawaii                       4.0\nIdaho                        5.0\nIllinois                    10.0\nIndiana                     37.0\nIowa                        20.0\nKansas                      16.0\nKentucky                    25.0\nLouisiana                   26.0\nMaine                        3.0\nMaryland                    32.0\nMassachusetts               38.0\nMichigan                    50.0\nMinnesota                   30.0\nMississippi                 18.0\nMissouri                    33.0\nMontana                     51.0\nNebraska                     6.0\nNevada                      14.0\nNew Hampshire                2.0\nNew Jersey                  45.0\nNew Mexico                  13.0\nNew York                    12.0\nNorth Carolina              48.0\nNorth Dakota                42.0\nOhio                         8.0\nOklahoma                    22.0\nOregon                      23.0\nPennsylvania                 9.0\nRhode Island                 1.0\nSouth Carolina              27.0\nSouth Dakota                46.0\nTennessee                   35.0\nTexas                       19.0\nUtah                        15.0\nVermont                     41.0\nVirginia                    44.0\nWashington                  39.0\nWest Virginia                7.0\nWisconsin                   31.0\nWyoming                     34.0",
      "text/html": "<div>\n<style scoped>\n    .dataframe tbody tr th:only-of-type {\n        vertical-align: middle;\n    }\n\n    .dataframe tbody tr th {\n        vertical-align: top;\n    }\n\n    .dataframe thead th {\n        text-align: right;\n    }\n</style>\n<table border=\"1\" class=\"dataframe\">\n  <thead>\n    <tr style=\"text-align: right;\">\n      <th></th>\n      <th>Population</th>\n    </tr>\n    <tr>\n      <th>State</th>\n      <th></th>\n    </tr>\n  </thead>\n  <tbody>\n    <tr>\n      <th>Alabama</th>\n      <td>28.0</td>\n    </tr>\n    <tr>\n      <th>Alaska</th>\n      <td>43.0</td>\n    </tr>\n    <tr>\n      <th>Arizona</th>\n      <td>36.0</td>\n    </tr>\n    <tr>\n      <th>Arkansas</th>\n      <td>17.0</td>\n    </tr>\n    <tr>\n      <th>California</th>\n      <td>24.0</td>\n    </tr>\n    <tr>\n      <th>Colorado</th>\n      <td>29.0</td>\n    </tr>\n    <tr>\n      <th>Connecticut</th>\n      <td>21.0</td>\n    </tr>\n    <tr>\n      <th>Delaware</th>\n      <td>47.0</td>\n    </tr>\n    <tr>\n      <th>District of Columbia</th>\n      <td>40.0</td>\n    </tr>\n    <tr>\n      <th>Florida</th>\n      <td>11.0</td>\n    </tr>\n    <tr>\n      <th>Georgia</th>\n      <td>49.0</td>\n    </tr>\n    <tr>\n      <th>Hawaii</th>\n      <td>4.0</td>\n    </tr>\n    <tr>\n      <th>Idaho</th>\n      <td>5.0</td>\n    </tr>\n    <tr>\n      <th>Illinois</th>\n      <td>10.0</td>\n    </tr>\n    <tr>\n      <th>Indiana</th>\n      <td>37.0</td>\n    </tr>\n    <tr>\n      <th>Iowa</th>\n      <td>20.0</td>\n    </tr>\n    <tr>\n      <th>Kansas</th>\n      <td>16.0</td>\n    </tr>\n    <tr>\n      <th>Kentucky</th>\n      <td>25.0</td>\n    </tr>\n    <tr>\n      <th>Louisiana</th>\n      <td>26.0</td>\n    </tr>\n    <tr>\n      <th>Maine</th>\n      <td>3.0</td>\n    </tr>\n    <tr>\n      <th>Maryland</th>\n      <td>32.0</td>\n    </tr>\n    <tr>\n      <th>Massachusetts</th>\n      <td>38.0</td>\n    </tr>\n    <tr>\n      <th>Michigan</th>\n      <td>50.0</td>\n    </tr>\n    <tr>\n      <th>Minnesota</th>\n      <td>30.0</td>\n    </tr>\n    <tr>\n      <th>Mississippi</th>\n      <td>18.0</td>\n    </tr>\n    <tr>\n      <th>Missouri</th>\n      <td>33.0</td>\n    </tr>\n    <tr>\n      <th>Montana</th>\n      <td>51.0</td>\n    </tr>\n    <tr>\n      <th>Nebraska</th>\n      <td>6.0</td>\n    </tr>\n    <tr>\n      <th>Nevada</th>\n      <td>14.0</td>\n    </tr>\n    <tr>\n      <th>New Hampshire</th>\n      <td>2.0</td>\n    </tr>\n    <tr>\n      <th>New Jersey</th>\n      <td>45.0</td>\n    </tr>\n    <tr>\n      <th>New Mexico</th>\n      <td>13.0</td>\n    </tr>\n    <tr>\n      <th>New York</th>\n      <td>12.0</td>\n    </tr>\n    <tr>\n      <th>North Carolina</th>\n      <td>48.0</td>\n    </tr>\n    <tr>\n      <th>North Dakota</th>\n      <td>42.0</td>\n    </tr>\n    <tr>\n      <th>Ohio</th>\n      <td>8.0</td>\n    </tr>\n    <tr>\n      <th>Oklahoma</th>\n      <td>22.0</td>\n    </tr>\n    <tr>\n      <th>Oregon</th>\n      <td>23.0</td>\n    </tr>\n    <tr>\n      <th>Pennsylvania</th>\n      <td>9.0</td>\n    </tr>\n    <tr>\n      <th>Rhode Island</th>\n      <td>1.0</td>\n    </tr>\n    <tr>\n      <th>South Carolina</th>\n      <td>27.0</td>\n    </tr>\n    <tr>\n      <th>South Dakota</th>\n      <td>46.0</td>\n    </tr>\n    <tr>\n      <th>Tennessee</th>\n      <td>35.0</td>\n    </tr>\n    <tr>\n      <th>Texas</th>\n      <td>19.0</td>\n    </tr>\n    <tr>\n      <th>Utah</th>\n      <td>15.0</td>\n    </tr>\n    <tr>\n      <th>Vermont</th>\n      <td>41.0</td>\n    </tr>\n    <tr>\n      <th>Virginia</th>\n      <td>44.0</td>\n    </tr>\n    <tr>\n      <th>Washington</th>\n      <td>39.0</td>\n    </tr>\n    <tr>\n      <th>West Virginia</th>\n      <td>7.0</td>\n    </tr>\n    <tr>\n      <th>Wisconsin</th>\n      <td>31.0</td>\n    </tr>\n    <tr>\n      <th>Wyoming</th>\n      <td>34.0</td>\n    </tr>\n  </tbody>\n</table>\n</div>"
     },
     "execution_count": 16,
     "metadata": {},
     "output_type": "execute_result"
    }
   ],
   "source": [
    "#데이터 정렬, 인덱스 기준\n",
    "popul.sort_index().head()\n",
    "\n",
    "#값 기준. 오름 차순\n",
    "popul.sort_values(\"Population\").head()\n",
    "\n",
    "#숫자값에서 평균적인 순위를 할당\n",
    "popul.rank()"
   ],
   "metadata": {
    "collapsed": false,
    "pycharm": {
     "name": "#%%\n"
    }
   }
  },
  {
   "cell_type": "code",
   "execution_count": 17,
   "outputs": [
    {
     "data": {
      "text/plain": "Beer       0.70\nWine       0.10\nSpirits    0.45\nTotal      1.33\ndtype: float64"
     },
     "execution_count": 17,
     "metadata": {},
     "output_type": "execute_result"
    }
   ],
   "source": [
    "#기술통계 제일 큰수, 표준편차, 제일 작은 수, 모든 수의 합 등등\n",
    "alco2009.max()\n",
    "alco2009.sum()\n",
    "#수직으로 함수를 적용해야 계산이 가능...\n",
    "alco2009.min(axis=0)\n"
   ],
   "metadata": {
    "collapsed": false,
    "pycharm": {
     "name": "#%%\n"
    }
   }
  },
  {
   "cell_type": "code",
   "execution_count": 18,
   "outputs": [
    {
     "data": {
      "text/plain": "      Beer  Wine  Spirits  Total\nYear                            \n1977  1.61  0.36     1.26   3.23\n1978  1.38  0.46     1.30   3.14\n1979  1.60  0.44     1.28   3.32\n1980  1.65  0.46     1.21   3.32\n1981  1.74  0.44     1.16   3.34\n1982  1.80  0.48     1.14   3.42\n1983  1.87  0.44     1.12   3.43\n1984  1.65  0.41     0.91   2.97\n1985  1.59  0.41     0.88   2.88\n1986  1.60  0.44     0.85   2.89\n1987  1.57  0.40     0.76   2.73\n1988  1.62  0.45     0.79   2.86\n1989  1.54  0.43     0.79   2.76\n1990  1.64  0.40     0.79   2.83\n1991  1.57  0.40     0.70   2.67\n1992  1.55  0.39     0.69   2.63\n1993  1.49  0.37     0.65   2.51\n1994  1.46  0.38     0.62   2.46\n1995  1.41  0.34     0.57   2.32\n1996  1.40  0.36     0.58   2.34\n1997  1.37  0.37     0.56   2.30\n1998  1.32  0.37     0.54   2.23\n1999  1.31  0.39     0.56   2.26\n2000  1.33  0.39     0.60   2.32\n2001  1.30  0.38     0.60   2.28\n2002  1.27  0.39     0.62   2.28\n2003  1.30  0.42     0.67   2.39\n2004  1.39  0.49     0.68   2.56\n2005  1.32  0.46     0.74   2.52\n2006  1.30  0.48     0.78   2.56\n2007  1.34  0.49     0.80   2.63\n2008  1.35  0.52     0.74   2.61\n2009  1.30  0.53     0.75   2.58",
      "text/html": "<div>\n<style scoped>\n    .dataframe tbody tr th:only-of-type {\n        vertical-align: middle;\n    }\n\n    .dataframe tbody tr th {\n        vertical-align: top;\n    }\n\n    .dataframe thead th {\n        text-align: right;\n    }\n</style>\n<table border=\"1\" class=\"dataframe\">\n  <thead>\n    <tr style=\"text-align: right;\">\n      <th></th>\n      <th>Beer</th>\n      <th>Wine</th>\n      <th>Spirits</th>\n      <th>Total</th>\n    </tr>\n    <tr>\n      <th>Year</th>\n      <th></th>\n      <th></th>\n      <th></th>\n      <th></th>\n    </tr>\n  </thead>\n  <tbody>\n    <tr>\n      <th>1977</th>\n      <td>1.61</td>\n      <td>0.36</td>\n      <td>1.26</td>\n      <td>3.23</td>\n    </tr>\n    <tr>\n      <th>1978</th>\n      <td>1.38</td>\n      <td>0.46</td>\n      <td>1.30</td>\n      <td>3.14</td>\n    </tr>\n    <tr>\n      <th>1979</th>\n      <td>1.60</td>\n      <td>0.44</td>\n      <td>1.28</td>\n      <td>3.32</td>\n    </tr>\n    <tr>\n      <th>1980</th>\n      <td>1.65</td>\n      <td>0.46</td>\n      <td>1.21</td>\n      <td>3.32</td>\n    </tr>\n    <tr>\n      <th>1981</th>\n      <td>1.74</td>\n      <td>0.44</td>\n      <td>1.16</td>\n      <td>3.34</td>\n    </tr>\n    <tr>\n      <th>1982</th>\n      <td>1.80</td>\n      <td>0.48</td>\n      <td>1.14</td>\n      <td>3.42</td>\n    </tr>\n    <tr>\n      <th>1983</th>\n      <td>1.87</td>\n      <td>0.44</td>\n      <td>1.12</td>\n      <td>3.43</td>\n    </tr>\n    <tr>\n      <th>1984</th>\n      <td>1.65</td>\n      <td>0.41</td>\n      <td>0.91</td>\n      <td>2.97</td>\n    </tr>\n    <tr>\n      <th>1985</th>\n      <td>1.59</td>\n      <td>0.41</td>\n      <td>0.88</td>\n      <td>2.88</td>\n    </tr>\n    <tr>\n      <th>1986</th>\n      <td>1.60</td>\n      <td>0.44</td>\n      <td>0.85</td>\n      <td>2.89</td>\n    </tr>\n    <tr>\n      <th>1987</th>\n      <td>1.57</td>\n      <td>0.40</td>\n      <td>0.76</td>\n      <td>2.73</td>\n    </tr>\n    <tr>\n      <th>1988</th>\n      <td>1.62</td>\n      <td>0.45</td>\n      <td>0.79</td>\n      <td>2.86</td>\n    </tr>\n    <tr>\n      <th>1989</th>\n      <td>1.54</td>\n      <td>0.43</td>\n      <td>0.79</td>\n      <td>2.76</td>\n    </tr>\n    <tr>\n      <th>1990</th>\n      <td>1.64</td>\n      <td>0.40</td>\n      <td>0.79</td>\n      <td>2.83</td>\n    </tr>\n    <tr>\n      <th>1991</th>\n      <td>1.57</td>\n      <td>0.40</td>\n      <td>0.70</td>\n      <td>2.67</td>\n    </tr>\n    <tr>\n      <th>1992</th>\n      <td>1.55</td>\n      <td>0.39</td>\n      <td>0.69</td>\n      <td>2.63</td>\n    </tr>\n    <tr>\n      <th>1993</th>\n      <td>1.49</td>\n      <td>0.37</td>\n      <td>0.65</td>\n      <td>2.51</td>\n    </tr>\n    <tr>\n      <th>1994</th>\n      <td>1.46</td>\n      <td>0.38</td>\n      <td>0.62</td>\n      <td>2.46</td>\n    </tr>\n    <tr>\n      <th>1995</th>\n      <td>1.41</td>\n      <td>0.34</td>\n      <td>0.57</td>\n      <td>2.32</td>\n    </tr>\n    <tr>\n      <th>1996</th>\n      <td>1.40</td>\n      <td>0.36</td>\n      <td>0.58</td>\n      <td>2.34</td>\n    </tr>\n    <tr>\n      <th>1997</th>\n      <td>1.37</td>\n      <td>0.37</td>\n      <td>0.56</td>\n      <td>2.30</td>\n    </tr>\n    <tr>\n      <th>1998</th>\n      <td>1.32</td>\n      <td>0.37</td>\n      <td>0.54</td>\n      <td>2.23</td>\n    </tr>\n    <tr>\n      <th>1999</th>\n      <td>1.31</td>\n      <td>0.39</td>\n      <td>0.56</td>\n      <td>2.26</td>\n    </tr>\n    <tr>\n      <th>2000</th>\n      <td>1.33</td>\n      <td>0.39</td>\n      <td>0.60</td>\n      <td>2.32</td>\n    </tr>\n    <tr>\n      <th>2001</th>\n      <td>1.30</td>\n      <td>0.38</td>\n      <td>0.60</td>\n      <td>2.28</td>\n    </tr>\n    <tr>\n      <th>2002</th>\n      <td>1.27</td>\n      <td>0.39</td>\n      <td>0.62</td>\n      <td>2.28</td>\n    </tr>\n    <tr>\n      <th>2003</th>\n      <td>1.30</td>\n      <td>0.42</td>\n      <td>0.67</td>\n      <td>2.39</td>\n    </tr>\n    <tr>\n      <th>2004</th>\n      <td>1.39</td>\n      <td>0.49</td>\n      <td>0.68</td>\n      <td>2.56</td>\n    </tr>\n    <tr>\n      <th>2005</th>\n      <td>1.32</td>\n      <td>0.46</td>\n      <td>0.74</td>\n      <td>2.52</td>\n    </tr>\n    <tr>\n      <th>2006</th>\n      <td>1.30</td>\n      <td>0.48</td>\n      <td>0.78</td>\n      <td>2.56</td>\n    </tr>\n    <tr>\n      <th>2007</th>\n      <td>1.34</td>\n      <td>0.49</td>\n      <td>0.80</td>\n      <td>2.63</td>\n    </tr>\n    <tr>\n      <th>2008</th>\n      <td>1.35</td>\n      <td>0.52</td>\n      <td>0.74</td>\n      <td>2.61</td>\n    </tr>\n    <tr>\n      <th>2009</th>\n      <td>1.30</td>\n      <td>0.53</td>\n      <td>0.75</td>\n      <td>2.58</td>\n    </tr>\n  </tbody>\n</table>\n</div>"
     },
     "execution_count": 18,
     "metadata": {},
     "output_type": "execute_result"
    }
   ],
   "source": [
    "alco = pd.read_csv(\"niaaa-report.csv\", index_col=[\"State\",\"Year\"])\n",
    "\n",
    "\n",
    "alco['Total']=alco.Beer + alco.Wine + alco.Spirits\n",
    "alco\n",
    "#나중에 사용하기위해 저장\n",
    "import pickle\n",
    "with open(\"alco.pickle\",\"wb\") as oFile:\n",
    "    pickle.dump(alco, oFile)\n",
    "\n",
    "#하와이의 누적 합을 계산.\n",
    "\n",
    "alco.loc['Hawaii']"
   ],
   "metadata": {
    "collapsed": false,
    "pycharm": {
     "name": "#%%\n"
    }
   }
  },
  {
   "cell_type": "code",
   "execution_count": 19,
   "outputs": [
    {
     "data": {
      "text/plain": "      Beer  Wine  Spirits         Total\nYear                                   \n1977   NaN   NaN      NaN           NaN\n1978 -0.23  0.10     0.04 -9.000000e-02\n1979  0.22 -0.02    -0.02  1.800000e-01\n1980  0.05  0.02    -0.07 -4.440892e-16\n1981  0.09 -0.02    -0.05  2.000000e-02\n1982  0.06  0.04    -0.02  8.000000e-02\n1983  0.07 -0.04    -0.02  1.000000e-02\n1984 -0.22 -0.03    -0.21 -4.600000e-01\n1985 -0.06  0.00    -0.03 -9.000000e-02\n1986  0.01  0.03    -0.03  1.000000e-02\n1987 -0.03 -0.04    -0.09 -1.600000e-01\n1988  0.05  0.05     0.03  1.300000e-01\n1989 -0.08 -0.02     0.00 -1.000000e-01\n1990  0.10 -0.03     0.00  7.000000e-02\n1991 -0.07  0.00    -0.09 -1.600000e-01\n1992 -0.02 -0.01    -0.01 -4.000000e-02\n1993 -0.06 -0.02    -0.04 -1.200000e-01\n1994 -0.03  0.01    -0.03 -5.000000e-02\n1995 -0.05 -0.04    -0.05 -1.400000e-01\n1996 -0.01  0.02     0.01  2.000000e-02\n1997 -0.03  0.01    -0.02 -4.000000e-02\n1998 -0.05  0.00    -0.02 -7.000000e-02\n1999 -0.01  0.02     0.02  3.000000e-02\n2000  0.02  0.00     0.04  6.000000e-02\n2001 -0.03 -0.01     0.00 -4.000000e-02\n2002 -0.03  0.01     0.02  0.000000e+00\n2003  0.03  0.03     0.05  1.100000e-01\n2004  0.09  0.07     0.01  1.700000e-01\n2005 -0.07 -0.03     0.06 -4.000000e-02\n2006 -0.02  0.02     0.04  4.000000e-02\n2007  0.04  0.01     0.02  7.000000e-02\n2008  0.01  0.03    -0.06 -2.000000e-02\n2009 -0.05  0.01     0.01 -3.000000e-02",
      "text/html": "<div>\n<style scoped>\n    .dataframe tbody tr th:only-of-type {\n        vertical-align: middle;\n    }\n\n    .dataframe tbody tr th {\n        vertical-align: top;\n    }\n\n    .dataframe thead th {\n        text-align: right;\n    }\n</style>\n<table border=\"1\" class=\"dataframe\">\n  <thead>\n    <tr style=\"text-align: right;\">\n      <th></th>\n      <th>Beer</th>\n      <th>Wine</th>\n      <th>Spirits</th>\n      <th>Total</th>\n    </tr>\n    <tr>\n      <th>Year</th>\n      <th></th>\n      <th></th>\n      <th></th>\n      <th></th>\n    </tr>\n  </thead>\n  <tbody>\n    <tr>\n      <th>1977</th>\n      <td>NaN</td>\n      <td>NaN</td>\n      <td>NaN</td>\n      <td>NaN</td>\n    </tr>\n    <tr>\n      <th>1978</th>\n      <td>-0.23</td>\n      <td>0.10</td>\n      <td>0.04</td>\n      <td>-9.000000e-02</td>\n    </tr>\n    <tr>\n      <th>1979</th>\n      <td>0.22</td>\n      <td>-0.02</td>\n      <td>-0.02</td>\n      <td>1.800000e-01</td>\n    </tr>\n    <tr>\n      <th>1980</th>\n      <td>0.05</td>\n      <td>0.02</td>\n      <td>-0.07</td>\n      <td>-4.440892e-16</td>\n    </tr>\n    <tr>\n      <th>1981</th>\n      <td>0.09</td>\n      <td>-0.02</td>\n      <td>-0.05</td>\n      <td>2.000000e-02</td>\n    </tr>\n    <tr>\n      <th>1982</th>\n      <td>0.06</td>\n      <td>0.04</td>\n      <td>-0.02</td>\n      <td>8.000000e-02</td>\n    </tr>\n    <tr>\n      <th>1983</th>\n      <td>0.07</td>\n      <td>-0.04</td>\n      <td>-0.02</td>\n      <td>1.000000e-02</td>\n    </tr>\n    <tr>\n      <th>1984</th>\n      <td>-0.22</td>\n      <td>-0.03</td>\n      <td>-0.21</td>\n      <td>-4.600000e-01</td>\n    </tr>\n    <tr>\n      <th>1985</th>\n      <td>-0.06</td>\n      <td>0.00</td>\n      <td>-0.03</td>\n      <td>-9.000000e-02</td>\n    </tr>\n    <tr>\n      <th>1986</th>\n      <td>0.01</td>\n      <td>0.03</td>\n      <td>-0.03</td>\n      <td>1.000000e-02</td>\n    </tr>\n    <tr>\n      <th>1987</th>\n      <td>-0.03</td>\n      <td>-0.04</td>\n      <td>-0.09</td>\n      <td>-1.600000e-01</td>\n    </tr>\n    <tr>\n      <th>1988</th>\n      <td>0.05</td>\n      <td>0.05</td>\n      <td>0.03</td>\n      <td>1.300000e-01</td>\n    </tr>\n    <tr>\n      <th>1989</th>\n      <td>-0.08</td>\n      <td>-0.02</td>\n      <td>0.00</td>\n      <td>-1.000000e-01</td>\n    </tr>\n    <tr>\n      <th>1990</th>\n      <td>0.10</td>\n      <td>-0.03</td>\n      <td>0.00</td>\n      <td>7.000000e-02</td>\n    </tr>\n    <tr>\n      <th>1991</th>\n      <td>-0.07</td>\n      <td>0.00</td>\n      <td>-0.09</td>\n      <td>-1.600000e-01</td>\n    </tr>\n    <tr>\n      <th>1992</th>\n      <td>-0.02</td>\n      <td>-0.01</td>\n      <td>-0.01</td>\n      <td>-4.000000e-02</td>\n    </tr>\n    <tr>\n      <th>1993</th>\n      <td>-0.06</td>\n      <td>-0.02</td>\n      <td>-0.04</td>\n      <td>-1.200000e-01</td>\n    </tr>\n    <tr>\n      <th>1994</th>\n      <td>-0.03</td>\n      <td>0.01</td>\n      <td>-0.03</td>\n      <td>-5.000000e-02</td>\n    </tr>\n    <tr>\n      <th>1995</th>\n      <td>-0.05</td>\n      <td>-0.04</td>\n      <td>-0.05</td>\n      <td>-1.400000e-01</td>\n    </tr>\n    <tr>\n      <th>1996</th>\n      <td>-0.01</td>\n      <td>0.02</td>\n      <td>0.01</td>\n      <td>2.000000e-02</td>\n    </tr>\n    <tr>\n      <th>1997</th>\n      <td>-0.03</td>\n      <td>0.01</td>\n      <td>-0.02</td>\n      <td>-4.000000e-02</td>\n    </tr>\n    <tr>\n      <th>1998</th>\n      <td>-0.05</td>\n      <td>0.00</td>\n      <td>-0.02</td>\n      <td>-7.000000e-02</td>\n    </tr>\n    <tr>\n      <th>1999</th>\n      <td>-0.01</td>\n      <td>0.02</td>\n      <td>0.02</td>\n      <td>3.000000e-02</td>\n    </tr>\n    <tr>\n      <th>2000</th>\n      <td>0.02</td>\n      <td>0.00</td>\n      <td>0.04</td>\n      <td>6.000000e-02</td>\n    </tr>\n    <tr>\n      <th>2001</th>\n      <td>-0.03</td>\n      <td>-0.01</td>\n      <td>0.00</td>\n      <td>-4.000000e-02</td>\n    </tr>\n    <tr>\n      <th>2002</th>\n      <td>-0.03</td>\n      <td>0.01</td>\n      <td>0.02</td>\n      <td>0.000000e+00</td>\n    </tr>\n    <tr>\n      <th>2003</th>\n      <td>0.03</td>\n      <td>0.03</td>\n      <td>0.05</td>\n      <td>1.100000e-01</td>\n    </tr>\n    <tr>\n      <th>2004</th>\n      <td>0.09</td>\n      <td>0.07</td>\n      <td>0.01</td>\n      <td>1.700000e-01</td>\n    </tr>\n    <tr>\n      <th>2005</th>\n      <td>-0.07</td>\n      <td>-0.03</td>\n      <td>0.06</td>\n      <td>-4.000000e-02</td>\n    </tr>\n    <tr>\n      <th>2006</th>\n      <td>-0.02</td>\n      <td>0.02</td>\n      <td>0.04</td>\n      <td>4.000000e-02</td>\n    </tr>\n    <tr>\n      <th>2007</th>\n      <td>0.04</td>\n      <td>0.01</td>\n      <td>0.02</td>\n      <td>7.000000e-02</td>\n    </tr>\n    <tr>\n      <th>2008</th>\n      <td>0.01</td>\n      <td>0.03</td>\n      <td>-0.06</td>\n      <td>-2.000000e-02</td>\n    </tr>\n    <tr>\n      <th>2009</th>\n      <td>-0.05</td>\n      <td>0.01</td>\n      <td>0.01</td>\n      <td>-3.000000e-02</td>\n    </tr>\n  </tbody>\n</table>\n</div>"
     },
     "execution_count": 19,
     "metadata": {},
     "output_type": "execute_result"
    }
   ],
   "source": [
    "#바로 위 아래의 데이터끼리 비교. 당연히 첫번째 행은 안됨.\n",
    "alco.loc['Hawaii'].diff()"
   ],
   "metadata": {
    "collapsed": false,
    "pycharm": {
     "name": "#%%\n"
    }
   }
  },
  {
   "cell_type": "code",
   "execution_count": 22,
   "outputs": [
    {
     "data": {
      "text/plain": "A    5\nC    6\nG    7\nT    4\nName: gennes, dtype: int64"
     },
     "execution_count": 22,
     "metadata": {},
     "output_type": "execute_result"
    }
   ],
   "source": [
    "# 시리즈를 셋으로 취급하기\n",
    "dna=\"AGTCCGCGAATACAGGCTCGGT\"\n",
    "dna_as_seris=pd.Series(list(dna), name=\"gennes\")\n",
    "dna_as_seris.head()\n",
    "\n",
    "#등장하는 문자열 종류를 반환\n",
    "dna_as_seris.unique()\n",
    "\n",
    "#빈도수 계산\n",
    "dna_as_seris.value_counts().sort_index()\n",
    "\n"
   ],
   "metadata": {
    "collapsed": false,
    "pycharm": {
     "name": "#%%\n"
    }
   }
  }
 ],
 "metadata": {
  "kernelspec": {
   "display_name": "Python 3",
   "language": "python",
   "name": "python3"
  },
  "language_info": {
   "codemirror_mode": {
    "name": "ipython",
    "version": 2
   },
   "file_extension": ".py",
   "mimetype": "text/x-python",
   "name": "python",
   "nbconvert_exporter": "python",
   "pygments_lexer": "ipython2",
   "version": "2.7.6"
  }
 },
 "nbformat": 4,
 "nbformat_minor": 0
}