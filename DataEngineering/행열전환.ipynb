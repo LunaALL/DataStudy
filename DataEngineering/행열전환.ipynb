{
 "cells": [
  {
   "cell_type": "code",
   "execution_count": 35,
   "metadata": {
    "collapsed": true,
    "pycharm": {
     "name": "#%%\n"
    }
   },
   "outputs": [
    {
     "name": "stdout",
     "output_type": "stream",
     "text": [
      "[[['MMM' 'ABT']\n",
      "  ['ABBV' 'ACN']]\n",
      "\n",
      " [['ACE' 'ATVI']\n",
      "  ['ADBE' 'ADT']]]\n",
      "[[['MMM' 'ABBV']\n",
      "  ['ABT' 'ACN']]\n",
      "\n",
      " [['ACE' 'ADBE']\n",
      "  ['ATVI' 'ADT']]]\n"
     ]
    }
   ],
   "source": [
    "import numpy as np\n",
    "\n",
    "sap = np.array([\"MMM\",\"ABT\",\"ABBV\",\"ACN\",\"ACE\",\"ATVI\",\"ADBE\",\"ADT\"])\n",
    "sap\n",
    "\n",
    "sap2d= sap.reshape(2,4)\n",
    "sap3d=sap.reshape(2,2,2)\n",
    "print(sap3d )\n",
    "#2차원 배열에 0번과 1번 축을 파라미터로 전달하여 전치.\n",
    "\n",
    "print(sap3d.swapaxes(1,2))"
   ]
  },
  {
   "cell_type": "code",
   "execution_count": 24,
   "outputs": [
    {
     "data": {
      "text/plain": "array([9., 4., 1., 0., 0., 0.])"
     },
     "execution_count": 24,
     "metadata": {},
     "output_type": "execute_result"
    }
   ],
   "source": [
    "#데이터 클리닝 작업을 해봅시다\n",
    "\n",
    "dirty=np.array([9 ,4 ,1 ,-11 ,-0.02 ,-0.05])\n",
    "whoisdirty=dirty < 0\n",
    "whoisdirty\n",
    "\n",
    "#0보다 작은 이상데이터의 값에 0을 넣는다.\n",
    "dirty[whoisdirty]=0\n",
    "dirty"
   ],
   "metadata": {
    "collapsed": false,
    "pycharm": {
     "name": "#%%\n"
    }
   }
  },
  {
   "cell_type": "code",
   "execution_count": 28,
   "outputs": [
    {
     "data": {
      "text/plain": "array([1.])"
     },
     "execution_count": 28,
     "metadata": {},
     "output_type": "execute_result"
    }
   ],
   "source": [
    "clearArr= (dirty > 0) & (dirty <4)\n",
    "clearArr\n",
    "\n",
    "\n",
    "dirty[clearArr]"
   ],
   "metadata": {
    "collapsed": false,
    "pycharm": {
     "name": "#%%\n"
    }
   }
  },
  {
   "cell_type": "code",
   "execution_count": 36,
   "outputs": [
    {
     "data": {
      "text/plain": "array(['ABT', 'ABBV', 'ADT'], dtype='<U4')"
     },
     "execution_count": 36,
     "metadata": {},
     "output_type": "execute_result"
    }
   ],
   "source": [
    "#2번째, 3번째, 마지막 주식 기호\n",
    "sap[[1,2,-1 ]]"
   ],
   "metadata": {
    "collapsed": false,
    "pycharm": {
     "name": "#%%\n"
    }
   }
  }
 ],
 "metadata": {
  "kernelspec": {
   "display_name": "Python 3",
   "language": "python",
   "name": "python3"
  },
  "language_info": {
   "codemirror_mode": {
    "name": "ipython",
    "version": 2
   },
   "file_extension": ".py",
   "mimetype": "text/x-python",
   "name": "python",
   "nbconvert_exporter": "python",
   "pygments_lexer": "ipython2",
   "version": "2.7.6"
  }
 },
 "nbformat": 4,
 "nbformat_minor": 0
}