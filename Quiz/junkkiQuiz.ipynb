{
 "cells": [
  {
   "cell_type": "code",
   "execution_count": 5,
   "metadata": {
    "collapsed": true
   },
   "outputs": [
    {
     "name": "stdout",
     "output_type": "stream",
     "text": [
      "123\n",
      "321\n"
     ]
    }
   ],
   "source": [
    "#과제 2) 숫자 2개를 입력받아서 출력하는 코드를 구현하시오.\n",
    "\n",
    "\n",
    "num=input(\"숫자 첫번째 입력\")\n",
    "num2=input(\"숫자 두번째 입력\")\n",
    "print(\"%s\" % num)\n",
    "print(\"%s\" % num2)\n"
   ]
  },
  {
   "cell_type": "code",
   "execution_count": 37,
   "outputs": [
    {
     "name": "stdout",
     "output_type": "stream",
     "text": [
      "Hong Gil Dong   \n",
      "Hong Gil Dong\n",
      "Hong Gil Dong\n",
      "Hong Gil Dong\n"
     ]
    }
   ],
   "source": [
    "#과제 3)\n",
    "\n",
    "string1 = 'hong gil dong   '\n",
    "string2 = '   hong gil dong   '\n",
    "string3 = '   hong gil dong'\n",
    "\n",
    "print(string1.title())\n",
    "\n",
    "def chagneString(input_string) :\n",
    "    #---> Start Your Code\n",
    "    temp=input_string.strip()\n",
    "    temp=temp.split()\n",
    "    str1=temp[0].capitalize()\n",
    "    str2=temp[1].capitalize()\n",
    "    str3=temp[2].capitalize()\n",
    "\n",
    "    return str1+ \" \" +str2 + \" \" + str3\n",
    "\n",
    "#---> Finish Your Code\n",
    "result1 = chagneString(string1)\n",
    "result2 = chagneString(string2)\n",
    "result3 = chagneString(string3)\n",
    "\n",
    "print(result1)\n",
    "print(result2)\n",
    "print(result3)\n"
   ],
   "metadata": {
    "collapsed": false,
    "pycharm": {
     "name": "#%%\n"
    }
   }
  },
  {
   "cell_type": "code",
   "execution_count": 41,
   "outputs": [
    {
     "name": "stdout",
     "output_type": "stream",
     "text": [
      "\n",
      "[Problem #4]\n",
      "\n",
      "Hi!!KIMWOOYONG\n"
     ]
    }
   ],
   "source": [
    "# 과제 4) 사용자로부터 이름을 입력받은 후, 모두 대문자로 바꾸고,\n",
    "#        앞에 Hi를 붙여서 반환(return)하는 함수를 작성하세요.\n",
    "# 조건 1) 이름을 모두 대문자로 바꾸는 문자열함수 사용\n",
    "#     2) 이름과 인사말을 연결하는 문자열연산 사용\n",
    "\n",
    "print('\\n[Problem #4]\\n')\n",
    "\n",
    "# 이름을 입력받아서 대문자로 바꿔주는 함수 작성\n",
    "#\n",
    "def greet(name) :\n",
    "#---> Start Your Code\n",
    "    name=name.upper()\n",
    "    return \"Hi!!\"+name\n",
    "#---> Finish Your Code\n",
    "\n",
    "\n",
    "# 사용자로부터 출력할 이름 입력받아서 변수 n에 할당\n",
    "# input함수는 문자열 타입을 리턴\n",
    "\n",
    "name = input(\"좋은 말할때 이름 적어라\")\n",
    "\n",
    "# 입력받은 이름 출력하기\n",
    "print(greet(name))\n",
    "\n"
   ],
   "metadata": {
    "collapsed": false,
    "pycharm": {
     "name": "#%%\n"
    }
   }
  },
  {
   "cell_type": "code",
   "execution_count": 43,
   "outputs": [
    {
     "name": "stdout",
     "output_type": "stream",
     "text": [
      "\n",
      "[Problem #5]\n",
      "\n",
      "Answer =  35\n"
     ]
    }
   ],
   "source": [
    "########################################################\n",
    "#\n",
    "# 과제 5) 더하기(Addition)함수를 만드시오.\n",
    "#\n",
    "########################################################\n",
    "\n",
    "print('\\n[Problem #5]\\n')\n",
    "\n",
    "\n",
    "# 더하기함수 정의\n",
    "# hint: 형변환함수 사용 (숫자더하기)\n",
    "def Addition(num1, num2):\n",
    "#---> Start Your Code\n",
    "\n",
    "    return int(num1)+int(num2)\n",
    "#---> Finish Your Code\n",
    "\n",
    "\n",
    "\n",
    "\n",
    "# 사용자로부터 2개의 숫자 입력 받기\n",
    "first_number = input('Input 1st Number:')\n",
    "second_number = input('Input 2nd Number:')\n",
    "\n",
    "\n",
    "# Add함수를 이용하여 더하기한 후, 결과 출력하기\n",
    "print('Answer = ', Addition(first_number, second_number))\n",
    "\n",
    "\n",
    "\n",
    "########################################################\n",
    "#\n",
    "#  수고하셨습니다.\n",
    "#\n",
    "########################################################"
   ],
   "metadata": {
    "collapsed": false,
    "pycharm": {
     "name": "#%%\n"
    }
   }
  }
 ],
 "metadata": {
  "kernelspec": {
   "display_name": "Python 3",
   "language": "python",
   "name": "python3"
  },
  "language_info": {
   "codemirror_mode": {
    "name": "ipython",
    "version": 2
   },
   "file_extension": ".py",
   "mimetype": "text/x-python",
   "name": "python",
   "nbconvert_exporter": "python",
   "pygments_lexer": "ipython2",
   "version": "2.7.6"
  }
 },
 "nbformat": 4,
 "nbformat_minor": 0
}