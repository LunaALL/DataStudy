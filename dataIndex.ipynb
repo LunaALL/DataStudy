{
 "cells": [
  {
   "cell_type": "code",
   "execution_count": 5,
   "metadata": {
    "collapsed": true,
    "pycharm": {
     "name": "#%%\n"
    }
   },
   "outputs": [],
   "source": [
    "import urllib.parse\n",
    "\n",
    "try:\n",
    "    URL=\"https://cafe.naver.com/dokchi/10426232\"\n",
    "    urllib.parse.urlparse(URL)\n",
    "except:\n",
    "    print(\"Could not open\")"
   ]
  },
  {
   "cell_type": "code",
   "execution_count": 2,
   "outputs": [
    {
     "data": {
      "text/plain": "['inlist.py', 'Sumone.py', 'test.py']"
     },
     "execution_count": 2,
     "metadata": {},
     "output_type": "execute_result"
    }
   ],
   "source": [
    "# 파일과 기타 스트링 다루기 11 인자값 끝은 형식. *와일드 카드 사용\n",
    "\n",
    "import glob\n",
    "glob.glob(\"*.py\")"
   ],
   "metadata": {
    "collapsed": false,
    "pycharm": {
     "name": "#%%\n"
    }
   }
  },
  {
   "cell_type": "code",
   "execution_count": 3,
   "outputs": [],
   "source": [
    "#피클 만들기. 객체를 저장.\n",
    "import  pickle\n",
    "mylist=[\"테스트1\", \"테스트2\", \"테스트3\", \"테스트4\"]\n",
    "with open(\"myData.pickle\",\"wb\") as oFile:\n",
    "    pickle.dump(mylist,oFile)\n",
    "\n",
    "\n"
   ],
   "metadata": {
    "collapsed": false,
    "pycharm": {
     "name": "#%%\n"
    }
   }
  },
  {
   "cell_type": "code",
   "execution_count": 6,
   "outputs": [
    {
     "name": "stdout",
     "output_type": "stream",
     "text": [
      "['테스트1', '테스트2', '테스트3', '테스트4']\n"
     ]
    }
   ],
   "source": [
    "#피클 가져오기\n",
    "import pickle\n",
    "with open(\"myData.pickle\",\"rb\") as iFile:\n",
    "    list=pickle.load(iFile)\n",
    "\n",
    "print(list)"
   ],
   "metadata": {
    "collapsed": false,
    "pycharm": {
     "name": "#%%\n"
    }
   }
  }
 ],
 "metadata": {
  "kernelspec": {
   "display_name": "Python 3",
   "language": "python",
   "name": "python3"
  },
  "language_info": {
   "codemirror_mode": {
    "name": "ipython",
    "version": 2
   },
   "file_extension": ".py",
   "mimetype": "text/x-python",
   "name": "python",
   "nbconvert_exporter": "python",
   "pygments_lexer": "ipython2",
   "version": "2.7.6"
  }
 },
 "nbformat": 4,
 "nbformat_minor": 0
}